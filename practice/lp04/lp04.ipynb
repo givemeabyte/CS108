{
  "cells": [
    {
      "metadata": {},
      "cell_type": "markdown",
      "source": "# Assignment 4: Functions, Histograms, and Groups"
    },
    {
      "metadata": {},
      "cell_type": "markdown",
      "source": "**Reading**: \n\n* [Visualizing Numerical Distributions](https://www.inferentialthinking.com/chapters/07/2/visualizing-numerical-distributions.html) \n* [Functions and Tables](https://www.inferentialthinking.com/chapters/08/functions-and-tables.html)"
    },
    {
      "metadata": {
        "collapsed": true,
        "trusted": false
      },
      "cell_type": "code",
      "source": "# Don't change this cell; just run it. \n!pip install okpy\n!pip install datascience\nimport numpy as np\nfrom datascience import *\n\n# These lines do some fancy plotting magic.\\n\",\nimport matplotlib\n%matplotlib inline\nimport matplotlib.pyplot as plt\nplt.style.use('fivethirtyeight')\n\nfrom client.api.notebook import Notebook\nok = Notebook('lp04.ok')",
      "execution_count": null,
      "outputs": []
    },
    {
      "metadata": {},
      "cell_type": "markdown",
      "source": "## 1. Causes of Death by Year\n"
    },
    {
      "metadata": {},
      "cell_type": "markdown",
      "source": "This exercise is designed to give you practice using the Table method `pivot`. [Here](http://data8.org/sp19/python-reference.html) is a link to the Python reference page in case you need a quick refresher.\n\nWe'll be looking at a [dataset](http://www.healthdata.gov/dataset/leading-causes-death-zip-code-1999-2013) from the California Department of Public Health that records the cause of death, as recorded on a death certificate, for everyone who died in California from 1999 to 2013.  The data is in the file `causes_of_death.csv.zip`. Each row records the number of deaths by a specific cause in one year in one ZIP code.\n\nTo make the file smaller, we've compressed it; run the next cell to unzip and load it."
    },
    {
      "metadata": {
        "trusted": false
      },
      "cell_type": "code",
      "source": "!unzip -o causes_of_death.csv.zip\ncauses = Table.read_table('causes_of_death.csv')\ncauses",
      "execution_count": 5,
      "outputs": []
    },
    {
      "metadata": {},
      "cell_type": "markdown",
      "source": "The causes of death in the data are abbreviated.  We've provided a table called `abbreviations.csv` to translate the abbreviations."
    },
    {
      "metadata": {
        "trusted": false
      },
      "cell_type": "code",
      "source": "abbreviations = Table.read_table('abbreviations.csv')\nabbreviations.show()",
      "execution_count": 6,
      "outputs": []
    },
    {
      "metadata": {},
      "cell_type": "markdown",
      "source": "The dataset is missing data on certain causes of death, such as homicide and hypertensive renal disease, for certain years.  It looks like those causes of death are relatively rare, so for some purposes it makes sense to drop them from consideration.  Of course, we'll have to keep in mind that we're no longer looking at a comprehensive report on all deaths in California.\n\n**Question 1.** Let's clean up our data. First, filter out the HOM, HYP, and NEP rows from the table for the reasons described above. Next, join together the abbreviations table and our causes of death table so that we have a more detailed discription of each disease in each row. Lastly, drop the column which contains the acronym of the disease, and rename the column with the full description 'Cause of Death'. Assign the variable `cleaned_causes` to the resulting table. \n\n*Hint:* You should expect this to take more than one line. Use many lines and many intermediate tables to complete this question. "
    },
    {
      "metadata": {
        "deletable": false,
        "for_assignment_type": "student",
        "trusted": false
      },
      "cell_type": "code",
      "source": "cleaned_causes = ...\ncleaned_causes",
      "execution_count": 7,
      "outputs": []
    },
    {
      "metadata": {
        "deletable": false,
        "trusted": false
      },
      "cell_type": "code",
      "source": "_ = ok.grade('q1_1')",
      "execution_count": 6,
      "outputs": []
    },
    {
      "metadata": {},
      "cell_type": "markdown",
      "source": "We're going to examine the changes in causes of death over time.  To make a plot of those numbers, we need to have a table with one row per year, and the information about all the causes of death for each year.\n\n**Question 2.** Create a table with one row for each year and a column for each kind of death, where each cell contains the number of deaths by that cause in that year. Call the table `cleaned_causes_by_year`."
    },
    {
      "metadata": {
        "deletable": false,
        "for_assignment_type": "student",
        "trusted": false
      },
      "cell_type": "code",
      "source": "cleaned_causes_by_year = ...\ncleaned_causes_by_year.show(15)",
      "execution_count": 9,
      "outputs": []
    },
    {
      "metadata": {
        "deletable": false,
        "trusted": false
      },
      "cell_type": "code",
      "source": "_ = ok.grade('q1_2')",
      "execution_count": 10,
      "outputs": []
    },
    {
      "metadata": {},
      "cell_type": "markdown",
      "source": "**Question 3.** Make a plot of all the causes of death by year, using your cleaned-up version of the dataset.  There should be a single plot with one line per cause of death.\n\n*Hint:* Use the Table method `plot`.  If you pass only a single argument, a line will be made for each of the other columns."
    },
    {
      "metadata": {
        "deletable": false,
        "manual_problem_id": "causes_of_death_3",
        "trusted": false
      },
      "cell_type": "code",
      "source": "...",
      "execution_count": 11,
      "outputs": []
    },
    {
      "metadata": {},
      "cell_type": "markdown",
      "source": "After seeing the plot above, we would now like to examine the distributions of diseases over the years using percentages. Below, we have assigned `distributions` to a table with all of the same columns, but the raw counts in the cells are replaced by the percentage of the the total number of deaths by a particular disease that happened in that specific year. \n\nTry to understand the code below. "
    },
    {
      "metadata": {
        "trusted": false
      },
      "cell_type": "code",
      "source": "def percents(array_x):\n    return np.round( (array_x/sum(array_x))*100, 2)\n\nlabels = cleaned_causes_by_year.labels\ndistributions = Table().with_columns(labels[0], cleaned_causes_by_year.column(0),\n                                     labels[1], percents(cleaned_causes_by_year.column(1)),\n                                     labels[2], percents(cleaned_causes_by_year.column(2)),\n                                     labels[3], percents(cleaned_causes_by_year.column(3)),\n                                     labels[4], percents(cleaned_causes_by_year.column(4)),\n                                     labels[5], percents(cleaned_causes_by_year.column(5)),\n                                     labels[6], percents(cleaned_causes_by_year.column(6)),\n                                     labels[7], percents(cleaned_causes_by_year.column(7)),\n                                     labels[8], percents(cleaned_causes_by_year.column(8)),\n                                     labels[9], percents(cleaned_causes_by_year.column(9)),\n                                     labels[10], percents(cleaned_causes_by_year.column(10)),\n                                     labels[11], percents(cleaned_causes_by_year.column(11)))\ndistributions.show()",
      "execution_count": 12,
      "outputs": []
    },
    {
      "metadata": {},
      "cell_type": "markdown",
      "source": "**Question 4.** What is the sum (roughly) of each of the columns (except the Year column) in the table above? Why does this make sense? "
    },
    {
      "metadata": {
        "deletable": false,
        "manual_problem_id": "causes_of_death_4",
        "scrolled": true
      },
      "cell_type": "markdown",
      "source": "*Write your answer here, replacing this text.*"
    },
    {
      "metadata": {},
      "cell_type": "markdown",
      "source": "**Question 5:** We suspect that the larger percentage of stroke-related deaths over the years 1999-2013 happened in the earlier years, while the larger percentage of deaths related to Chronic Liver Disease over this time period occured in the most recent years. Draw a bar chart to display both of the distributions of these diseases over the time period. \n\n*Hint:* The relevant column labels are \"Cerebrovascular Disease (Stroke)\" and \"Chronic Liver Disease and Cirrhosis\""
    },
    {
      "metadata": {
        "deletable": false,
        "manual_problem_id": "causes_of_death_5",
        "trusted": false
      },
      "cell_type": "code",
      "source": "...\n\n# Don't change the code below this comment.\nplt.title(\"% of total deaths / disease per year\")\nplt.xlabel(\"% of total deaths\")\n",
      "execution_count": 14,
      "outputs": []
    },
    {
      "metadata": {},
      "cell_type": "markdown",
      "source": "## 2. Faculty salaries\n"
    },
    {
      "metadata": {},
      "cell_type": "markdown",
      "source": "In the next cell, we load a dataset created by the [Daily Cal](http://projects.dailycal.org/paychecker/) which contains Berkeley faculty, their departments, their positions, and their gross salaries in 2015."
    },
    {
      "metadata": {
        "trusted": false
      },
      "cell_type": "code",
      "source": "raw_profs = Table.read_table(\"faculty.csv\").where(\"year\", are.equal_to(2015)).drop(\"year\", \"title\")\nprofs = raw_profs.relabel(\"title_category\", \"position\")\nprofs",
      "execution_count": 3,
      "outputs": []
    },
    {
      "metadata": {},
      "cell_type": "markdown",
      "source": "We want to use this table to generate arrays with the names of each professor in each department."
    },
    {
      "metadata": {},
      "cell_type": "markdown",
      "source": "**Question 1.** Set `prof_names` to a table with two columns. The first column should be called `department` and have the name of every department once, and the second column should be called `faculty` and contain an *array* of the names of all faculty members in that department. \n\n*Hint:* Think about how ```group``` works: it collects values into an array and then applies a function to that array. We have defined two functions below for you, and you will need to use one of them in your call to ```group```."
    },
    {
      "metadata": {
        "trusted": false
      },
      "cell_type": "code",
      "source": "# Pick one of the two functions defined below in your call to group.\ndef identity(array):\n    return array \n\ndef first(array):\n    return array.item(0)",
      "execution_count": 1,
      "outputs": []
    },
    {
      "metadata": {
        "trusted": false
      },
      "cell_type": "code",
      "source": "prof_names = ...\nprof_names",
      "execution_count": 7,
      "outputs": []
    },
    {
      "metadata": {
        "deletable": false,
        "trusted": false
      },
      "cell_type": "code",
      "source": "_ = ok.grade('q2_1')",
      "execution_count": 5,
      "outputs": []
    },
    {
      "metadata": {},
      "cell_type": "markdown",
      "source": "**Question 2.** At the moment, the ```name``` column is sorted by last name. Would the arrays you generated in the previous part be the same if we had sorted by first name instead before generating them? Two arrays are the **same** if they contain the same number of elements and the elements located at corresponding indexes in the two arrays are identical. Explain your answer. If you feel you need to make certain assumptions about the data, feel free to state them in your response. "
    },
    {
      "metadata": {
        "deletable": false,
        "manual_problem_id": "faculty_1"
      },
      "cell_type": "markdown",
      "source": "*Write your answer here, replacing this text.*"
    },
    {
      "metadata": {},
      "cell_type": "markdown",
      "source": "**Question 3.** Set `biggest_range_dept` to the name of the department with the largest salary range, where range is defined as the **difference between the highest salary and the lowest salary in the department**. \n\n*Hint:* First you'll need to define a new function `salary_range` which takes in an array of salaries and returns the salary range of the corresponding department. Then, set `department_ranges` to a table containing the names and salary ranges of each department. "
    },
    {
      "metadata": {
        "trusted": false
      },
      "cell_type": "code",
      "source": "# Define salary_range in this cell\n...\n    ...",
      "execution_count": 9,
      "outputs": []
    },
    {
      "metadata": {
        "trusted": false
      },
      "cell_type": "code",
      "source": "department_ranges = ...\nbiggest_range_dept = ...\nbiggest_range_dept",
      "execution_count": 11,
      "outputs": []
    },
    {
      "metadata": {
        "deletable": false,
        "trusted": false
      },
      "cell_type": "code",
      "source": "_ = ok.grade('q2_3')",
      "execution_count": 10,
      "outputs": []
    },
    {
      "metadata": {
        "collapsed": true,
        "trusted": false
      },
      "cell_type": "code",
      "source": "# For your convenience, you can run this cell to run all the tests at once!\nimport os\nprint(\"Running all tests...\")\n_ = [ok.grade(q[:-3]) for q in os.listdir(\"tests\") if q.startswith('q') and len(q) <= 10]\nprint(\"Finished running all tests.\")",
      "execution_count": null,
      "outputs": []
    }
  ],
  "metadata": {
    "kernelspec": {
      "name": "python3",
      "display_name": "Python 3",
      "language": "python"
    },
    "language_info": {
      "mimetype": "text/x-python",
      "nbconvert_exporter": "python",
      "name": "python",
      "pygments_lexer": "ipython3",
      "version": "3.5.4",
      "file_extension": ".py",
      "codemirror_mode": {
        "version": 3,
        "name": "ipython"
      }
    }
  },
  "nbformat": 4,
  "nbformat_minor": 1
}