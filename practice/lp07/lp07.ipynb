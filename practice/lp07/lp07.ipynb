{
  "cells": [
    {
      "metadata": {
        "trusted": true
      },
      "cell_type": "code",
      "source": "# Initialize OK\n!pip install okpy\n!pip install datascience\nfrom client.api.notebook import Notebook\nok = Notebook('lp07.ok')",
      "execution_count": null,
      "outputs": []
    },
    {
      "metadata": {},
      "cell_type": "markdown",
      "source": "# Assignment 7: Testing Hypotheses"
    },
    {
      "metadata": {
        "deletable": false,
        "editable": false,
        "trusted": false
      },
      "cell_type": "code",
      "source": "# Initialize OK\nfrom client.api.notebook import Notebook\nok = Notebook('hw07.ok')",
      "execution_count": null,
      "outputs": []
    },
    {
      "metadata": {},
      "cell_type": "markdown",
      "source": "**Reading**: \n* [Testing Hypotheses](https://www.inferentialthinking.com/chapters/11/testing-hypotheses.html)"
    },
    {
      "metadata": {
        "collapsed": true,
        "trusted": false
      },
      "cell_type": "code",
      "source": "# Don't change this cell; just run it. \n\nimport numpy as np\nfrom datascience import *\n\n# These lines do some fancy plotting magic.\nimport matplotlib\n%matplotlib inline\nimport matplotlib.pyplot as plt\nplt.style.use('fivethirtyeight')\nimport warnings\nwarnings.simplefilter('ignore', FutureWarning)\n\nfrom client.api.notebook import Notebook\nok = Notebook('lp07.ok')\n_ = ok.auth(inline=True)",
      "execution_count": null,
      "outputs": []
    },
    {
      "metadata": {},
      "cell_type": "markdown",
      "source": "## 1. Catching Cheaters\n"
    },
    {
      "metadata": {},
      "cell_type": "markdown",
      "source": "Suppose you are a casino owner, and your casino runs a very simple game of chance.  The dealer flips a coin.  The customer wins $\\$$9 from the casino if it comes up heads and loses $\\$$10 if it comes up tails."
    },
    {
      "metadata": {
        "deletable": false,
        "editable": false
      },
      "cell_type": "markdown",
      "source": "**Question 1.** Assuming no one is cheating and the coin is fair, if a customer plays twice, what is the chance they make money?\n\n<!--\nBEGIN QUESTION\nname: q1_1\nmanual: false\n-->"
    },
    {
      "metadata": {
        "collapsed": true,
        "deletable": false,
        "manual_grade": true,
        "manual_problem_id": "catching_cheaters_1",
        "trusted": false
      },
      "cell_type": "code",
      "source": "p_winning_after_two_flips = ...",
      "execution_count": null,
      "outputs": []
    },
    {
      "metadata": {
        "deletable": false,
        "editable": false,
        "trusted": false
      },
      "cell_type": "code",
      "source": "ok.grade(\"q1_1\");",
      "execution_count": null,
      "outputs": []
    },
    {
      "metadata": {},
      "cell_type": "markdown",
      "source": "A certain customer plays the game 20 times and wins 13 of the bets.  You suspect that the customer is cheating!  That is, you think that their chance of winning is higher than the normal chance of winning.\n\nYou decide to test your hunch using the outcomes of the 20 games you observed."
    },
    {
      "metadata": {
        "deletable": false,
        "editable": false
      },
      "cell_type": "markdown",
      "source": "**Question 2.** Define the null hypothesis and alternative hypothesis for this investigation. \n\n<!--\nBEGIN QUESTION\nname: q1_2\nmanual: true\n-->\n\n<!-- EXPORT TO PDF -->\n<!-- EXPORT TO PDF -->"
    },
    {
      "metadata": {
        "for_assignment_type": "solution"
      },
      "cell_type": "markdown",
      "source": "*Write your answer here, replacing this text.*"
    },
    {
      "metadata": {
        "deletable": false,
        "editable": false
      },
      "cell_type": "markdown",
      "source": "**Question 3.** Given the outcome of 20 games, which of the following test statistics would be a reasonable choice for this hypothesis test? \n\n*Hint*: For a refresher on choosing test statistics, check out this section on [Test Statistics](https://www.inferentialthinking.com/chapters/11/3/decisions-and-uncertainty.html#Step-2:-The-Test-Statistic).\n\n1. Whether there is at least one win.\n1. Whether there is at least one loss.\n1. The number of wins.\n1. The number of wins minus 10.\n1. The total variation distance between the probability distribution of a fair coin and the observed distribution of heads and tails.\n1. The total amount of money that the customer won.\n\nAssign `reasonable_test_statistics` to a **list** of numbers corresponding to these test statistics.\n\n<!--\nBEGIN QUESTION\nname: q1_3\nmanual: false\n-->"
    },
    {
      "metadata": {
        "deletable": false,
        "trusted": false
      },
      "cell_type": "code",
      "source": "reasonable_test_statistics = ...",
      "execution_count": 7,
      "outputs": []
    },
    {
      "metadata": {
        "deletable": false,
        "editable": false,
        "trusted": false
      },
      "cell_type": "code",
      "source": "ok.grade(\"q1_3\");",
      "execution_count": null,
      "outputs": []
    },
    {
      "metadata": {
        "deletable": false,
        "editable": false
      },
      "cell_type": "markdown",
      "source": "<div class=\"hide\">\\pagebreak</div>\nSuppose you decide to use the number of wins as your test statistic.\n\n**Question 4.** Write a function called `simulate` that generates exactly one simulation of your test statistic under the null hypothesis.  It should take no arguments.  It should return the number of wins in 20 games simulated under the assumption that the result of each game is sampled from a fair coin that lands heads or lands tails with 50% chance.\n\n*Hint*: You may find the textbook [section](https://www.inferentialthinking.com/chapters/11/1/Assessing_Models#predicting-the-statistic-under-the-model) on the `sample_proportions` function to be useful.\n\n<!--\nBEGIN QUESTION\nname: q1_4\nmanual: false\n-->"
    },
    {
      "metadata": {
        "collapsed": true,
        "for_assignment_type": "solution",
        "trusted": false
      },
      "cell_type": "code",
      "source": "...\n\nsimulate()",
      "execution_count": null,
      "outputs": []
    },
    {
      "metadata": {
        "deletable": false,
        "editable": false,
        "trusted": false
      },
      "cell_type": "code",
      "source": "ok.grade(\"q1_4\");",
      "execution_count": null,
      "outputs": []
    },
    {
      "metadata": {
        "deletable": false,
        "editable": false
      },
      "cell_type": "markdown",
      "source": "**Question 5.** Using 10,000 trials, generate simulated values of the number of wins in 20 games. Assign `test_statistics_under_null` to an array that stores the result of each of these trials.\n\n*Hint*: Feel free to use the function you defined in Question 4.\n\n<!--\nBEGIN QUESTION\nname: q1_5\nmanual: false\n-->"
    },
    {
      "metadata": {
        "collapsed": true,
        "for_assignment_type": "solution",
        "trusted": false
      },
      "cell_type": "code",
      "source": "test_statistics_under_null = ...\nrepetitions = ...\n\n...\n    \ntest_statistics_under_null",
      "execution_count": null,
      "outputs": []
    },
    {
      "metadata": {
        "deletable": false,
        "editable": false,
        "trusted": false
      },
      "cell_type": "code",
      "source": "ok.grade(\"q1_5\");",
      "execution_count": null,
      "outputs": []
    },
    {
      "metadata": {
        "deletable": false,
        "editable": false
      },
      "cell_type": "markdown",
      "source": "**Question 6.** Using the results from Question 5, generate a histogram of the empirical distribution of the number of wins in 20 games.\n\n<!--\nBEGIN QUESTION\nname: q1_6\nmanual: true\n-->\n\n<!-- EXPORT TO PDF -->\n<!-- EXPORT TO PDF -->"
    },
    {
      "metadata": {
        "collapsed": true,
        "for_assignment_type": "solution",
        "trusted": false
      },
      "cell_type": "code",
      "source": "...",
      "execution_count": null,
      "outputs": []
    },
    {
      "metadata": {
        "deletable": false,
        "editable": false
      },
      "cell_type": "markdown",
      "source": "<div class=\"hide\">\\pagebreak</div>\n\n**Question 7.** Compute an empirical P-value for this test.\n\n*Hint:* Which values of our test statistic are in the direction of the alternative hypothesis?\n\n<!--\nBEGIN QUESTION\nname: q1_7\nmanual: false\n-->"
    },
    {
      "metadata": {
        "collapsed": true,
        "for_assignment_type": "solution",
        "trusted": false
      },
      "cell_type": "code",
      "source": "p_value = ...\np_value",
      "execution_count": null,
      "outputs": []
    },
    {
      "metadata": {
        "deletable": false,
        "editable": false,
        "trusted": false
      },
      "cell_type": "code",
      "source": "ok.grade(\"q1_7\");",
      "execution_count": null,
      "outputs": []
    },
    {
      "metadata": {
        "deletable": false,
        "editable": false
      },
      "cell_type": "markdown",
      "source": "**Question 8.** Suppose you use a P-value cutoff of 1%. What do you conclude from the hypothesis test? Why?\n\n<!--\nBEGIN QUESTION\nname: q1_8\nmanual: true\n-->\n<!-- EXPORT TO PDF -->\n<!-- EXPORT TO PDF -->"
    },
    {
      "metadata": {
        "deletable": false,
        "manual_grade": true,
        "manual_problem_id": "catching_cheaters_8"
      },
      "cell_type": "markdown",
      "source": "*Write your answer here, replacing this text.*"
    },
    {
      "metadata": {
        "deletable": false,
        "editable": false
      },
      "cell_type": "markdown",
      "source": "**Question 9.** Is `p_value` the probability that the customer cheated, or the probability that the customer didn't cheat, or neither? If neither, what is it?\n\n<!--\nBEGIN QUESTION\nname: q1_9\nmanual: true\n-->\n<!-- EXPORT TO PDF -->\n<!-- EXPORT TO PDF -->"
    },
    {
      "metadata": {
        "deletable": false,
        "manual_grade": true,
        "manual_problem_id": "catching_cheaters_9"
      },
      "cell_type": "markdown",
      "source": "*Write your answer here, replacing this text.*"
    },
    {
      "metadata": {
        "deletable": false,
        "editable": false
      },
      "cell_type": "markdown",
      "source": "**Question 10.** Is 1% (the P-value cutoff) the probability that the customer cheated, or the probability that the customer didn't cheat, or neither? If neither, what is it?\n\n<!--\nBEGIN QUESTION\nname: q1_10\nmanual: true\n-->\n<!-- EXPORT TO PDF -->\n<!-- EXPORT TO PDF -->"
    },
    {
      "metadata": {
        "deletable": false,
        "manual_grade": true,
        "manual_problem_id": "catching_cheaters_10"
      },
      "cell_type": "markdown",
      "source": "*Write your answer here, replacing this text.*"
    },
    {
      "metadata": {
        "deletable": false,
        "editable": false
      },
      "cell_type": "markdown",
      "source": "**Question 11.** Suppose you run this test for 400 different customers after observing each customer play 20 games.  When you reject the null hypothesis for a customer, you accuse that customer of cheating.  If no customers were actually cheating, can we compute how many we will incorrectly accuse of cheating? If so, what is the number? Explain your answer. Assume a 1% P-value cutoff.\n\n<!--\nBEGIN QUESTION\nname: q1_11\nmanual: true\n-->\n<!-- EXPORT TO PDF -->\n<!-- EXPORT TO PDF -->"
    },
    {
      "metadata": {
        "deletable": false,
        "manual_grade": true,
        "manual_problem_id": "catching_cheaters_10"
      },
      "cell_type": "markdown",
      "source": "*Write your answer here, replacing this text.*"
    },
    {
      "metadata": {},
      "cell_type": "markdown",
      "source": "## 2. Landing a Spacecraft\n"
    },
    {
      "metadata": {},
      "cell_type": "markdown",
      "source": "(Note: This problem describes something that's close to [a real story with a very exciting video](http://www.space.com/29119-spacex-reusable-rocket-landing-crash-video.html), but the details have been changed somewhat.)\n\nSpaceY, a company that builds and tests spacecraft, is testing a new reusable launch system.  Most spacecraft use a \"first stage\" rocket that propels a smaller payload craft away from Earth, then falls back to the ground and crashes.  SpaceY's new system is designed to land safely at a landing pad at a certain location, ready for later reuse.  If it doesn't land in the right location, it crashes, and the very, very expensive vehicle is destroyed.\n\nSpaceY has tested this system over 1000 times.  Ordinarily, the vehicle doesn't land exactly on the landing pad.  For example, a gust of wind might move it by a few meters just before it lands.  It's reasonable to think of these small errors as random.  That is, the landing locations are drawn from some distribution over locations on the surface of Earth, centered around the landing pad.\n\nRun the next cell to see a plot of those locations."
    },
    {
      "metadata": {
        "trusted": false
      },
      "cell_type": "code",
      "source": "ordinary_landing_spots = Table.read_table(\"ordinary_landing_spots.csv\")\nordinary_landing_spots.scatter(\"x\", label=\"Landing locations\")\nplt.scatter(0, 0, c=\"w\", s=1000, marker=\"*\", label=\"Landing pad\")\nplt.legend(scatterpoints=1, bbox_to_anchor=(1.6, .5));",
      "execution_count": 11,
      "outputs": []
    },
    {
      "metadata": {},
      "cell_type": "markdown",
      "source": "During one test, the vehicle lands far away from the landing pad and crashes.  SpaceY investigators suspect there was a problem unique to this landing, a problem that wasn't part of the ordinary pattern of variation in landing locations.  They think a software error in the guidance system caused the craft to incorrectly attempt to land at a spot other than the landing pad.  The guidance system engineers think there was nothing out of the ordinary in this landing, and that there was no special problem with the guidance system.\n\nRun the cell below to see a plot of the 1100 ordinary landings and the crash."
    },
    {
      "metadata": {
        "trusted": false
      },
      "cell_type": "code",
      "source": "landing_spot = make_array(80.59, 30.91)\nordinary_landing_spots.scatter(\"x\", label=\"Other landings\")\nplt.scatter(0, 0, c=\"w\", s=1000, marker=\"*\", label=\"Landing pad\")\nplt.scatter(landing_spot.item(0), landing_spot.item(1), marker=\"*\", c=\"r\", s=1000, label=\"Crash site\")\nplt.legend(scatterpoints=1, bbox_to_anchor=(1.6, .5));",
      "execution_count": 12,
      "outputs": []
    },
    {
      "metadata": {
        "deletable": false,
        "editable": false
      },
      "cell_type": "markdown",
      "source": "**Question 1.** Write a function called `landing_distance`.  It should take two arguments: an \"x\" location and a \"y\" location (both numbers), and should return the euclidean distance from the landing spot to the origin!\n\n<!--\nBEGIN QUESTION\nname: q2_1\nmanual: false\n-->"
    },
    {
      "metadata": {
        "deletable": false,
        "manual_grade": true,
        "manual_problem_id": "landing_3",
        "trusted": false
      },
      "cell_type": "code",
      "source": "def landing_distance(x_coordinate, y_coordinate):\n    ...",
      "execution_count": 13,
      "outputs": []
    },
    {
      "metadata": {
        "deletable": false,
        "editable": false,
        "trusted": false
      },
      "cell_type": "code",
      "source": "ok.grade(\"q2_1\");",
      "execution_count": null,
      "outputs": []
    },
    {
      "metadata": {
        "deletable": false,
        "editable": false
      },
      "cell_type": "markdown",
      "source": "**Question 2.** Use the `landing_distance` function you wrote above to compute the landing distance for the crash site. Assign this distance to `observed_test_stat`.\n\n\n<!--\nBEGIN QUESTION\nname: q2_2\nmanual: false\n-->"
    },
    {
      "metadata": {
        "trusted": false
      },
      "cell_type": "code",
      "source": "observed_test_stat = ...\nobserved_test_stat",
      "execution_count": 17,
      "outputs": []
    },
    {
      "metadata": {
        "deletable": false,
        "editable": false,
        "trusted": false
      },
      "cell_type": "code",
      "source": "ok.grade(\"q2_2\");",
      "execution_count": null,
      "outputs": []
    },
    {
      "metadata": {
        "deletable": false,
        "editable": false
      },
      "cell_type": "markdown",
      "source": "**Question 3.** Next, assign `distances` to an array containing the computed landing distances for each landing in `ordinary_landing_spots`. Use the `landing_distance` function you wrote above to compute these distances!\n\n<!--\nBEGIN QUESTION\nname: q2_3\nmanual: false\n-->"
    },
    {
      "metadata": {
        "trusted": false
      },
      "cell_type": "code",
      "source": "distances = ...\n\n...\n\ndistances",
      "execution_count": 21,
      "outputs": []
    },
    {
      "metadata": {
        "deletable": false,
        "editable": false,
        "trusted": false
      },
      "cell_type": "code",
      "source": "ok.grade(\"q2_3\");",
      "execution_count": null,
      "outputs": []
    },
    {
      "metadata": {},
      "cell_type": "markdown",
      "source": "Run the next cell below to see the points color-coded by distance! Gold points correspond to landing locations that are as far or farther away than the Crash Site!"
    },
    {
      "metadata": {
        "deletable": false,
        "editable": false,
        "trusted": false
      },
      "cell_type": "code",
      "source": "spots_with_distances = ordinary_landing_spots.with_column(\"Distances\", distances >= observed_test_stat)\nspots_with_distances.scatter('x', 'y', colors = 'Distances', label='Close Spots')\nplt.scatter(0, 0, c=\"w\", s=1000, marker=\"*\", label=\"Landing pad\")\nplt.scatter(landing_spot.item(0), landing_spot.item(1), marker=\"*\", c=\"r\", s=1000, label=\"Crash site\")\nplt.legend(scatterpoints=1, bbox_to_anchor=(1.6, .5));",
      "execution_count": 13,
      "outputs": []
    },
    {
      "metadata": {
        "deletable": false,
        "editable": false
      },
      "cell_type": "markdown",
      "source": "**Question 4.** What proportion of points were as far or farther away than the specific landing? Assign this value to `proportion_of_points` below. \n\n<!--\nBEGIN QUESTION\nname: q2_4\nmanual: false\n-->"
    },
    {
      "metadata": {
        "trusted": false
      },
      "cell_type": "code",
      "source": "proportion_of_points = ...\nproportion_of_points",
      "execution_count": 23,
      "outputs": []
    },
    {
      "metadata": {
        "deletable": false,
        "editable": false,
        "trusted": false
      },
      "cell_type": "code",
      "source": "ok.grade(\"q2_4\");",
      "execution_count": null,
      "outputs": []
    },
    {
      "metadata": {},
      "cell_type": "markdown",
      "source": "## 3. Testing Dice\n"
    },
    {
      "metadata": {},
      "cell_type": "markdown",
      "source": "Students in a data science class want to figure out whether a six-sided die is fair or not. On a fair die, each face of the die appears with chance 1/6 on each roll, regardless of the results of other rolls.  Otherwise, a die is called unfair.  We can describe a die by the probability of landing on each face.  This table describes an example of a die that is unfairly weighted toward 1:\n\n|Face|Probability|\n|-|-|\n|1|.5|\n|2|.1|\n|3|.1|\n|4|.1|\n|5|.1|\n|6|.1|"
    },
    {
      "metadata": {
        "deletable": false,
        "editable": false
      },
      "cell_type": "markdown",
      "source": "**Question 1.** Define a null hypothesis and an alternative hypothesis to test whether a six-sided die is fair or not. \n\n*Hint:* Remember that an unfair die is one for which each face does not have an equal chance of appearing.\n\n<!--\nBEGIN QUESTION\nname: q3_1\nmanual: true\n-->\n<!-- EXPORT TO PDF -->"
    },
    {
      "metadata": {
        "for_assignment_type": "solution"
      },
      "cell_type": "markdown",
      "source": "*Write your answer here, replacing this text.*"
    },
    {
      "metadata": {},
      "cell_type": "markdown",
      "source": "We decide to test the die by rolling it 5 times. The proportions of the 6 faces in these 5 rolls are stored in a table with 6 rows.  For example, here is the table we'd make if the die rolls ended up being 1, 2, 3, 3, and 5:\n\n|Face|Proportion|\n|-|-|\n|1|.2|\n|2|.2|\n|3|.4|\n|4|.0|\n|5|.2|\n|6|.0|\n\nThe function `mystery_test_statistic`, defined below, takes a single table like this as its argument and returns a number (which we will use as a test statistic)."
    },
    {
      "metadata": {
        "trusted": false
      },
      "cell_type": "code",
      "source": "# Note: We've intentionally used unhelpful function and\n# variable names to avoid giving away answers.  It's rarely\n# a good idea to use names like \"x\" in your code.\n\ndef mystery_test_statistic(sample):\n    x = np.ones(1) * (1/6)\n    y = (sample.column('Proportion') - x)\n    return np.mean(y**2)",
      "execution_count": 9,
      "outputs": []
    },
    {
      "metadata": {
        "deletable": false,
        "editable": false
      },
      "cell_type": "markdown",
      "source": "**Question 2.** Describe in English what the test statistic is.  Is it equivalent to the total variation distance between the observed face distribution and the fair die distribution?\n<!--\nBEGIN QUESTION\nname: q3_2\nmanual: true\n-->\n<!-- EXPORT TO PDF -->"
    },
    {
      "metadata": {
        "deletable": false,
        "manual_grade": true,
        "manual_problem_id": "testing_dice_2"
      },
      "cell_type": "markdown",
      "source": "*Write your answer here, replacing this text.*"
    },
    {
      "metadata": {},
      "cell_type": "markdown",
      "source": "The function `simulate_observations_and_test` takes as its argument a table describing the probability distribution of a die.  It simulates one set of 5 rolls of that die, then tests the null hypothesis about that die using our test statistic function above.  It returns `False` if it *rejects* the null hypothesis about the die, and `True` otherwise."
    },
    {
      "metadata": {
        "trusted": false
      },
      "cell_type": "code",
      "source": "# The probability distribution table for a fair die:\nfair_die = Table().with_columns(\n        \"Face\", np.arange(1, 6+1),\n        \"Probability\", [1/6, 1/6, 1/6, 1/6, 1/6, 1/6])\n\ndef simulate_observations_and_test(actual_die):\n    \"\"\"Simulates die rolls from actual_die and tests the hypothesis that the die is fair.\n    \n    Returns False if that hypothesis is rejected, and True otherwise.\n    \n    \"\"\"\n    \n    sample_size = 5\n    p_value_cutoff = .2\n    num_simulations = 250\n    \n    # Compute the observed value of the test statistic.\n    observation_set = sample_proportions(sample_size, actual_die.column(\"Probability\"))\n    observation_props_table = Table().with_column('Face', actual_die.column('Face'), 'Proportion', observation_set)\n    observed_statistic = mystery_test_statistic(observation_props_table)\n    \n    # Simulate the test statistic repeatedly to get an \n    # approximation to the probability distribution of \n    # the test statistic, as predicted by the model in \n    # the null hypothesis. Store the simulated values \n    # of the test statistic in an array.\n    simulated_statistics = make_array()\n    for _ in np.arange(num_simulations):\n        one_observation_set_under_null = sample_proportions(sample_size, fair_die.column(\"Probability\"))\n        simulated_props_table = Table().with_column('Face', fair_die.column('Face'), 'Proportion', one_observation_set_under_null)\n        simulated_statistic = mystery_test_statistic(simulated_props_table)\n        simulated_statistics = np.append(simulated_statistics, simulated_statistic)\n        \n    # Compute the P-value\n    p_value = np.count_nonzero(simulated_statistics >= observed_statistic) / num_simulations\n    \n    # If the P-value is below the cutoff, reject the \n    # null hypothesis and return False. Otherwise, \n    # return True.\n    return p_value >= p_value_cutoff\n\n# Calling the function to simulate a test of a fair die:\nsimulate_observations_and_test(fair_die)",
      "execution_count": 10,
      "outputs": []
    },
    {
      "metadata": {
        "deletable": false,
        "editable": false
      },
      "cell_type": "markdown",
      "source": "**Question 3.** Use your knowledge of hypothesis tests and interpretation of the code above to determine the probability that `simulate_observations_and_test` returns `False` when its argument is `fair_die` (which is defined above the function). In other words, what is the chance that we reject the null hypothesis if the die is actually fair?\n\nYou can call the function a few times to see what it does, but **don't** perform a simulation to determine this probability.  Use your knowledge of hypothesis tests. You shouldn't have to write any code to answer this question.\n\n<!--\nBEGIN QUESTION\nname: q3_3\nmanual: false\npoints: 1\n-->"
    },
    {
      "metadata": {
        "deletable": false,
        "trusted": false
      },
      "cell_type": "code",
      "source": "probability_of_false = ...",
      "execution_count": 11,
      "outputs": []
    },
    {
      "metadata": {
        "deletable": false,
        "editable": false,
        "trusted": false
      },
      "cell_type": "code",
      "source": "ok.grade(\"q3_3\");",
      "execution_count": null,
      "outputs": []
    },
    {
      "metadata": {
        "deletable": false,
        "editable": false
      },
      "cell_type": "markdown",
      "source": "**Question 4.** Justify your probability from Question 3.\n<!--\nBEGIN QUESTION\nname: q3_4\nmanual: true\n-->\n<!-- EXPORT TO PDF -->"
    },
    {
      "metadata": {
        "deletable": false,
        "manual_grade": true,
        "manual_problem_id": "testing_dice_4"
      },
      "cell_type": "markdown",
      "source": "*Write your answer here, replacing this text.*"
    },
    {
      "metadata": {
        "deletable": false,
        "editable": false
      },
      "cell_type": "markdown",
      "source": "**Question 5.** Simulate the process of running `simulate_observations_and_test` 300 times. Assign `test_results` to an array that stores the result of each of these trials.\n\n**Note:** This will be a little slow. 300 repetitions of the simulation should require a minute or so of computation, and should suffice to get an answer that's roughly correct.\n\n<!--\nBEGIN QUESTION\nname: q3_5\nmanual: false\npoints: 1\n-->"
    },
    {
      "metadata": {
        "for_assignment_type": "solution",
        "trusted": false
      },
      "cell_type": "code",
      "source": "num_test_simulations = 300\ntest_results = ...\n\n...\n\n# Don't change the following line.\ntest_results.astype(bool)",
      "execution_count": 14,
      "outputs": []
    },
    {
      "metadata": {
        "deletable": false,
        "editable": false,
        "trusted": false
      },
      "cell_type": "code",
      "source": "ok.grade(\"q3_5\");",
      "execution_count": null,
      "outputs": []
    },
    {
      "metadata": {
        "deletable": false,
        "editable": false
      },
      "cell_type": "markdown",
      "source": "**Question 6.** Verify your answer to Question 3 by computing an approximate probability that `simulation_observations_and_test` returns `False`.\n<!--\nBEGIN QUESTION\nname: q3_6\nmanual: false\n-->"
    },
    {
      "metadata": {
        "deletable": false,
        "trusted": false
      },
      "cell_type": "code",
      "source": "approximate_probability_of_false = ...\napproximate_probability_of_false",
      "execution_count": 19,
      "outputs": []
    },
    {
      "metadata": {
        "deletable": false,
        "editable": false,
        "trusted": false
      },
      "cell_type": "code",
      "source": "ok.grade(\"q3_6\");",
      "execution_count": null,
      "outputs": []
    },
    {
      "metadata": {
        "deletable": false,
        "editable": false
      },
      "cell_type": "markdown",
      "source": "**Question 7.** From the perspective of someone who wants to know the truth about the die, is it good or bad for the function to return `False` when its argument is `fair_die`? Why is it good or bad?\n<!--\nBEGIN QUESTION\nname: q3_7\nmanual: true\n-->\n<!-- EXPORT TO PDF -->"
    },
    {
      "metadata": {
        "deletable": false,
        "manual_grade": true,
        "manual_problem_id": "testing_dice_7"
      },
      "cell_type": "markdown",
      "source": "*Write your answer here, replacing this text.*"
    },
    {
      "metadata": {
        "collapsed": true,
        "trusted": false
      },
      "cell_type": "code",
      "source": "# For your convenience, you can run this cell to run all the tests at once!\nimport os\nprint(\"Running all tests...\")\n_ = [ok.grade(q[:-3]) for q in os.listdir(\"tests\") if q.startswith('q') and len(q) <= 10]\nprint(\"Finished running all tests.\")",
      "execution_count": null,
      "outputs": []
    }
  ],
  "metadata": {
    "kernelspec": {
      "name": "python3",
      "display_name": "Python 3",
      "language": "python"
    },
    "language_info": {
      "mimetype": "text/x-python",
      "nbconvert_exporter": "python",
      "name": "python",
      "pygments_lexer": "ipython3",
      "version": "3.5.4",
      "file_extension": ".py",
      "codemirror_mode": {
        "version": 3,
        "name": "ipython"
      }
    }
  },
  "nbformat": 4,
  "nbformat_minor": 1
}