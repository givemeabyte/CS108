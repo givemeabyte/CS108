{
  "cells": [
    {
      "metadata": {},
      "cell_type": "markdown",
      "source": "# Learning Practice 1: Causality and Expressions\n\nPlease complete this notebook by filling in the cells provided. Before you begin, execute the following cell to load the provided tests."
    },
    {
      "metadata": {
        "trusted": true
      },
      "cell_type": "code",
      "source": "# Don't change this cell; just run it. \n!pip install okpy\nfrom client.api.notebook import Notebook\nok = Notebook('lp01.ok')",
      "execution_count": null,
      "outputs": []
    },
    {
      "metadata": {},
      "cell_type": "markdown",
      "source": " Throughout this learning practice and all future ones, please be sure to not re-assign variables throughout the notebook! For example, if you use `max_temperature` in your answer to one question, do not reassign it later on. Otherwise, you will fail tests that you thought you were passing previously!\n\n"
    },
    {
      "metadata": {},
      "cell_type": "markdown",
      "source": "## 1. Scary Arithmetic\n"
    },
    {
      "metadata": {
        "deletable": false,
        "manual_problem_id": "adt_1"
      },
      "cell_type": "markdown",
      "source": "An ad for ADT Security Systems says,\n\n> \"When you go on vacation, burglars go to work [...] According to FBI statistics, over 25% of home burglaries occur between Memorial Day and Labor Day.\"\n\nDo the data in the ad support the claim that burglars are more likely to go to work during the time between Memorial Day and Labor Day? Please explain your answer.\n\n**Note:** You can assume that \"over 25%\" means only slightly over. Had it been much over, say closer to 30%, then the marketers would have said so."
    },
    {
      "metadata": {
        "deletable": false,
        "manual_problem_id": "adt_1"
      },
      "cell_type": "markdown",
      "source": "*Write your answer here, replacing this text.*"
    },
    {
      "metadata": {},
      "cell_type": "markdown",
      "source": "## 2. Characters in Little Women\n"
    },
    {
      "metadata": {},
      "cell_type": "markdown",
      "source": "In class, we counted the number of times that the literary characters were named in each chapter of the classic book, [*Little Women*](https://www.inferentialthinking.com/chapters/01/3/1/literary-characters). In computer science, the word \"character\" also refers to a letter, digit, space, or punctuation mark; any single element of a text. The following code generates a scatter plot in which each dot corresponds to a chapter of *Little Women*. The horizontal position of a dot measures the number of periods in the chapter. The vertical position measures the total number of characters."
    },
    {
      "metadata": {
        "scrolled": true,
        "trusted": true
      },
      "cell_type": "code",
      "source": "# This cell contains code that hasn't yet been covered in the course,\n# but you should be able to interpret the scatter plot it generates.\n!pip install datascience\nfrom datascience import *\nfrom urllib.request import urlopen\nimport numpy as np\n%matplotlib inline\n\nlittle_women_url = 'https://www.inferentialthinking.com/data/little_women.txt'\nchapters = urlopen(little_women_url).read().decode().split('CHAPTER ')[1:]\ntext = Table().with_column('Chapters', chapters)\nTable().with_columns(\n    'Periods',    np.char.count(chapters, '.'),\n    'Characters', text.apply(len, 0)\n    ).scatter(0)",
      "execution_count": null,
      "outputs": []
    },
    {
      "metadata": {},
      "cell_type": "markdown",
      "source": "**Question 1.** Around how many periods are there in the chapter with the most characters? Assign either 1, 2, 3, 4, or 5 to the name `characters_q1` below.\n\n1. 250\n2. 390\n3. 440\n4. 32,000\n5. 40,000"
    },
    {
      "metadata": {
        "trusted": true
      },
      "cell_type": "code",
      "source": "characters_q1 = ...",
      "execution_count": null,
      "outputs": []
    },
    {
      "metadata": {},
      "cell_type": "markdown",
      "source": "**Question 2.** Which of the following chapters has the most characters per period? Assign either 1, 2, or 3 to the name `characters_q2` below.\n1. The chapter with about 60 periods\n2. The chapter with about 350 periods\n3. The chapter with about 440 periods"
    },
    {
      "metadata": {
        "trusted": true
      },
      "cell_type": "code",
      "source": "characters_q2 = ...",
      "execution_count": null,
      "outputs": []
    },
    {
      "metadata": {},
      "cell_type": "markdown",
      "source": "Check that your answers are in the correct format. This test *does not* check that you answered correctly; only that you assigned a number successfully in each multiple-choice answer cell."
    },
    {
      "metadata": {
        "deletable": false,
        "trusted": true
      },
      "cell_type": "code",
      "source": "_ = ok.grade('q2')",
      "execution_count": null,
      "outputs": []
    },
    {
      "metadata": {},
      "cell_type": "markdown",
      "source": "To discover more interesting facts from this plot, read [Section 1.3.2](https://www.inferentialthinking.com/chapters/01/3/2/another-kind-of-character) of the textbook."
    },
    {
      "metadata": {},
      "cell_type": "markdown",
      "source": "## 3. Names and Assignment Statements\n"
    },
    {
      "metadata": {},
      "cell_type": "markdown",
      "source": "**Question 1.** When you run the following cell, Python produces a cryptic error message."
    },
    {
      "metadata": {
        "trusted": true
      },
      "cell_type": "code",
      "source": "4 = 2 + 2",
      "execution_count": null,
      "outputs": []
    },
    {
      "metadata": {},
      "cell_type": "markdown",
      "source": "Choose the best explanation of what's wrong with the code, and then assign 1, 2, 3, or 4 to `names_q1` below to indicate your answer.\n\n1. Python is smart and already knows `4 = 2 + 2`.\n\n2. `4` is already a defined number, and it doesn't make sense to make a number be a name for something else. In Python, \"`x = 2 + 2`\" means \"assign `x` as the name for the value of `2 + 2`.\"\n\n3. It should be `2 + 2 = 4`.\n\n4. I don't get an error message. This is a trick question."
    },
    {
      "metadata": {
        "trusted": true
      },
      "cell_type": "code",
      "source": "names_q1 = ...",
      "execution_count": null,
      "outputs": []
    },
    {
      "metadata": {},
      "cell_type": "markdown",
      "source": "**Question 2.** When you run the following cell, Python will produce another cryptic error message."
    },
    {
      "metadata": {
        "trusted": true
      },
      "cell_type": "code",
      "source": "two = 3\nsix = two plus two",
      "execution_count": null,
      "outputs": []
    },
    {
      "metadata": {},
      "cell_type": "markdown",
      "source": "Choose the best explanation of what's wrong with the code and assign 1, 2, 3, or 4 to `names_q2` below to indicate your answer.\n\n1. The `plus` operation only applies to numbers, not the word \"two\".\n\n2. The name \"two\" cannot be assigned to the number 3.\n\n3. Two plus two is four, not six.\n\n4. The name `two` cannot be followed directly by another name."
    },
    {
      "metadata": {
        "trusted": true
      },
      "cell_type": "code",
      "source": "names_q2 = ...",
      "execution_count": null,
      "outputs": []
    },
    {
      "metadata": {},
      "cell_type": "markdown",
      "source": "**Question 3.** When you run the following cell, Python will, yet again, produce another cryptic error message."
    },
    {
      "metadata": {
        "trusted": true
      },
      "cell_type": "code",
      "source": "x = print(5)\ny = x + 2",
      "execution_count": null,
      "outputs": []
    },
    {
      "metadata": {},
      "cell_type": "markdown",
      "source": "Choose the best explanation of what's wrong with the code and assign 1, 2, or 3 to `names_q3` below to indicate your answer.\n\n1. Python doesn't want `y` to be assigned.\n\n2. The `print` operation is meant for displaying values to the programmer, not for assigning values!\n\n3. What error message?"
    },
    {
      "metadata": {
        "trusted": true
      },
      "cell_type": "code",
      "source": "names_q3 = ...",
      "execution_count": null,
      "outputs": []
    },
    {
      "metadata": {},
      "cell_type": "markdown",
      "source": "Check that your answers are in the correct format. This test *does not* check that you answered correctly; only that you assigned a number successfully in each multiple-choice answer cell."
    },
    {
      "metadata": {
        "deletable": false,
        "trusted": true
      },
      "cell_type": "code",
      "source": "_ = ok.grade('q3')",
      "execution_count": null,
      "outputs": []
    },
    {
      "metadata": {},
      "cell_type": "markdown",
      "source": "## 4. Job Opportunities & Education in Rural India\n"
    },
    {
      "metadata": {
        "deletable": false
      },
      "cell_type": "markdown",
      "source": "A [study](http://www.nber.org/papers/w16021.pdf) at UCLA investigated factors that might result in greater attention to the health and education of girls in rural India. One such factor is information about job opportunities for women. The idea is that if people know that educated women can get good jobs, they might take more care of the health and education of girls in their families, as an investment in the girls’ future potential as earners. Without the knowledge of job opportunities, the author hypothesizes that families invest less in their women, and instead, invest in their men. \n\nThe study focused on 160 villages outside the capital of India, all with little access to information about call centers and similar organizations that offer job opportunities to women. In 80 of the villages chosen at random, recruiters visited the village, described the opportunities, recruited women who had some English language proficiency and experience with computers, and provided ongoing support free of charge for three years. In the other 80 villages, no recruiters visited and no other intervention was made.\n\nAt the end of the study period, the researchers recorded data about the school attendance and health of the children in the villages."
    },
    {
      "metadata": {},
      "cell_type": "markdown",
      "source": "**Question 1.** Which statement best describes the *treatment* and *control* groups for this study? Assign either 1, 2, or 3 to the name `jobs_q1` below.\n\n1. The treatment group was the 80 villages visited by recruiters, and the control group was the other 80 villages with no intervention.\n\n2. The treatment group was the 160 villages selected, and the control group was the rest of the villages outside the capital of India.\n\n3. There is no clear notion of *treatment* and *control* group in this study."
    },
    {
      "metadata": {
        "deletable": false,
        "trusted": true
      },
      "cell_type": "code",
      "source": "jobs_q1 = ...",
      "execution_count": null,
      "outputs": []
    },
    {
      "metadata": {},
      "cell_type": "markdown",
      "source": "**Question 2.** Was this an observational study or a randomized controlled experiment? Assign either 1, 2, or 3 to the name `jobs_q2` below.\n\n1. This was an observational study.\n\n2. This was a randomized controlled experiment.  \n\n3. This was a randomized observational study."
    },
    {
      "metadata": {
        "deletable": false,
        "trusted": true
      },
      "cell_type": "code",
      "source": "jobs_q2 = ...",
      "execution_count": null,
      "outputs": []
    },
    {
      "metadata": {},
      "cell_type": "markdown",
      "source": "**Question 3.** The study reported, “Girls aged 5-15 in villages that received the recruiting services were 3 to 5 percentage points more likely to be in school and experienced an increase in Body Mass Index, reflecting greater nutrition and/or medical care. However, there was no net gain in height. For boys, there was no change in any of these measures.” Why do you think the author points out the lack of change in the boys?\n\n*Hint:* Remember the original hypothesis. The author believes that educating women in job opportunities will cause families to invest in their women more. "
    },
    {
      "metadata": {
        "deletable": false,
        "manual_problem_id": "job_opportunities_3"
      },
      "cell_type": "markdown",
      "source": "*Write your answer here, replacing this text.*"
    },
    {
      "metadata": {},
      "cell_type": "markdown",
      "source": "Check that your answers are in the correct format. This test *does not* check that you answered correctly; only that you assigned a number successfully in each multiple-choice answer cell."
    },
    {
      "metadata": {
        "deletable": false,
        "trusted": true
      },
      "cell_type": "code",
      "source": "_ = ok.grade('q4')",
      "execution_count": null,
      "outputs": []
    },
    {
      "metadata": {},
      "cell_type": "markdown",
      "source": "## 5. Differences between Majors\n"
    },
    {
      "metadata": {},
      "cell_type": "markdown",
      "source": "Berkeley’s Office of Planning and Analysis provides data on numerous aspects of the campus. Adapted from the OPA website, the table below displays the numbers of degree recipients in three majors in the academic years 2008-2009 and 2017-2018.\n\n| Major                              | 2008-2009    | 2017-2018   |\n|------------------------------------|--------------|-------------|\n| Gender and Women's Studies         |      17      |    28       |\n| Linguistics                        |      49      |    67       |\n| Rhetoric                           |      113     |    56       |\n\n"
    },
    {
      "metadata": {},
      "cell_type": "markdown",
      "source": "**Question 1.** Suppose you want to find the **biggest** absolute difference between the numbers of degree recipients in the two years, among the three majors.\n\nIn the cell below, compute this value and call it `biggest_change`. Use a single expression (a single line of code) to compute the answer. Let Python perform all the arithmetic (like subtracting 49 from 67) rather than simplifying the expression yourself. The built-in abs function takes a numerical input and returns the absolute value."
    },
    {
      "metadata": {
        "deletable": false,
        "trusted": true
      },
      "cell_type": "code",
      "source": "biggest_change = ...\nbiggest_change",
      "execution_count": null,
      "outputs": []
    },
    {
      "metadata": {},
      "cell_type": "markdown",
      "source": "Use the cell below to test for formatting (in this case, that dissimilarity is a number)"
    },
    {
      "metadata": {
        "deletable": false,
        "trusted": true
      },
      "cell_type": "code",
      "source": "_ = ok.grade('q5_1')",
      "execution_count": null,
      "outputs": []
    },
    {
      "metadata": {},
      "cell_type": "markdown",
      "source": "**Question 2.** Which of the three majors had the **smallest** absolute difference? Assign `smallest_change_major` to 1, 2, or 3 where each number corresponds to the following major:\n\n1: Gender and Women's Studies  \n2: Linguistics  \n3: Rhetoric\n\nChoose the number that corresponds to the major with the smallest absolute difference.\n\nYou should be able to answer by rough mental arithmetic, without having to calculate the exact value for each major. "
    },
    {
      "metadata": {
        "deletable": false,
        "trusted": true
      },
      "cell_type": "code",
      "source": "smallest_change_major = ...\nsmallest_change_major",
      "execution_count": null,
      "outputs": []
    },
    {
      "metadata": {
        "trusted": true
      },
      "cell_type": "code",
      "source": "_ = ok.grade('q5_2')",
      "execution_count": null,
      "outputs": []
    },
    {
      "metadata": {},
      "cell_type": "markdown",
      "source": "**Question 3.**  For each major, define the “relative change” to be the following: $\\large{\\frac{\\text{absolute difference}}{\\text{value in 2008-2009}} * 100}$ \n\nFill in the code below such that `gws_relative_change`, `linguistics_relative_change` and `rhetoric_relative_change` are assigned to the relative changes for their respective majors."
    },
    {
      "metadata": {
        "deletable": false,
        "for_assignment_type": "student",
        "trusted": true
      },
      "cell_type": "code",
      "source": "gws_relative_change = (abs(...) / 17) * 100\nlinguistics_relative_change = ...\nrhetoric_relative_change = ...\ngws_relative_change, linguistics_relative_change, rhetoric_relative_change",
      "execution_count": null,
      "outputs": []
    },
    {
      "metadata": {
        "trusted": true
      },
      "cell_type": "code",
      "source": "_ = ok.grade('q5_3')",
      "execution_count": null,
      "outputs": []
    },
    {
      "metadata": {},
      "cell_type": "markdown",
      "source": "**Question 4.** Assign `biggest_rel_change_major` to 1, 2, or 3 where each number corresponds to to the following: \n\n1: Gender and Women's Studies  \n2: Linguistics  \n3: Rhetoric\n\nChoose the number that corresponds to the major with the biggest relative change."
    },
    {
      "metadata": {
        "deletable": false,
        "trusted": true
      },
      "cell_type": "code",
      "source": "# Assign biggest_rel_change_major to the number corresponding to the major with the biggest relative change.\nbiggest_rel_change_major = ...\nbiggest_rel_change_major",
      "execution_count": null,
      "outputs": []
    },
    {
      "metadata": {
        "trusted": true
      },
      "cell_type": "code",
      "source": "_ = ok.grade('q5_4')",
      "execution_count": null,
      "outputs": []
    },
    {
      "metadata": {},
      "cell_type": "markdown",
      "source": "## 6. Nearsightedness Study\n"
    },
    {
      "metadata": {},
      "cell_type": "markdown",
      "source": "Myopia, or nearsightedness, results from a number of genetic and environmental factors. In 1999, Quinn et al studied the relation between myopia and ambient lighting at night (for example, from nightlights or room lights) during childhood."
    },
    {
      "metadata": {
        "deletable": false,
        "manual_problem_id": "nearsightedness_1"
      },
      "cell_type": "markdown",
      "source": "**Question 1.** The data were gathered by the following procedure, reported in the study. “Between January and June 1998, parents of children aged 2-16 years [...] that were seen as outpatients in a university pediatric ophthalmology clinic completed a questionnaire on the child’s light exposure both at present and before the age of 2 years.” Was this study observational, or was it a controlled experiment? Explain. "
    },
    {
      "metadata": {
        "deletable": false,
        "manual_problem_id": "nearsightedness_1"
      },
      "cell_type": "markdown",
      "source": "*Write your answer here, replacing this text.*"
    },
    {
      "metadata": {
        "deletable": false,
        "manual_problem_id": "nearsightedness_2"
      },
      "cell_type": "markdown",
      "source": "**Question 2.** The study found that of the children who slept with a room light on before the age of 2, 55% were myopic. Of the children who slept with a night light on before the age of 2, 34% were myopic. Of the children who slept in the dark before the age of 2, 10% were myopic. The study concluded that, \"The prevalence of myopia [...] during childhood was strongly associated with ambient light exposure during sleep at night in the first two years after birth.\"\n\nDo the data support this statement? You may interpret “strongly” in any reasonable qualitative way."
    },
    {
      "metadata": {
        "deletable": false,
        "manual_problem_id": "nearsightedness_2"
      },
      "cell_type": "markdown",
      "source": "*Write your answer here, replacing this text.*"
    },
    {
      "metadata": {
        "deletable": false,
        "manual_problem_id": "nearsightedness_3"
      },
      "cell_type": "markdown",
      "source": "**Question 3.** On May 13, 1999, CNN reported the results of this study under the headline, “Night light may lead to nearsightedness.” Does the conclusion of the study claim that night light causes nearsightedness?"
    },
    {
      "metadata": {
        "deletable": false,
        "manual_problem_id": "nearsightedness_3"
      },
      "cell_type": "markdown",
      "source": "*Write your answer here, replacing this text.*"
    },
    {
      "metadata": {
        "deletable": false,
        "manual_problem_id": "nearsightedness_4"
      },
      "cell_type": "markdown",
      "source": "**Question 4.** The final paragraph of the CNN report said that “several eye specialists” had pointed out that the study should have accounted for heredity.\n\nMyopia is passed down from parents to children. It's also reasonable to suppose that myopic parents are more likely to leave lights on in their children's rooms than other parents. In what way does the knowledge of this possible genetic link affect how we consider the data?"
    },
    {
      "metadata": {
        "deletable": false,
        "manual_problem_id": "nearsightedness_4"
      },
      "cell_type": "markdown",
      "source": "*Write your answer here, replacing this text.*"
    },
    {
      "metadata": {},
      "cell_type": "markdown",
      "source": "## 7. Studying the Survivors\n"
    },
    {
      "metadata": {},
      "cell_type": "markdown",
      "source": "The Reverend Henry Whitehead was skeptical of John Snow’s conclusion about the Broad Street pump. After the Broad Street cholera epidemic ended, Whitehead set about trying to prove Snow wrong.  (The history of the event is detailed [here](http://www.ncbi.nlm.nih.gov/pmc/articles/PMC1034367/pdf/medhist00183-0026.pdf).)\n\nHe realized that Snow had focused his analysis almost entirely on those who had died. Whitehead, therefore, investigated the drinking habits of people in the Broad Street area who had not died in the outbreak.\n\nWhat is the main reason it was important to study this group?\n\n1) If Whitehead had found that many people had drunk water from the Broad Street pump and not caught cholera, that would have been evidence against Snow's hypothesis.\n\n2) Survivors could provide additional information about what else could have caused the cholera, potentially unearthing another cause.\n\n3) Through considering the survivors, Whitehead could have identified a cure for cholera."
    },
    {
      "metadata": {
        "trusted": true
      },
      "cell_type": "code",
      "source": "# Assign survivor_answer to 1, 2, or 3\nsurvivor_answer = ...",
      "execution_count": null,
      "outputs": []
    },
    {
      "metadata": {
        "deletable": false,
        "trusted": true
      },
      "cell_type": "code",
      "source": "_ = ok.grade('q7_1')",
      "execution_count": null,
      "outputs": []
    },
    {
      "metadata": {},
      "cell_type": "markdown",
      "source": "**Note:** Whitehead ended up finding further proof that the Broad Street pump played the central role in spreading the disease to the people who lived near it. Eventually, he became one of Snow’s greatest defenders."
    },
    {
      "metadata": {},
      "cell_type": "markdown",
      "source": "## 8. Submission\n"
    },
    {
      "metadata": {
        "collapsed": true
      },
      "cell_type": "markdown",
      "source": "Once you're finished, select \"Save and Checkpoint\" in the File menu and then attach your completed lp01.ipynb file in canvas"
    },
    {
      "metadata": {
        "trusted": true
      },
      "cell_type": "code",
      "source": "# For your convenience, you can run this cell to run all the tests at once!\nimport os\nprint(\"Running all tests...\")\n_ = [ok.grade(q[:-3]) for q in os.listdir(\"tests\") if q.startswith('q') and len(q) <= 10]\nprint(\"Finished running all tests.\")",
      "execution_count": null,
      "outputs": []
    },
    {
      "metadata": {
        "trusted": true
      },
      "cell_type": "code",
      "source": "",
      "execution_count": null,
      "outputs": []
    }
  ],
  "metadata": {
    "kernelspec": {
      "name": "python3",
      "display_name": "Python 3",
      "language": "python"
    },
    "language_info": {
      "mimetype": "text/x-python",
      "nbconvert_exporter": "python",
      "name": "python",
      "file_extension": ".py",
      "version": "3.5.4",
      "pygments_lexer": "ipython3",
      "codemirror_mode": {
        "version": 3,
        "name": "ipython"
      }
    }
  },
  "nbformat": 4,
  "nbformat_minor": 1
}