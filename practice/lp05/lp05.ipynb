{
  "cells": [
    {
      "metadata": {},
      "cell_type": "markdown",
      "source": "# Assignment 5: Functions and Iteration"
    },
    {
      "metadata": {},
      "cell_type": "markdown",
      "source": "**Reading**: \n* [Cross-Classifying by more than one variable](https://www.inferentialthinking.com/chapters/08/3/cross-classifying-by-more-than-one-variable.html) \n* [Bike Sharing](https://www.inferentialthinking.com/chapters/08/5/bike-sharing-in-the-bay-area.html) \n* [Randomness](https://www.inferentialthinking.com/chapters/09/randomness.html)"
    },
    {
      "metadata": {
        "collapsed": true,
        "trusted": false
      },
      "cell_type": "code",
      "source": "# Don't change this cell; just run it. \n!pip install okpy\n!pip install datascience\nimport numpy as np\nfrom datascience import *\n\n# These lines do some fancy plotting magic.\nimport matplotlib\n%matplotlib inline\nimport matplotlib.pyplot as plt\nplt.style.use('fivethirtyeight')\nimport warnings\nwarnings.simplefilter('ignore', FutureWarning)\n\nfrom client.api.notebook import Notebook\nok = Notebook('lp05.ok')",
      "execution_count": null,
      "outputs": []
    },
    {
      "metadata": {},
      "cell_type": "markdown",
      "source": "## 1. Working with Text using Functions\n"
    },
    {
      "metadata": {},
      "cell_type": "markdown",
      "source": "The following table contains the words from four chapters of Charles Dickens' [*A Tale of Two Cities*](http://www.gutenberg.org/cache/epub/98/pg98.txt).  We're going to compute some simple facts about each chapter.  Since we're performing the same computation on each chapter, it's best to encapsulate each computational procedure in a function, and then call the function several times. Run the cell to get a table with one column."
    },
    {
      "metadata": {
        "trusted": false
      },
      "cell_type": "code",
      "source": "# Just run this cell to load the data.\ntale_chapters = Table.read_table(\"tale.csv\")\ntale_chapters",
      "execution_count": 2,
      "outputs": []
    },
    {
      "metadata": {},
      "cell_type": "markdown",
      "source": "**Question 1.** Write a function called `word_count` that takes a single argument, the text of a single chapter, and returns the number of words in that chapter.  Assume that words are separated from each other by spaces. \n\n*Hint:* Try the string method [`split`](https://docs.python.org/3/library/stdtypes.html#str.split) and the function [`len`](https://docs.python.org/3/library/functions.html#len)."
    },
    {
      "metadata": {
        "collapsed": true,
        "for_assignment_type": "student",
        "trusted": false
      },
      "cell_type": "code",
      "source": "...\n\nword_count(tale_chapters.column(\"Chapter text\").item(0))",
      "execution_count": null,
      "outputs": []
    },
    {
      "metadata": {
        "deletable": false,
        "trusted": false
      },
      "cell_type": "code",
      "source": "_ = ok.grade('q1_1')",
      "execution_count": 4,
      "outputs": []
    },
    {
      "metadata": {},
      "cell_type": "markdown",
      "source": "**Question 2.** Create an array called `chapter_lengths` which contains the length of each chapter in `tale_chapters`. The length of a chapter is equivalent to the number of words in that chapter.\n\n**Hint:** Consider using `apply` along with the function you have defined in the previous question."
    },
    {
      "metadata": {
        "trusted": false
      },
      "cell_type": "code",
      "source": "chapter_lengths = ...\nchapter_lengths",
      "execution_count": 5,
      "outputs": []
    },
    {
      "metadata": {
        "deletable": false,
        "trusted": false
      },
      "cell_type": "code",
      "source": "_ = ok.grade('q1_2')",
      "execution_count": 6,
      "outputs": []
    },
    {
      "metadata": {},
      "cell_type": "markdown",
      "source": "**Question 3.** Write a function called `character_count`.  It should take a string as its argument and return the number of characters in that string that aren't spaces (\" \"), periods (\".\"), exclamation marks (\"!\"), or question marks (\"?\"). Remember that `tale_chapters` is a table, and that the function takes in only the text of one chapter as input.\n\n*Hint:* Try using the string method `replace` several times to remove the characters we don't want to count."
    },
    {
      "metadata": {
        "collapsed": true,
        "for_assignment_type": "student",
        "trusted": false
      },
      "cell_type": "code",
      "source": "...",
      "execution_count": null,
      "outputs": []
    },
    {
      "metadata": {
        "deletable": false,
        "trusted": false
      },
      "cell_type": "code",
      "source": "_ = ok.grade('q1_3')",
      "execution_count": 11,
      "outputs": []
    },
    {
      "metadata": {},
      "cell_type": "markdown",
      "source": "**Question 4.** Write a function called `chapter_number`.  It should take a single argument, the text of a chapter from our dataset, and return the number of that chapter, as a Roman numeral.  (For example, it should return the string \"I\" for the first chapter and \"II\" for the second.)  If the argument doesn't have a chapter number in the same place as the chapters in our dataset, `chapter_number` can return whatever you like.\n\nTo help you with this, we've included a function called `text_before`.  Its documentation describes what it does."
    },
    {
      "metadata": {
        "collapsed": true,
        "trusted": false
      },
      "cell_type": "code",
      "source": "def text_before(full_text, pattern):\n    \"\"\"Finds all the text that occurs in full_text before the specified pattern.\n\n    Parameters\n    ----------\n    full_text : str (String)\n        The text we want to search within.\n    pattern : str (String)\n        The thing we want to search for.\n\n    Returns\n    -------\n    str (String)\n        All the text that occurs in full_text before pattern.  If pattern\n        doesn't appear anywhere, all of full_text is returned.\n    \n    Examples\n    --------\n    \n    >>> text_before(\"The rain in Spain falls mainly on the plain.\", \"Spain\")\n    'The rain in '\n    >>> text_before(\"The rain in Spain falls mainly on the plain.\", \"ain\")\n    'The r'\n    >>> text_before(\"The rain in Spain falls mainly on the plain.\", \"Portugal\")\n    'The rain in Spain falls mainly on the plain.'\n    \"\"\"\n    return np.array(full_text.split(pattern)).item(0)\n\ndef chapter_number(chapter_text):\n    ...",
      "execution_count": 12,
      "outputs": []
    },
    {
      "metadata": {
        "deletable": false,
        "trusted": false
      },
      "cell_type": "code",
      "source": "_ = ok.grade('q1_4')",
      "execution_count": 13,
      "outputs": []
    },
    {
      "metadata": {},
      "cell_type": "markdown",
      "source": "## 2. Rolling Dice\n"
    },
    {
      "metadata": {},
      "cell_type": "markdown",
      "source": "**Question 1:** Simulate a random roll of a 6-sided fair die. Assume that all sides are equally likely to be obtained from a roll."
    },
    {
      "metadata": {
        "trusted": false
      },
      "cell_type": "code",
      "source": "die = make_array(1, 2, 3, 4, 5, 6)\none_random_roll = ...",
      "execution_count": null,
      "outputs": []
    },
    {
      "metadata": {
        "deletable": false,
        "trusted": false
      },
      "cell_type": "code",
      "source": "_ = ok.grade('q2_1')",
      "execution_count": null,
      "outputs": []
    },
    {
      "metadata": {},
      "cell_type": "markdown",
      "source": "**Question 2:** Define a function `mean_of_n_rolls` that takes in an integer `n` and returns the mean value of `n` random rolls of a fair die."
    },
    {
      "metadata": {
        "for_assignment_type": "student",
        "trusted": false
      },
      "cell_type": "code",
      "source": "...\n\nmean_of_n_rolls(5)",
      "execution_count": 1,
      "outputs": []
    },
    {
      "metadata": {
        "deletable": false,
        "trusted": false
      },
      "cell_type": "code",
      "source": "_ = ok.grade('q2_2')",
      "execution_count": null,
      "outputs": []
    },
    {
      "metadata": {},
      "cell_type": "markdown",
      "source": "**Question 3:** Simulate 10 random rolls of a fair die 10,000 times. Record the mean of each set of 10 rolls in an array called `ten_rolls_means`.\n\n**Hint:** You may want to use a `for` loop."
    },
    {
      "metadata": {
        "for_assignment_type": "student",
        "trusted": false
      },
      "cell_type": "code",
      "source": "...\n\nten_rolls_means",
      "execution_count": 1,
      "outputs": []
    },
    {
      "metadata": {
        "deletable": false,
        "trusted": false
      },
      "cell_type": "code",
      "source": "_ = ok.grade('q2_3')",
      "execution_count": null,
      "outputs": []
    },
    {
      "metadata": {
        "collapsed": true,
        "trusted": false
      },
      "cell_type": "code",
      "source": "# For your convenience, you can run this cell to run all the tests at once!\nimport os\nprint(\"Running all tests...\")\n_ = [ok.grade(q[:-3]) for q in os.listdir(\"tests\") if q.startswith('q') and len(q) <= 10]\nprint(\"Finished running all tests.\")",
      "execution_count": null,
      "outputs": []
    }
  ],
  "metadata": {
    "kernelspec": {
      "name": "python3",
      "display_name": "Python 3",
      "language": "python"
    },
    "language_info": {
      "mimetype": "text/x-python",
      "nbconvert_exporter": "python",
      "name": "python",
      "pygments_lexer": "ipython3",
      "version": "3.5.4",
      "file_extension": ".py",
      "codemirror_mode": {
        "version": 3,
        "name": "ipython"
      }
    }
  },
  "nbformat": 4,
  "nbformat_minor": 1
}