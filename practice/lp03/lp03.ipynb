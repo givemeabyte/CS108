{
  "cells": [
    {
      "metadata": {},
      "cell_type": "markdown",
      "source": "# Assignment 3: Table Manipulation and Visualization"
    },
    {
      "metadata": {},
      "cell_type": "markdown",
      "source": "**Reading**: \n* [Visualization](https://www.inferentialthinking.com/chapters/07/visualization.html)"
    },
    {
      "metadata": {},
      "cell_type": "markdown",
      "source": "Please complete this notebook by filling in the cells provided. Before you begin, execute the following cell to load the provided tests. Each time you start your server, you will need to execute this cell again to load the tests.\n\nThroughout this assignment and all future ones, please be sure to not re-assign variables throughout the notebook! For example, if you use `max_temperature` in your answer to one question, do not reassign it later on. Moreover, please be sure to only put your written answers in the provided cells. "
    },
    {
      "metadata": {
        "trusted": false
      },
      "cell_type": "code",
      "source": "# Don't change this cell; just run it. \n!pip install okpy\n!pip install datascience\nimport numpy as np\nfrom datascience import *\n\n\n# These lines do some fancy plotting magic.\\n\",\nimport matplotlib\n%matplotlib inline\nimport matplotlib.pyplot as plots\nplots.style.use('fivethirtyeight')\n\nfrom client.api.notebook import Notebook\nok = Notebook('lp03.ok')",
      "execution_count": null,
      "outputs": []
    },
    {
      "metadata": {},
      "cell_type": "markdown",
      "source": "## 1. Unemployment\n"
    },
    {
      "metadata": {},
      "cell_type": "markdown",
      "source": "The Federal Reserve Bank of St. Louis publishes data about jobs in the US.  Below, we've loaded data on unemployment in the United States. There are many ways of defining unemployment, and our dataset includes two notions of the unemployment rate:\n\n1. Among people who are able to work and are looking for a full-time job, the percentage who can't find a job.  This is called the Non-Employment Index, or NEI.\n2. Among people who are able to work and are looking for a full-time job, the percentage who can't find any job *or* are only working at a part-time job.  The latter group is called \"Part-Time for Economic Reasons\", so the acronym for this index is NEI-PTER.  (Economists are great at marketing.)\n\nThe source of the data is [here](https://fred.stlouisfed.org/categories/33509)."
    },
    {
      "metadata": {},
      "cell_type": "markdown",
      "source": "**Question 1.** The data are in a CSV file called `unemployment.csv`.  Load that file into a table called `unemployment`."
    },
    {
      "metadata": {
        "trusted": false
      },
      "cell_type": "code",
      "source": "unemployment = ...\nunemployment",
      "execution_count": 4,
      "outputs": []
    },
    {
      "metadata": {
        "deletable": false,
        "trusted": false
      },
      "cell_type": "code",
      "source": "_ = ok.grade('q1_1')",
      "execution_count": 5,
      "outputs": []
    },
    {
      "metadata": {},
      "cell_type": "markdown",
      "source": "**Question 2.** Sort the data in descending order by NEI, naming the sorted table `by_nei`.  Create another table called `by_nei_pter` that's sorted in descending order by NEI-PTER instead."
    },
    {
      "metadata": {
        "trusted": false
      },
      "cell_type": "code",
      "source": "by_nei = ...\nby_nei_pter = ...",
      "execution_count": 6,
      "outputs": []
    },
    {
      "metadata": {
        "deletable": false,
        "trusted": false
      },
      "cell_type": "code",
      "source": "_ = ok.grade('q1_2')",
      "execution_count": 5,
      "outputs": []
    },
    {
      "metadata": {},
      "cell_type": "markdown",
      "source": "**Question 3.** Use `take` to make a table containing the data for the 10 quarters when NEI was greatest.  Call that table `greatest_nei`.\n\n`greatest_nei` should be sorted in descending order of `NEI` starting from the greatest value. Additionally, each row of `unemployment` represents a quarter."
    },
    {
      "metadata": {
        "trusted": false
      },
      "cell_type": "code",
      "source": "greatest_nei = ...\ngreatest_nei",
      "execution_count": 7,
      "outputs": []
    },
    {
      "metadata": {
        "deletable": false,
        "trusted": false
      },
      "cell_type": "code",
      "source": "_ = ok.grade('q1_3')",
      "execution_count": 7,
      "outputs": []
    },
    {
      "metadata": {},
      "cell_type": "markdown",
      "source": "**Question 4.** It's believed that many people became PTER (recall: \"Part-Time for Economic Reasons\") in the \"Great Recession\" of 2008-2009.  NEI-PTER is the percentage of people who are unemployed (and counted in the NEI) plus the percentage of people who are PTER.  Compute an array containing the percentage of people who were PTER in each quarter.  (The first element of the array should correspond to the first row of `unemployment`, and so on.)\n\n*Note:* Use the original `unemployment` table for this."
    },
    {
      "metadata": {
        "trusted": false
      },
      "cell_type": "code",
      "source": "pter = ...\npter",
      "execution_count": 8,
      "outputs": []
    },
    {
      "metadata": {
        "deletable": false,
        "trusted": false
      },
      "cell_type": "code",
      "source": "_ = ok.grade('q1_4')",
      "execution_count": 9,
      "outputs": []
    },
    {
      "metadata": {},
      "cell_type": "markdown",
      "source": "**Question 5.** Add `pter` as a column to `unemployment` (named \"PTER\") and sort the resulting table by that column in descending order.  Call the table `by_pter`.\n\nTry to do this with a single line of code, if you can."
    },
    {
      "metadata": {
        "trusted": false
      },
      "cell_type": "code",
      "source": "by_pter = ...\nby_pter",
      "execution_count": 10,
      "outputs": []
    },
    {
      "metadata": {
        "deletable": false,
        "trusted": false
      },
      "cell_type": "code",
      "source": "_ = ok.grade('q1_5')",
      "execution_count": 11,
      "outputs": []
    },
    {
      "metadata": {},
      "cell_type": "markdown",
      "source": "**Question 6.** Create a line plot of the PTER over time. To do this, first add the `year` array and the `pter` array to the `unemployment` table; label these columns `Year` and `PTER`, respectively. Then, generate a line plot using one of the table methods you've learned in class. Assign this new table to `pter_over_time`.\n\n**Note:** Make sure that in your `pter_over_time` table, the `Year` column comes before the `PTER` column."
    },
    {
      "metadata": {
        "scrolled": false,
        "trusted": false
      },
      "cell_type": "code",
      "source": "year = 1994 + np.arange(by_pter.num_rows)/4\npter_over_time = ...\n...",
      "execution_count": 1,
      "outputs": []
    },
    {
      "metadata": {
        "deletable": false,
        "trusted": false
      },
      "cell_type": "code",
      "source": "_ = ok.grade('q1_6')",
      "execution_count": 16,
      "outputs": []
    },
    {
      "metadata": {},
      "cell_type": "markdown",
      "source": "**Question 7.** Were PTER rates high during or directly after the Great Recession (that is to say, were PTER rates particularly high in the years 2008 through 2011)? Assign highPTER to `True` if you think PTER rates were high in this period, and `False` if you think they weren't. "
    },
    {
      "metadata": {
        "collapsed": true,
        "trusted": false
      },
      "cell_type": "code",
      "source": "highPTER = ...",
      "execution_count": 14,
      "outputs": []
    },
    {
      "metadata": {
        "deletable": false,
        "trusted": false
      },
      "cell_type": "code",
      "source": "_ = ok.grade('q1_7')",
      "execution_count": 15,
      "outputs": []
    },
    {
      "metadata": {},
      "cell_type": "markdown",
      "source": "## 2. Birth Rates\n"
    },
    {
      "metadata": {},
      "cell_type": "markdown",
      "source": "The following table gives census-based population estimates for each state on both July 1, 2015 and July 1, 2016. The last four columns describe the components of the estimated change in population during this time interval. **For all questions below, assume that the word \"states\" refers to all 52 rows including Puerto Rico & the District of Columbia.**\n\nThe data was taken from [here](http://www2.census.gov/programs-surveys/popest/datasets/2010-2016/national/totals/nst-est2016-alldata.csv).\n\nIf you want to read more about the different column descriptions, click [here](http://www2.census.gov/programs-surveys/popest/datasets/2010-2015/national/totals/nst-est2015-alldata.pdf)!"
    },
    {
      "metadata": {
        "trusted": false
      },
      "cell_type": "code",
      "source": "# Don't change this cell; just run it.\npop = Table.read_table('nst-est2016-alldata.csv').where('SUMLEV', 40).select([1, 4, 12, 13, 27, 34, 62, 69])\npop = pop.relabeled('POPESTIMATE2015', '2015').relabeled('POPESTIMATE2016', '2016')\npop = pop.relabeled('BIRTHS2016', 'BIRTHS').relabeled('DEATHS2016', 'DEATHS')\npop = pop.relabeled('NETMIG2016', 'MIGRATION').relabeled('RESIDUAL2016', 'OTHER')\npop.set_format([2, 3, 4, 5, 6, 7], NumberFormatter(decimals=0)).show(5)",
      "execution_count": 47,
      "outputs": []
    },
    {
      "metadata": {},
      "cell_type": "markdown",
      "source": "**Question 1.** Assign `us_birth_rate` to the total US annual birth rate during this time interval. The annual birth rate for a year-long period is the total number of births in that period as a proportion of the population size at the start of the time period.\n\n**Hint:** Which year corresponds to the start of the time period?"
    },
    {
      "metadata": {
        "trusted": false
      },
      "cell_type": "code",
      "source": "us_birth_rate = ...\nus_birth_rate",
      "execution_count": 48,
      "outputs": []
    },
    {
      "metadata": {
        "deletable": false,
        "trusted": false
      },
      "cell_type": "code",
      "source": "_ = ok.grade('q2_1')",
      "execution_count": 49,
      "outputs": []
    },
    {
      "metadata": {},
      "cell_type": "markdown",
      "source": "**Question 2.** Assign `movers` to the number of states for which the **absolute value** of the **annual rate of migration** was higher than 1%. The annual rate of migration for a year-long period is the net number of migrations (in and out) as a proportion of the population size at the start of the period. The `MIGRATION` column contains estimated annual net migration counts by state."
    },
    {
      "metadata": {
        "trusted": false
      },
      "cell_type": "code",
      "source": "migration_rates = ...\nmovers = ...\nmovers",
      "execution_count": 50,
      "outputs": []
    },
    {
      "metadata": {
        "deletable": false,
        "scrolled": true,
        "trusted": false
      },
      "cell_type": "code",
      "source": "_ = ok.grade('q2_2')",
      "execution_count": 51,
      "outputs": []
    },
    {
      "metadata": {},
      "cell_type": "markdown",
      "source": "**Question 3.** Assign `west_births` to the total number of births that occurred in region 4 (the Western US). \n\n**Hint:** Make sure you double check the type of the values in the region column."
    },
    {
      "metadata": {
        "trusted": false
      },
      "cell_type": "code",
      "source": "west_births = ...\nwest_births",
      "execution_count": 52,
      "outputs": []
    },
    {
      "metadata": {
        "deletable": false,
        "trusted": false
      },
      "cell_type": "code",
      "source": "_ = ok.grade('q2_3')",
      "execution_count": 53,
      "outputs": []
    },
    {
      "metadata": {},
      "cell_type": "markdown",
      "source": "**Question 4.** Assign `less_than_west_births` to the number of states that had a total population in 2016 that was smaller than the *total number of births in region 4 (the Western US)* during this time interval."
    },
    {
      "metadata": {
        "trusted": false
      },
      "cell_type": "code",
      "source": "less_than_west_births = ...\nless_than_west_births",
      "execution_count": 54,
      "outputs": []
    },
    {
      "metadata": {
        "deletable": false,
        "trusted": false
      },
      "cell_type": "code",
      "source": "_ = ok.grade('q2_4')",
      "execution_count": 55,
      "outputs": []
    },
    {
      "metadata": {},
      "cell_type": "markdown",
      "source": "**Question 5.** \n\nIn the next question, you will be creating a visualization to understand the relationship between birth and death rates. The annual death rate for a year-long period is the total number of deaths in that period as a proportion of the population size at the start of the time period.\n\nWhat visualization is most appropriate to see if there is an association between birth and death rates during a given time interval?\n\n1. Line Graph\n<br>\n2. Scatter Plot\n<br>\n3. Bar Chart\n\nAssign `visualization` below to the number corresponding to the correct visualization."
    },
    {
      "metadata": {
        "trusted": false
      },
      "cell_type": "code",
      "source": "visualization = ...",
      "execution_count": 56,
      "outputs": []
    },
    {
      "metadata": {
        "trusted": false
      },
      "cell_type": "code",
      "source": "_ = ok.grade('q2_5')",
      "execution_count": 57,
      "outputs": []
    },
    {
      "metadata": {},
      "cell_type": "markdown",
      "source": "**Question 6.** \n\nIn the code cell below, create a visualization that will help us determine if there is an association between birth rate and death rate during this time interval. It may be helpful to create an intermediate table here."
    },
    {
      "metadata": {
        "deletable": false,
        "manual_problem_id": "birth_death_rates_graph",
        "trusted": false
      },
      "cell_type": "code",
      "source": "# Generate your chart in this cell\n...",
      "execution_count": 58,
      "outputs": []
    },
    {
      "metadata": {},
      "cell_type": "markdown",
      "source": "**Question 7.** `True` or `False`: There is an association between birth rate and death rate during this time interval. \n\nAssign `assoc` to `True` or `False` in the cell below. "
    },
    {
      "metadata": {
        "trusted": false
      },
      "cell_type": "code",
      "source": "assoc = ...",
      "execution_count": 59,
      "outputs": []
    },
    {
      "metadata": {
        "deletable": false,
        "trusted": false
      },
      "cell_type": "code",
      "source": "_ = ok.grade('q2_7')",
      "execution_count": 60,
      "outputs": []
    },
    {
      "metadata": {},
      "cell_type": "markdown",
      "source": "## 3. Marginal Histograms\n"
    },
    {
      "metadata": {},
      "cell_type": "markdown",
      "source": "Consider the following scatter plot: ![](scatter.png)\n\nThe axes of the plot represent values of two variables: $x$ and $y$. "
    },
    {
      "metadata": {},
      "cell_type": "markdown",
      "source": "Suppose we have a table called `t` that has two columns in it:\n\n- `x`: a column containing the x-values of the points in the scatter plot\n- `y`: a column containing the y-values of the points in the scatter plot"
    },
    {
      "metadata": {},
      "cell_type": "markdown",
      "source": "**Question 1:** Match each of the following histograms to the code that produced them. Explain your reasoning."
    },
    {
      "metadata": {},
      "cell_type": "markdown",
      "source": "**Histogram A:** ![](var1.png)\n**Histogram B:** ![](var2.png)"
    },
    {
      "metadata": {
        "deletable": false,
        "for_assignment_type": "student",
        "manual_problem_id": "hist_x"
      },
      "cell_type": "markdown",
      "source": "**Line 1:** `t.hist('x')`\n\n**Histogram for Line 1:**\n\n**Explanation:**"
    },
    {
      "metadata": {
        "deletable": false,
        "for_assignment_type": "student",
        "manual_problem_id": "hist_y"
      },
      "cell_type": "markdown",
      "source": "**Line 2:** `t.hist('y')`\n\n**Histogram for Line 2:**\n\n**Explanation:**"
    },
    {
      "metadata": {},
      "cell_type": "markdown",
      "source": "## 4. Uber\n"
    },
    {
      "metadata": {},
      "cell_type": "markdown",
      "source": "Below we load tables containing 200,000 weekday Uber rides in the Manila, Philippines, and Boston, Massachusetts metropolitan areas from the [Uber Movement](https://movement.uber.com) project. The `sourceid` and `dstid` columns contain codes corresponding to start and end locations of each ride. The `hod` column contains codes corresponding to the hour of the day the ride took place. The `ride time` table contains the length of the ride, in minutes."
    },
    {
      "metadata": {
        "for_question_type": "solution",
        "scrolled": true,
        "trusted": false
      },
      "cell_type": "code",
      "source": "boston = Table.read_table(\"boston.csv\")\nmanila = Table.read_table(\"manila.csv\")\nprint(\"Boston Table\")\nboston.show(4)\nprint(\"Manila Table\")\nmanila.show(4)",
      "execution_count": 2,
      "outputs": []
    },
    {
      "metadata": {},
      "cell_type": "markdown",
      "source": "**Question 1.**\nProduce histograms of all ride times in Boston and in Manila, using the given bins. Please put the code for both of them in the following cells, and put the ride times for Boston first.  "
    },
    {
      "metadata": {
        "deletable": false,
        "manual_problem_id": "uber_1",
        "scrolled": true,
        "trusted": false
      },
      "cell_type": "code",
      "source": "equal_bins = np.arange(0, 120, 5)\n...",
      "execution_count": 3,
      "outputs": []
    },
    {
      "metadata": {
        "trusted": false
      },
      "cell_type": "code",
      "source": "...\n\n# Don't delete the following line!\nplots.ylim(0, 0.05)",
      "execution_count": 4,
      "outputs": []
    },
    {
      "metadata": {},
      "cell_type": "markdown",
      "source": "**Question 2.** Assign `boston_under_10` and `manila_under_10` to the percentage of rides that are less than 10 minutes in their respective metropolitan areas. Use the height variables provided below in order to compute the percentages. Your solution should consist of only mathematical operations and numbers."
    },
    {
      "metadata": {
        "deletable": false,
        "manual_problem_id": "uber_2",
        "trusted": false
      },
      "cell_type": "code",
      "source": "boston_under_5_height = 1.2\nmanila_under_5_height = 0.6\nboston_5_to_under_10_height = 3.2\nmanila_5_to_under_10_height = 1.4\n\nboston_under_10 = ...\nmanila_under_10 = ...",
      "execution_count": 5,
      "outputs": []
    },
    {
      "metadata": {
        "trusted": false
      },
      "cell_type": "code",
      "source": "_ = ok.grade('q4_2')",
      "execution_count": null,
      "outputs": []
    },
    {
      "metadata": {},
      "cell_type": "markdown",
      "source": "**Question 3.** Let's take a closer look at the distribution of ride times in Manila. Assign `manila_median_bucket` to 1, 2, 3, or 4, where each number corresponds to a bucket which contains the median time.\n\n1: 0-20   minutes  \n2: 20-40 minutes  \n3: 40-60 minutes  \n4: 60-80 minutes  \n\nThe median of a sorted, nondecreasing list has half of the list elements to its left, and half to its right."
    },
    {
      "metadata": {
        "trusted": false
      },
      "cell_type": "code",
      "source": "manila_median_bucket = ...\nmanila_median_bucket",
      "execution_count": 6,
      "outputs": []
    },
    {
      "metadata": {
        "deletable": false,
        "trusted": false
      },
      "cell_type": "code",
      "source": "_ = ok.grade('q4_3')",
      "execution_count": 26,
      "outputs": []
    },
    {
      "metadata": {},
      "cell_type": "markdown",
      "source": "**Question 4.** Comment on the main difference between the two histograms. What might be causing this?\n\n**Hint:** Try thinking about external factors that may be causing the difference!"
    },
    {
      "metadata": {
        "deletable": false,
        "for_assignment_type": "student",
        "manual_problem_id": "uber_4"
      },
      "cell_type": "markdown",
      "source": "**Your Answer Here**:"
    },
    {
      "metadata": {
        "collapsed": true,
        "trusted": false
      },
      "cell_type": "code",
      "source": "# For your convenience, you can run this cell to run all the tests at once!\nimport os\nprint(\"Running all tests...\")\n_ = [ok.grade(q[:-3]) for q in os.listdir(\"tests\") if q.startswith('q') and len(q) <= 10]\nprint(\"Finished running all tests.\")",
      "execution_count": null,
      "outputs": []
    }
  ],
  "metadata": {
    "kernelspec": {
      "name": "python3",
      "display_name": "Python 3",
      "language": "python"
    },
    "language_info": {
      "mimetype": "text/x-python",
      "nbconvert_exporter": "python",
      "name": "python",
      "pygments_lexer": "ipython3",
      "version": "3.5.4",
      "file_extension": ".py",
      "codemirror_mode": {
        "version": 3,
        "name": "ipython"
      }
    }
  },
  "nbformat": 4,
  "nbformat_minor": 1
}