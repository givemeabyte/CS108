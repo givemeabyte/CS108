{
  "cells": [
    {
      "metadata": {},
      "cell_type": "markdown",
      "source": "# Assignment 6: Probability, Simulation, Estimation, and Assessing Models"
    },
    {
      "metadata": {},
      "cell_type": "markdown",
      "source": "**Reading**: \n* [Randomness](https://www.inferentialthinking.com/chapters/09/randomness.html) \n* [Sampling and Empirical Distributions](https://www.inferentialthinking.com/chapters/10/sampling-and-empirical-distributions.html)\n* [Testing Hypotheses](https://www.inferentialthinking.com/chapters/11/testing-hypotheses.html)"
    },
    {
      "metadata": {
        "collapsed": true,
        "trusted": false
      },
      "cell_type": "code",
      "source": "# Don't change this cell; just run it. \n!pip install okpy\n!pip install datascience\nimport numpy as np\nfrom datascience import *\n\n# These lines do some fancy plotting magic.\nimport matplotlib\n%matplotlib inline\nimport matplotlib.pyplot as plt\nplt.style.use('fivethirtyeight')\nimport warnings\nwarnings.simplefilter('ignore', FutureWarning)\n\nfrom client.api.notebook import Notebook\nok = Notebook('lp06.ok')",
      "execution_count": null,
      "outputs": []
    },
    {
      "metadata": {},
      "cell_type": "markdown",
      "source": "## 1. Probability\n"
    },
    {
      "metadata": {
        "deletable": false,
        "editable": false
      },
      "cell_type": "markdown",
      "source": "We will be testing some probability concepts that were introduced in lecture. For all of the following problems, we will introduce a problem statement and give you a proposed answer. Next, for each of the following questions, you must assign the provided variable to one of three integers. You are more than welcome to create more cells across this notebook to use for arithmetic operations, but be sure to assign the provided variable to 1, 2, or 3 in the end. \n\n1. Assign the variable to 1 if you believe our proposed answer is too low.\n2. Assign the variable to 2 if you believe our proposed answer is correct.\n3. Assign the variable to 3 if you believe our proposed answer is too high.\n\n**Question 1.** You roll a 6-sided die 10 times. What is the chance of getting 10 sixes?\n\nOur proposed answer: $$\\left(\\frac{1}{6}\\right)^{10}$$\n\nAssign `ten_sixes` to either 1, 2, or 3 depending on if you think our answer is too low, correct, or too high. \n\n```\nBEGIN QUESTION\nname: q1_1\nmanual: false\n```"
    },
    {
      "metadata": {
        "deletable": false,
        "trusted": false
      },
      "cell_type": "code",
      "source": "ten_sixes = ...\nten_sixes",
      "execution_count": 2,
      "outputs": []
    },
    {
      "metadata": {
        "trusted": false
      },
      "cell_type": "code",
      "source": "# TEST\nten_sixes in [1,2,3]",
      "execution_count": 3,
      "outputs": []
    },
    {
      "metadata": {
        "trusted": false
      },
      "cell_type": "code",
      "source": "# HIDDEN TEST\nten_sixes == 2",
      "execution_count": 4,
      "outputs": []
    },
    {
      "metadata": {
        "deletable": false,
        "editable": false
      },
      "cell_type": "markdown",
      "source": "**Question 2.** Take the same problem set-up as before, rolling a fair dice 10 times. What is the chance that every roll is less than or equal to 5?\n\nOur proposed answer: $$1 - \\left(\\frac{1}{6}\\right)^{10}$$\n\nAssign `five_or_less` to either 1, 2, or 3. \n\n```\nBEGIN QUESTION\nname: q1_2\nmanual: false\n```"
    },
    {
      "metadata": {
        "deletable": false,
        "trusted": false
      },
      "cell_type": "code",
      "source": "five_or_less = ...\nfive_or_less",
      "execution_count": 5,
      "outputs": []
    },
    {
      "metadata": {
        "trusted": false
      },
      "cell_type": "code",
      "source": "# TEST\nfive_or_less in [1,2,3]",
      "execution_count": 6,
      "outputs": []
    },
    {
      "metadata": {
        "trusted": false
      },
      "cell_type": "code",
      "source": "# HIDDEN TEST\nfive_or_less == 3",
      "execution_count": 7,
      "outputs": []
    },
    {
      "metadata": {
        "deletable": false,
        "editable": false
      },
      "cell_type": "markdown",
      "source": "**Question 3.** Assume we are picking a lottery ticket. We must choose three distinct numbers from 1 to 100 and write them on a ticket. Next, someone picks three numbers one by one from a bowl with numbers from 1 to 100 each time without putting the previous number back in. We win if our numbers are all called in order. \n\nIf we decide to play the game and pick our numbers as 12, 14, and 89, what is the chance that we win? \n\nOur proposed answer: $$\\left(\\frac{3}{100}\\right)^3$$\n\nAssign `lottery` to either 1, 2, or 3. \n\n```\nBEGIN QUESTION\nname: q1_3\nmanual: false\n```"
    },
    {
      "metadata": {
        "deletable": false,
        "trusted": false
      },
      "cell_type": "code",
      "source": "lottery = ... ",
      "execution_count": 8,
      "outputs": []
    },
    {
      "metadata": {
        "trusted": false
      },
      "cell_type": "code",
      "source": "# TEST \nlottery in [1,2,3]",
      "execution_count": 9,
      "outputs": []
    },
    {
      "metadata": {
        "trusted": false
      },
      "cell_type": "code",
      "source": "# HIDDEN TEST\nlottery == 3",
      "execution_count": 10,
      "outputs": []
    },
    {
      "metadata": {
        "deletable": false,
        "editable": false
      },
      "cell_type": "markdown",
      "source": "**Question 4.** Assume we have two lists, list A and list B. List A contains the numbers [10,20,30], while list B contains the numbers [10,20,30,40]. We choose one number from list A randomly and one number from list B randomly. What is the chance that the number we drew from list A is larger than the number we drew from list B?\n\nOur proposed solution: $$1/4$$\n\nAssign `list_chances` to either 1, 2, or 3. \n\n```\nBEGIN QUESTION\nname: q1_4\nmanual: false\n```"
    },
    {
      "metadata": {
        "deletable": false,
        "trusted": false
      },
      "cell_type": "code",
      "source": "list_chances = ...",
      "execution_count": 11,
      "outputs": []
    },
    {
      "metadata": {
        "trusted": false
      },
      "cell_type": "code",
      "source": "# TEST \nlist_chances in [1,2,3]",
      "execution_count": 12,
      "outputs": []
    },
    {
      "metadata": {
        "trusted": false
      },
      "cell_type": "code",
      "source": "# HIDDEN TEST\nlist_chances == 2",
      "execution_count": 13,
      "outputs": []
    },
    {
      "metadata": {},
      "cell_type": "markdown",
      "source": "## 2. Monkeys Typing Shakespeare\n##### (...or at least the string \"datascience\")"
    },
    {
      "metadata": {
        "deletable": false,
        "editable": false
      },
      "cell_type": "markdown",
      "source": "A monkey is banging repeatedly on the keys of a typewriter. Each time, the monkey is equally likely to hit any of the 26 lowercase letters of the English alphabet, regardless of what it has hit before. There are no other keys on the keyboard.\n\n**Question 1.** Suppose the monkey hits the keyboard 11 times.  Compute the chance that the monkey types the sequence `datascience`.  (Call this `datascience_chance`.) Use algebra and type in an arithmetic equation that Python can evalute.\n\n```\nBEGIN QUESTION\nname: q2_1\nmanual: false\n```"
    },
    {
      "metadata": {
        "deletable": false,
        "trusted": false
      },
      "cell_type": "code",
      "source": "datascience_chance = ...\ndatascience_chance",
      "execution_count": 2,
      "outputs": []
    },
    {
      "metadata": {
        "trusted": false
      },
      "cell_type": "code",
      "source": "# TEST \nround(datascience_chance, 18) == 2.72e-16",
      "execution_count": 3,
      "outputs": []
    },
    {
      "metadata": {
        "deletable": false,
        "editable": false
      },
      "cell_type": "markdown",
      "source": "**Question 2.** Write a function called `simulate_key_strike`.  It should take **no arguments**, and it should return a random one-character string that is equally likely to be any of the 26 lower-case English letters. \n\n```\nBEGIN QUESTION\nname: q2_2\nmanual: false\n```"
    },
    {
      "metadata": {
        "deletable": false,
        "trusted": false
      },
      "cell_type": "code",
      "source": "# We have provided the code below to compute a list called letters,\n# containing all the lower-case English letters.  Print it if you\n# want to verify what it contains.\nimport string\nletters = list(string.ascii_lowercase)\n\ndef simulate_key_strike():\n    \"\"\"Simulates one random key strike.\"\"\"\n    ...\n\n# An example call to your function:\nsimulate_key_strike()",
      "execution_count": 4,
      "outputs": []
    },
    {
      "metadata": {
        "trusted": false
      },
      "cell_type": "code",
      "source": "# TEST\nsimulate_key_strike() is not None",
      "execution_count": 5,
      "outputs": []
    },
    {
      "metadata": {
        "trusted": false
      },
      "cell_type": "code",
      "source": "# TEST\nimport string\nall([simulate_key_strike() in string.ascii_lowercase for i in range(100)])",
      "execution_count": 6,
      "outputs": []
    },
    {
      "metadata": {
        "trusted": false
      },
      "cell_type": "code",
      "source": "# TEST\nimport numpy as np\n26 >= len(np.unique([simulate_key_strike() for i in range(500)])) >= 20",
      "execution_count": 7,
      "outputs": []
    },
    {
      "metadata": {
        "deletable": false,
        "editable": false
      },
      "cell_type": "markdown",
      "source": "**Question 3.** Write a function called `simulate_several_key_strikes`.  It should take one argument: an integer specifying the number of key strikes to simulate. It should return a string containing that many characters, each one obtained from simulating a key strike by the monkey.\n\n*Hint:* If you make a list or array of the simulated key strikes, you can convert that to a string by calling `\"\".join(key_strikes_array)` (if your array is called `key_strikes_array`).\n\n```\nBEGIN QUESTION\nname: q2_3\nmanual: false\n```"
    },
    {
      "metadata": {
        "trusted": false
      },
      "cell_type": "code",
      "source": "# TEST \nlen(simulate_several_key_strikes(15)) == 15",
      "execution_count": 9,
      "outputs": []
    },
    {
      "metadata": {
        "trusted": false
      },
      "cell_type": "code",
      "source": "# TEST \nisinstance(simulate_several_key_strikes(15), str)",
      "execution_count": 10,
      "outputs": []
    },
    {
      "metadata": {
        "trusted": false
      },
      "cell_type": "code",
      "source": "# TEST\nimport numpy as np\n26 >= len(np.unique(list(simulate_several_key_strikes(500)))) >= 20",
      "execution_count": 11,
      "outputs": []
    },
    {
      "metadata": {
        "deletable": false,
        "editable": false
      },
      "cell_type": "markdown",
      "source": "**Question 4.** Use `simulate_several_key_strikes` 1000 times, each time simulating the monkey striking 11 keys.  Compute the proportion of times the monkey types `\"datascience\"`, calling that proportion `datascience_proportion`.\n\n```\nBEGIN QUESTION\nname: q2_4\nmanual: false\n```"
    },
    {
      "metadata": {
        "trusted": false
      },
      "cell_type": "code",
      "source": "# TEST\ndatascience_proportion == 0",
      "execution_count": 13,
      "outputs": []
    },
    {
      "metadata": {
        "deletable": false,
        "editable": false
      },
      "cell_type": "markdown",
      "source": "**Question 5.** Check the value your simulation computed for `datascience_proportion`.  Is your simulation a good way to estimate the chance that the monkey types `\"datascience\"` in 11 strikes (the answer to question 1)?  Why or why not?\n\n```\nBEGIN QUESTION\nname: q2_5\nmanual: true\n```"
    },
    {
      "metadata": {
        "deletable": false,
        "manual_grade": true,
        "manual_problem_id": "monkeys_5"
      },
      "cell_type": "markdown",
      "source": "*Write your answer here, replacing this text.*"
    },
    {
      "metadata": {
        "deletable": false,
        "editable": false
      },
      "cell_type": "markdown",
      "source": "**Question 6.** Compute the chance that the monkey types the letter `\"e\"` at least once in the 11 strikes.  Call it `e_chance`. Use algebra and type in an arithmetic equation that Python can evalute. \n\n```\nBEGIN QUESTION\nname: q2_6\nmanual: false\n```"
    },
    {
      "metadata": {
        "deletable": false,
        "trusted": false
      },
      "cell_type": "code",
      "source": "e_chance = ...\ne_chance",
      "execution_count": 14,
      "outputs": []
    },
    {
      "metadata": {
        "trusted": false
      },
      "cell_type": "code",
      "source": "# TEST\nround(e_chance, 4) == .3504",
      "execution_count": 15,
      "outputs": []
    },
    {
      "metadata": {
        "deletable": false,
        "editable": false
      },
      "cell_type": "markdown",
      "source": "**Question 7.** Do you think that a computer simulation is more or less effective to estimate `e_chance` compared to when we tried to estimate `datascience_chance` this way? Why or why not? (You don't need to write a simulation, but it is an interesting exercise.)\n\n```\nBEGIN QUESTION\nname: q2_7\nmanual: true\n```"
    },
    {
      "metadata": {
        "deletable": false,
        "manual_grade": true,
        "manual_problem_id": "monkeys_7"
      },
      "cell_type": "markdown",
      "source": "*Write your answer here, replacing this text.*"
    },
    {
      "metadata": {},
      "cell_type": "markdown",
      "source": "## 3. Sampling Basketball Players\n"
    },
    {
      "metadata": {},
      "cell_type": "markdown",
      "source": "This exercise uses salary data and game statistics for basketball players from the 2014-2015 NBA season. The data was collected from [Basketball-Reference](http://www.basketball-reference.com) and [Spotrac](http://www.spotrac.com).\n\nRun the next cell to load the two datasets."
    },
    {
      "metadata": {
        "trusted": false
      },
      "cell_type": "code",
      "source": "player_data = Table.read_table('player_data.csv')\nsalary_data = Table.read_table('salary_data.csv')\nplayer_data.show(3)\nsalary_data.show(3)",
      "execution_count": 2,
      "outputs": []
    },
    {
      "metadata": {
        "deletable": false,
        "editable": false
      },
      "cell_type": "markdown",
      "source": "**Question 1.** We would like to relate players' game statistics to their salaries.  Compute a table called `full_data` that includes one row for each player who is listed in both `player_data` and `salary_data`.  It should include all the columns from `player_data` and `salary_data`, except the `\"PlayerName\"` column.\n\n```\nBEGIN QUESTION\nname: q3_1\nmanual: false\n```"
    },
    {
      "metadata": {
        "deletable": false,
        "trusted": false
      },
      "cell_type": "code",
      "source": "full_data = ...\nfull_data",
      "execution_count": 3,
      "outputs": []
    },
    {
      "metadata": {
        "trusted": false
      },
      "cell_type": "code",
      "source": "# TEST\nfull_data.num_rows == 492",
      "execution_count": 4,
      "outputs": []
    },
    {
      "metadata": {
        "trusted": false
      },
      "cell_type": "code",
      "source": "# TEST\nfull_data.select(sorted(full_data.labels)).sort(4).take(range(3))",
      "execution_count": 5,
      "outputs": []
    },
    {
      "metadata": {
        "deletable": false,
        "editable": false
      },
      "cell_type": "markdown",
      "source": "Basketball team managers would like to hire players who perform well but don't command high salaries.  From this perspective, a very crude measure of a player's *value* to their team is the number of points the player scored in a season for every **\\$1000 of salary** (*Note*: the `Salary` column is in dollars, not thousands of dollars). For example, Al Horford scored 1156 points and has a salary of **\\$12 million.** This is equivalent to 12,000 thousands of dollars, so his value is $\\frac{1156}{12000}$.\n\n**Question 2.** Create a table called `full_data_with_value` that's a copy of `full_data`, with an extra column called `\"Value\"` containing each player's value (according to our crude measure).  Then make a histogram of players' values.  **Specify bins that make the histogram informative, and don't forget your units!** Remember that `hist()` takes in an optional third argument that allows you to specify the units!\n\n*Hint*: Informative histograms contain a majority of the data and **exclude outliers**.\n\n```\nBEGIN QUESTION\nname: q3_2\nmanual: true\n```"
    },
    {
      "metadata": {
        "deletable": false,
        "manual_grade": true,
        "manual_problem_id": "sampling_players_2",
        "trusted": false
      },
      "cell_type": "code",
      "source": "full_data_with_value = ...\n...",
      "execution_count": 6,
      "outputs": []
    },
    {
      "metadata": {},
      "cell_type": "markdown",
      "source": "Now suppose we weren't able to find out every player's salary (perhaps it was too costly to interview each player).  Instead, we have gathered a *simple random sample* of 100 players' salaries.  The cell below loads those data."
    },
    {
      "metadata": {
        "scrolled": true,
        "trusted": false
      },
      "cell_type": "code",
      "source": "sample_salary_data = Table.read_table(\"sample_salary_data.csv\")\nsample_salary_data.show(3)",
      "execution_count": 7,
      "outputs": []
    },
    {
      "metadata": {
        "deletable": false,
        "editable": false
      },
      "cell_type": "markdown",
      "source": "**Question 3.** Make a histogram of the values of the players in `sample_salary_data`, using the same method for measuring value we used in question 2.  **Use the same bins, too.**  \n\n*Hint:* This will take several steps.\n\n```\nBEGIN QUESTION\nname: q3_3\nmanual: true\n```"
    },
    {
      "metadata": {
        "trusted": false
      },
      "cell_type": "code",
      "source": "sample_data = player_data.join('Name', sample_salary_data, 'PlayerName')\nsample_data_with_value = ...\n...",
      "execution_count": 9,
      "outputs": []
    },
    {
      "metadata": {
        "deletable": false,
        "editable": false
      },
      "cell_type": "markdown",
      "source": "Now let us summarize what we have seen.  To guide you, we have written most of the summary already.\n\n**Question 4.** Complete the statements below by filling in the [SQUARE BRACKETS]. \n\n*Hint 1:* For a refresher on distribution types, check out [Section 10.1](https://www.inferentialthinking.com/chapters/10/1/empirical-distributions.html)\n\n*Hint 2:* The `hist()` table method ignores data points outside the range of its bins, but you may ignore this fact and calculate the areas of the bars using what you know about histograms from lecture.\n\nCopy the following two statements below into the next cell, and then fill in the [SQUARE BRACKETS].\n\n* The plot in question 2 displayed a(n) [DISTRIBUTION TYPE] distribution of the population of [A NUMBER] players.  The areas of the bars in the plot sum to [A NUMBER].\n\n* The plot in question 3 displayed a(n) [DISTRIBUTION TYPE] distribution of the sample of [A NUMBER] players.  The areas of the bars in the plot sum to [A NUMBER].\n\n```\nBEGIN QUESTION\nname: q3_4\nmanual: true\n```"
    },
    {
      "metadata": {},
      "cell_type": "markdown",
      "source": "*Write your answer here, replacing this text.*"
    },
    {
      "metadata": {
        "deletable": false,
        "editable": false
      },
      "cell_type": "markdown",
      "source": "**Question 5.** For which range of values does the plot in question 3 better depict the distribution of the **population's player values**: 0 to 0.5, or above 0.5? Explain your answer. \n\n```\nBEGIN QUESTION\nname: q3_5\nmanual: true\n```"
    },
    {
      "metadata": {
        "deletable": false,
        "manual_grade": true,
        "manual_problem_id": "sampling_players_5"
      },
      "cell_type": "markdown",
      "source": "*Write your answer here, replacing this text.*"
    },
    {
      "metadata": {},
      "cell_type": "markdown",
      "source": "## 4. Earthquakes\n"
    },
    {
      "metadata": {},
      "cell_type": "markdown",
      "source": "The next cell loads a table containing information about **every earthquake with a magnitude above 4.5** in 2017, compiled by the US Geological Survey. (source: https://earthquake.usgs.gov/earthquakes/search/)"
    },
    {
      "metadata": {
        "ExecuteTime": {
          "end_time": "2018-02-17T03:01:37.654915Z",
          "start_time": "2018-02-17T03:01:37.599746Z"
        },
        "trusted": false
      },
      "cell_type": "code",
      "source": "earthquakes = Table().read_table('earthquakes_2017.csv').select(['time', 'mag', 'place'])\nearthquakes",
      "execution_count": 2,
      "outputs": []
    },
    {
      "metadata": {},
      "cell_type": "markdown",
      "source": "We’re interested in all earthquakes with a magnitude above 4.5 that occurred in 2017. However, we generally don’t have access to this entire population of earthquakes. Instead, if we sample correctly, we can take a small subsample of earthquakes in this year to get an idea about the distribution of magnitudes above 4.5 throughout the year!"
    },
    {
      "metadata": {},
      "cell_type": "markdown",
      "source": "In the following lines of code, we take two different samples from the earthquake table, and calculate the mean of the magnitudes of these earthquakes."
    },
    {
      "metadata": {
        "ExecuteTime": {
          "end_time": "2018-02-17T03:01:37.666923Z",
          "start_time": "2018-02-17T03:01:37.656896Z"
        },
        "trusted": false
      },
      "cell_type": "code",
      "source": "sample1 = earthquakes.sort('mag', descending = True).take(np.arange(100))\nsample1_magnitude_mean = np.mean(sample1.column('mag'))\nsample2 = earthquakes.take(np.arange(100))\nsample2_magnitude_mean = np.mean(sample2.column('mag'))\n[sample1_magnitude_mean, sample2_magnitude_mean]",
      "execution_count": 3,
      "outputs": []
    },
    {
      "metadata": {
        "deletable": false,
        "editable": false
      },
      "cell_type": "markdown",
      "source": "**Question 1.**  Are these samples representative of the population of earthquakes in the original table (that is, the should we expect the mean to be close to the population mean)? \n\n*Hint:* Consider the ordering of the `earthquakes` table. \n\n```\nBEGIN QUESTION\nname: q4_1\nmanual: true\n```"
    },
    {
      "metadata": {
        "deletable": false,
        "manual_problem_id": "earthquakes_1"
      },
      "cell_type": "markdown",
      "source": "*Write your answer here, replacing this text.*"
    },
    {
      "metadata": {
        "deletable": false,
        "editable": false
      },
      "cell_type": "markdown",
      "source": "**Question 2.** Write code that produces a sample that should represent the population of size 500. Then, take the mean of the magnitudes of the earthquakes in this sample. Assign these to `representative_sample` and `representative_mean` respectively. \n\n*Hint:* In class, what sort of samples can properly represent the population?\n\n```\nBEGIN QUESTION\nname: q4_2\nmanual: false\n```"
    },
    {
      "metadata": {
        "ExecuteTime": {
          "end_time": "2018-02-17T03:01:37.67795Z",
          "start_time": "2018-02-17T03:01:37.667925Z"
        },
        "deletable": false,
        "trusted": false
      },
      "cell_type": "code",
      "source": "representative_sample = ...\nrepresentative_mean = ...\nrepresentative_mean",
      "execution_count": 4,
      "outputs": []
    },
    {
      "metadata": {
        "trusted": false
      },
      "cell_type": "code",
      "source": "# TEST \nrepresentative_sample.num_rows == 500",
      "execution_count": 5,
      "outputs": []
    },
    {
      "metadata": {
        "trusted": false
      },
      "cell_type": "code",
      "source": "# TEST \nall(np.in1d(representative_sample.column('mag'), earthquakes.column('mag')))",
      "execution_count": 6,
      "outputs": []
    },
    {
      "metadata": {
        "trusted": false
      },
      "cell_type": "code",
      "source": "# TEST\nrepresentative_mean < max(representative_sample.column('mag')) and representative_mean > min(representative_sample.column('mag')) ",
      "execution_count": 7,
      "outputs": []
    },
    {
      "metadata": {
        "deletable": false,
        "editable": false
      },
      "cell_type": "markdown",
      "source": "**Question 3.** Suppose we want to figure out what the biggest magnitude earthquake was in 2017, but we are tasked with doing this only with a sample of 500 from the earthquakes table. \n\nTo determine whether trying to find the biggest magnitude from a random sample of 500 is a plausible idea, write code that simulates the maximum of a random sample of size 500 from the `earthquakes` table 5000 times. Assign your array of maximums to `maximums`. \n\n```\nBEGIN QUESTION\nname: q4_3\nmanual: false\n```"
    },
    {
      "metadata": {
        "ExecuteTime": {
          "end_time": "2018-02-17T03:01:44.666538Z",
          "start_time": "2018-02-17T03:01:37.708032Z"
        },
        "deletable": false,
        "trusted": false
      },
      "cell_type": "code",
      "source": "maximums = ...\nfor i in np.arange(5000): \n    maximums = ...",
      "execution_count": 8,
      "outputs": []
    },
    {
      "metadata": {
        "trusted": false
      },
      "cell_type": "code",
      "source": "# TEST \nlen(maximums) != 0",
      "execution_count": 9,
      "outputs": []
    },
    {
      "metadata": {
        "trusted": false
      },
      "cell_type": "code",
      "source": "# TEST\nlen(maximums) == 5000",
      "execution_count": 10,
      "outputs": []
    },
    {
      "metadata": {
        "trusted": false
      },
      "cell_type": "code",
      "source": "# TEST \nmax(maximums) <= max(earthquakes.column('mag'))",
      "execution_count": 11,
      "outputs": []
    },
    {
      "metadata": {
        "trusted": false
      },
      "cell_type": "code",
      "source": "#Histogram of your maximums\nTable().with_column('Largest magnitude in sample', maximums).hist('Largest magnitude in sample') ",
      "execution_count": 12,
      "outputs": []
    },
    {
      "metadata": {
        "deletable": false,
        "editable": false
      },
      "cell_type": "markdown",
      "source": "**Question 4.** We want to see if a random sample of size 500 is likely to help you determine the largest magnitude earthquake in the population. To help determine this, find the magnitude of the (actual) strongest earthquake in 2017.\n\n```\nBEGIN QUESTION\nname: q4_4\nmanual: false\n```"
    },
    {
      "metadata": {
        "ExecuteTime": {
          "end_time": "2018-02-17T03:01:44.696619Z",
          "start_time": "2018-02-17T03:01:44.689602Z"
        },
        "deletable": false,
        "trusted": false
      },
      "cell_type": "code",
      "source": "strongest_earthquake_magnitude = ...\nstrongest_earthquake_magnitude",
      "execution_count": 13,
      "outputs": []
    },
    {
      "metadata": {
        "trusted": false
      },
      "cell_type": "code",
      "source": "# TEST \nisinstance(strongest_earthquake_magnitude, float)",
      "execution_count": 14,
      "outputs": []
    },
    {
      "metadata": {
        "trusted": false
      },
      "cell_type": "code",
      "source": "# HIDDEN TEST\nnp.isclose(strongest_earthquake_magnitude, 8.2)",
      "execution_count": 15,
      "outputs": []
    },
    {
      "metadata": {
        "deletable": false,
        "editable": false
      },
      "cell_type": "markdown",
      "source": "**Question 5.** Explain whether you believe you can accurately use a sample size of 500 to determine the maximum. What is one problem with using the maximum as your estimator? Use the histogram above to help answer. \n\n```\nBEGIN QUESTION\nname: q4_5\nmanual: true\n```"
    },
    {
      "metadata": {
        "deletable": false,
        "manual_problem_id": "earthquakes_4"
      },
      "cell_type": "markdown",
      "source": "*Write your answer here, replacing this text.*"
    },
    {
      "metadata": {},
      "cell_type": "markdown",
      "source": "## 5. Assessing Gary's Models\n#### Games with Gary"
    },
    {
      "metadata": {},
      "cell_type": "markdown",
      "source": "Our friend Gary comes over and asks us to play a game with him. The game works like this: \n\n> We will flip a fair coin 10 times, and if the number of heads is greater than or equal to 5, we win!\n> \n> Otherwise, Gary wins.\n\nWe play the game once and we lose, observing 1 head. We are angry and accuse Gary of cheating! Gary is adamant, however, that the coin is fair.\n\nGary's model claims that there is an equal chance of getting heads or tails, but we do not believe him. We believe that the coin is clearly rigged, with heads being less likely than tails. "
    },
    {
      "metadata": {
        "deletable": false,
        "editable": false
      },
      "cell_type": "markdown",
      "source": "#### Question 1\nAssign `coin_model_probabilities` to a two-item array containing the chance of heads as the first element and the chance of tails as the second element under Gary's model. Make sure your values are between 0 and 1. \n\n```\nBEGIN QUESTION\nname: q5_1\nmanual: false\n```"
    },
    {
      "metadata": {
        "deletable": false,
        "trusted": false
      },
      "cell_type": "code",
      "source": "coin_model_probabilities = ...\ncoin_model_probabilities",
      "execution_count": 2,
      "outputs": []
    },
    {
      "metadata": {
        "trusted": false
      },
      "cell_type": "code",
      "source": "# TEST\nlen(coin_model_probabilities) == 2",
      "execution_count": 3,
      "outputs": []
    },
    {
      "metadata": {
        "trusted": false
      },
      "cell_type": "code",
      "source": "# TEST\nsum(coin_model_probabilities) == 1",
      "execution_count": 4,
      "outputs": []
    },
    {
      "metadata": {
        "trusted": false
      },
      "cell_type": "code",
      "source": "# HIDDEN TEST\ncoin_model_probabilities[0] == 0.5",
      "execution_count": 5,
      "outputs": []
    },
    {
      "metadata": {
        "trusted": false
      },
      "cell_type": "code",
      "source": "# HIDDEN TEST\ncoin_model_probabilities[1] == 0.5",
      "execution_count": 6,
      "outputs": []
    },
    {
      "metadata": {
        "deletable": false,
        "editable": false
      },
      "cell_type": "markdown",
      "source": "**Question 2**\n\nWe believe Gary's model is incorrect. In particular, we believe there to be a smaller chance of heads. Which of the following statistics can we use during our simulation to test between the model and our alternative? Assign `statistic_choice` to the correct answer. \n\n1. The distance (absolute value) between the actual number of heads in 10 flips and the expected number of heads in 10 flips (5)\n2. The expected number of heads in 10 flips\n3. The actual number of heads we get in 10 flips\n\n```\nBEGIN QUESTION\nname: q5_2\nmanual: false\n```"
    },
    {
      "metadata": {
        "deletable": false,
        "trusted": false
      },
      "cell_type": "code",
      "source": "statistic_choice = ...\nstatistic_choice",
      "execution_count": 7,
      "outputs": []
    },
    {
      "metadata": {
        "trusted": false
      },
      "cell_type": "code",
      "source": "# HIDDEN TEST\nstatistic_choice == 3",
      "execution_count": 8,
      "outputs": []
    },
    {
      "metadata": {
        "deletable": false,
        "editable": false
      },
      "cell_type": "markdown",
      "source": "#### Question 3\n\nDefine the function `coin_simulation_and_statistic`, which, given a sample size and an array of model proportions (like the one you created in Q1), returns the number of heads in one simulation of flipping the coin under the model specified in `model_proportions`. \n\n*Hint:* Think about how you can use the function `sample_proportions`. \n\n```\nBEGIN QUESTION\nname: q5_3\nmanual: false\n```"
    },
    {
      "metadata": {
        "trusted": false
      },
      "cell_type": "code",
      "source": "# TEST \nnum_heads = coin_simulation_and_statistic(10, coin_model_probabilities)\n0 <= num_heads <= 10",
      "execution_count": 10,
      "outputs": []
    },
    {
      "metadata": {
        "deletable": false,
        "editable": false
      },
      "cell_type": "markdown",
      "source": "**Question 4** \n\nUse your function from above to simulate the flipping of 10 coins 5000 times under the proportions that you specified in problem 1. Keep track of all of your statistics in `coin_statistics`. \n\n```\nBEGIN QUESTION\nname: q5_4\nmanual: false\n```"
    },
    {
      "metadata": {
        "trusted": false
      },
      "cell_type": "code",
      "source": "# TEST\nlen(coin_statistics) == repetitions",
      "execution_count": 12,
      "outputs": []
    },
    {
      "metadata": {
        "trusted": false
      },
      "cell_type": "code",
      "source": "# TEST\nall([0 <= k <= 10 for k in coin_statistics])",
      "execution_count": 13,
      "outputs": []
    },
    {
      "metadata": {},
      "cell_type": "markdown",
      "source": "Let's take a look at the distribution of statistics, using a histogram. "
    },
    {
      "metadata": {
        "trusted": false
      },
      "cell_type": "code",
      "source": "#Draw a distribution of statistics \nTable().with_column('Coin Statistics', coin_statistics).hist()",
      "execution_count": 14,
      "outputs": []
    },
    {
      "metadata": {
        "deletable": false,
        "editable": false
      },
      "cell_type": "markdown",
      "source": "#### Question 5\nGiven your observed value, do you believe that Gary's model is reasonable, or is our alternative more likely? Explain your answer using the distribution drawn in the previous problem. \n\n```\nBEGIN QUESTION\nname: q5_5\nmanual: true\n```"
    },
    {
      "metadata": {
        "deletable": false,
        "manual_problem_id": "dice_and_coins_5"
      },
      "cell_type": "markdown",
      "source": "*Write your answer here, replacing this text.*"
    },
    {
      "metadata": {
        "collapsed": true,
        "trusted": false
      },
      "cell_type": "code",
      "source": "# For your convenience, you can run this cell to run all the tests at once!\nimport os\nprint(\"Running all tests...\")\n_ = [ok.grade(q[:-3]) for q in os.listdir(\"tests\") if q.startswith('q') and len(q) <= 10]\nprint(\"Finished running all tests.\")",
      "execution_count": null,
      "outputs": []
    }
  ],
  "metadata": {
    "kernelspec": {
      "name": "python3",
      "display_name": "Python 3",
      "language": "python"
    },
    "language_info": {
      "mimetype": "text/x-python",
      "nbconvert_exporter": "python",
      "name": "python",
      "file_extension": ".py",
      "version": "3.5.4",
      "pygments_lexer": "ipython3",
      "codemirror_mode": {
        "version": 3,
        "name": "ipython"
      }
    }
  },
  "nbformat": 4,
  "nbformat_minor": 1
}