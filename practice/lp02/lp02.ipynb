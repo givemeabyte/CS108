{
  "cells": [
    {
      "metadata": {},
      "cell_type": "markdown",
      "source": "# Learning Practice 2: Arrays and Tables"
    },
    {
      "metadata": {
        "trusted": true
      },
      "cell_type": "code",
      "source": "# Don't change this cell; just run it. \n!pip install okpy\n!pip install datascience\nimport numpy as np\nfrom datascience import *\n\nfrom client.api.notebook import Notebook\nok = Notebook('lp02.ok')",
      "execution_count": null,
      "outputs": []
    },
    {
      "metadata": {},
      "cell_type": "markdown",
      "source": "**Recommended Reading**: \n* [Data Types](https://www.inferentialthinking.com/chapters/04/data-types.html) \n* [Sequences](https://www.inferentialthinking.com/chapters/05/sequences.html)\n* [Tables](https://www.inferentialthinking.com/chapters/06/tables.html)"
    },
    {
      "metadata": {},
      "cell_type": "markdown",
      "source": "<font color=\"#E74C3C\">**Important**: In this assignment, the `ok` tests will tell you whether your answer is correct, except for Parts 4, 5 & 6. In future assignments, correctness tests will typically not be provided.</font>"
    },
    {
      "metadata": {},
      "cell_type": "markdown",
      "source": "## 1. Creating Arrays\n"
    },
    {
      "metadata": {},
      "cell_type": "markdown",
      "source": "**Question 1.** Make an array called `weird_numbers` containing the following numbers (in the given order):\n\n1. -2\n2. the sine of 1.2\n3. 3\n4. 5 to the power of the cosine of 1.2\n\n*Hint:* `sin` and `cos` are functions in the `math` module."
    },
    {
      "metadata": {
        "trusted": true
      },
      "cell_type": "code",
      "source": "# Our solution involved one extra line of code before creating\n# weird_numbers.\n...\nweird_numbers = ...\nweird_numbers",
      "execution_count": null,
      "outputs": []
    },
    {
      "metadata": {
        "deletable": false,
        "trusted": true
      },
      "cell_type": "code",
      "source": "_ = ok.grade('q1_1')",
      "execution_count": null,
      "outputs": []
    },
    {
      "metadata": {},
      "cell_type": "markdown",
      "source": "**Question 2.** Make an array called `book_title_words` containing the following three strings: \"Eats\", \"Shoots\", and \"and Leaves\"."
    },
    {
      "metadata": {
        "trusted": true
      },
      "cell_type": "code",
      "source": "book_title_words = ...\nbook_title_words",
      "execution_count": null,
      "outputs": []
    },
    {
      "metadata": {
        "deletable": false,
        "trusted": true
      },
      "cell_type": "code",
      "source": "_ = ok.grade('q1_2')",
      "execution_count": null,
      "outputs": []
    },
    {
      "metadata": {},
      "cell_type": "markdown",
      "source": "Strings have a method called `join`.  `join` takes one argument, an array of strings.  It returns a single string.  Specifically, the value of `a_string.join(an_array)` is a single string that's the [concatenation](https://en.wikipedia.org/wiki/Concatenation) (\"putting together\") of all the strings in `an_array`, **except** `a_string` is inserted in between each string.\n\n**Question 3.** Use the array `book_title_words` and the method `join` to make two strings:\n\n1. \"Eats, Shoots, and Leaves\" (call this one `with_commas`)\n2. \"Eats Shoots and Leaves\" (call this one `without_commas`)\n\n*Hint:* If you're not sure what `join` does, first try just calling, for example, `\"foo\".join(book_title_words)` ."
    },
    {
      "metadata": {
        "trusted": true
      },
      "cell_type": "code",
      "source": "with_commas = ...\nwithout_commas = ...\n\n# These lines are provided just to print out your answers.\nprint('with_commas:', with_commas)\nprint('without_commas:', without_commas)",
      "execution_count": null,
      "outputs": []
    },
    {
      "metadata": {
        "deletable": false,
        "trusted": true
      },
      "cell_type": "code",
      "source": "_ = ok.grade('q1_3')",
      "execution_count": null,
      "outputs": []
    },
    {
      "metadata": {},
      "cell_type": "markdown",
      "source": "## 2. Indexing Arrays\n"
    },
    {
      "metadata": {},
      "cell_type": "markdown",
      "source": "These exercises give you practice accessing individual elements of arrays.  In Python (and in many programming languages), elements are accessed by *index*, so the first element is the element at index 0.  "
    },
    {
      "metadata": {},
      "cell_type": "markdown",
      "source": "**Question 1.** The cell below creates an array of some numbers.  Set `third_element` to the third element of `some_numbers`."
    },
    {
      "metadata": {
        "trusted": true
      },
      "cell_type": "code",
      "source": "some_numbers = make_array(-1, -3, -6, -10, -15)\n\nthird_element = ...\nthird_element",
      "execution_count": null,
      "outputs": []
    },
    {
      "metadata": {
        "deletable": false,
        "trusted": true
      },
      "cell_type": "code",
      "source": "_ = ok.grade('q2_1')",
      "execution_count": null,
      "outputs": []
    },
    {
      "metadata": {},
      "cell_type": "markdown",
      "source": "**Question 2.** The next cell creates a table that displays some information about the elements of `some_numbers` and their order.  Run the cell to see the partially-completed table, then fill in the missing information in the cell (the strings that are currently \"???\") to complete the table."
    },
    {
      "metadata": {
        "trusted": true
      },
      "cell_type": "code",
      "source": "elements_of_some_numbers = Table().with_columns(\n    \"English name for position\", make_array(\"first\", \"second\", \"???\", \"???\", \"fifth\"),\n    \"Index\",                     make_array(\"???\", \"1\", \"2\", \"???\", \"4\"),\n    \"Element\",                   some_numbers)\nelements_of_some_numbers",
      "execution_count": null,
      "outputs": []
    },
    {
      "metadata": {
        "deletable": false,
        "trusted": true
      },
      "cell_type": "code",
      "source": "_ = ok.grade('q2_2')",
      "execution_count": null,
      "outputs": []
    },
    {
      "metadata": {},
      "cell_type": "markdown",
      "source": "**Question 3.** You'll sometimes want to find the *last* element of an array.  Suppose an array has 142 elements.  What is the index of its last element?"
    },
    {
      "metadata": {
        "trusted": true
      },
      "cell_type": "code",
      "source": "index_of_last_element = ...",
      "execution_count": null,
      "outputs": []
    },
    {
      "metadata": {
        "deletable": false,
        "trusted": true
      },
      "cell_type": "code",
      "source": "_ = ok.grade('q2_3')",
      "execution_count": null,
      "outputs": []
    },
    {
      "metadata": {},
      "cell_type": "markdown",
      "source": "More often, you don't know the number of elements in an array, its *length*.  (For example, it might be a large dataset you found on the Internet.)  The function `len` takes a single argument, an array, and returns the `len`gth of that array (an integer).\n\n**Question 4.** The cell below loads an array called `president_birth_years`.  The last element in that array is the most recent birth year of any deceased president. Assign that year to `most_recent_birth_year`."
    },
    {
      "metadata": {
        "trusted": true
      },
      "cell_type": "code",
      "source": "president_birth_years = Table.read_table(\"president_births.csv\").column('Birth Year')\n\nmost_recent_birth_year = ...\nmost_recent_birth_year",
      "execution_count": null,
      "outputs": []
    },
    {
      "metadata": {
        "deletable": false,
        "trusted": true
      },
      "cell_type": "code",
      "source": "_ = ok.grade('q2_4')",
      "execution_count": null,
      "outputs": []
    },
    {
      "metadata": {},
      "cell_type": "markdown",
      "source": "**Question 5.** Finally, assign `sum_of_birth_years` to the sum of the first, tenth, and last birth year in `president_birth_years`"
    },
    {
      "metadata": {
        "trusted": true
      },
      "cell_type": "code",
      "source": "sum_of_birth_years = ...",
      "execution_count": null,
      "outputs": []
    },
    {
      "metadata": {
        "deletable": false,
        "trusted": true
      },
      "cell_type": "code",
      "source": "_ = ok.grade('q2_5')",
      "execution_count": null,
      "outputs": []
    },
    {
      "metadata": {},
      "cell_type": "markdown",
      "source": "## 3. Basic Array Arithmetic\n"
    },
    {
      "metadata": {},
      "cell_type": "markdown",
      "source": "**Question 1.** Multiply the numbers 42, 4224, 42422424, and -250 by 157. Assign each variable below such that `first_product` is assigned to the result of $42 * 157$, `second_product` is assigned to the result of $4224 * 157$, and so on. \n\nFor this question, **don't** use arrays."
    },
    {
      "metadata": {
        "trusted": true
      },
      "cell_type": "code",
      "source": "first_product = ...\nsecond_product = ...\nthird_product = ...\nfourth_product = ...\nprint(first_product, second_product, third_product, fourth_product)",
      "execution_count": null,
      "outputs": []
    },
    {
      "metadata": {
        "deletable": false,
        "trusted": true
      },
      "cell_type": "code",
      "source": "_ = ok.grade('q3_1')",
      "execution_count": null,
      "outputs": []
    },
    {
      "metadata": {},
      "cell_type": "markdown",
      "source": "**Question 2.** Now, do the same calculation, but using an array called `numbers` and only a single multiplication (`*`) operator.  Store the 4 results in an array named `products`."
    },
    {
      "metadata": {
        "trusted": true
      },
      "cell_type": "code",
      "source": "numbers = ...\nproducts = ...\nproducts",
      "execution_count": null,
      "outputs": []
    },
    {
      "metadata": {
        "deletable": false,
        "trusted": true
      },
      "cell_type": "code",
      "source": "_ = ok.grade('q3_2')",
      "execution_count": null,
      "outputs": []
    },
    {
      "metadata": {},
      "cell_type": "markdown",
      "source": "**Question 3.** Oops, we made a typo!  Instead of 157, we wanted to multiply each number by 1577.  Compute the fixed products in the cell below using array arithmetic.  Notice that your job is really easy if you previously defined an array containing the 4 numbers."
    },
    {
      "metadata": {
        "trusted": true
      },
      "cell_type": "code",
      "source": "fixed_products = ...\nfixed_products",
      "execution_count": null,
      "outputs": []
    },
    {
      "metadata": {
        "deletable": false,
        "trusted": true
      },
      "cell_type": "code",
      "source": "_ = ok.grade('q3_3')",
      "execution_count": null,
      "outputs": []
    },
    {
      "metadata": {},
      "cell_type": "markdown",
      "source": "**Question 4.** We've loaded an array of temperatures in the next cell.  Each number is the highest temperature observed on a day at a climate observation station, mostly from the US.  Since they're from the US government agency [NOAA](noaa.gov), all the temperatures are in Fahrenheit.  Convert them all to Celsius by first subtracting 32 from them, then multiplying the results by $\\frac{5}{9}$. Make sure to **ROUND** the final result after converting to Celsius to the nearest integer using the `np.round` function."
    },
    {
      "metadata": {
        "trusted": true
      },
      "cell_type": "code",
      "source": "max_temperatures = Table.read_table(\"temperatures.csv\").column(\"Daily Max Temperature\")\n\ncelsius_max_temperatures = ...\ncelsius_max_temperatures",
      "execution_count": null,
      "outputs": []
    },
    {
      "metadata": {
        "deletable": false,
        "trusted": true
      },
      "cell_type": "code",
      "source": "_ = ok.grade('q3_4')",
      "execution_count": null,
      "outputs": []
    },
    {
      "metadata": {},
      "cell_type": "markdown",
      "source": "**Question 5.** The cell below loads all the *lowest* temperatures from each day (in Fahrenheit).  Compute the size of the daily temperature range for each day.  That is, compute the difference between each daily maximum temperature and the corresponding daily minimum temperature.  **Give your answer in Celsius!** Make sure **NOT** to round your answer for this question!"
    },
    {
      "metadata": {
        "trusted": true
      },
      "cell_type": "code",
      "source": "min_temperatures = Table.read_table(\"temperatures.csv\").column(\"Daily Min Temperature\")\n\ncelsius_temperature_ranges = ...\ncelsius_temperature_ranges",
      "execution_count": null,
      "outputs": []
    },
    {
      "metadata": {
        "deletable": false,
        "trusted": true
      },
      "cell_type": "code",
      "source": "_ = ok.grade('q3_5')",
      "execution_count": null,
      "outputs": []
    },
    {
      "metadata": {},
      "cell_type": "markdown",
      "source": "## 4. World Population\n"
    },
    {
      "metadata": {
        "collapsed": true
      },
      "cell_type": "markdown",
      "source": "The cell below loads a table of estimates of the world population for different years, starting in 1950. The estimates come from the [US Census Bureau website](https://www.census.gov/en.html)."
    },
    {
      "metadata": {
        "trusted": true
      },
      "cell_type": "code",
      "source": "world = Table.read_table(\"world_population.csv\").select('Year', 'Population')\nworld.show(4)",
      "execution_count": null,
      "outputs": []
    },
    {
      "metadata": {},
      "cell_type": "markdown",
      "source": "The name `population` is assigned to an array of population estimates."
    },
    {
      "metadata": {
        "trusted": true
      },
      "cell_type": "code",
      "source": "population = world.column(1)\npopulation",
      "execution_count": null,
      "outputs": []
    },
    {
      "metadata": {},
      "cell_type": "markdown",
      "source": "In this question, you will apply some built-in Numpy functions to this array. Numpy is a module that is often used in Data Science!"
    },
    {
      "metadata": {},
      "cell_type": "markdown",
      "source": "<img src=\"array_diff.png\" style=\"width: 600px;\"/>\n\nThe difference function `np.diff` subtracts each element in an array from the element after it within the array. As a result, the length of the array `np.diff` returns will always be one less than the length of the input array."
    },
    {
      "metadata": {},
      "cell_type": "markdown",
      "source": "<img src=\"array_cumsum.png\" style=\"width: 700px;\"/>\n\nThe cumulative sum function `np.cumsum` outputs an array of partial sums. For example, the third element in the output array corresponds to the sum of the first, second, and third elements."
    },
    {
      "metadata": {},
      "cell_type": "markdown",
      "source": "**Question 1.** Very often in data science, we are interested understanding how values change with time. Use `np.diff` and `np.max` (or just `max`) to calculate the largest annual change in population between any two consecutive years."
    },
    {
      "metadata": {
        "trusted": true
      },
      "cell_type": "code",
      "source": "largest_population_change = ...\nlargest_population_change",
      "execution_count": null,
      "outputs": []
    },
    {
      "metadata": {
        "deletable": false,
        "trusted": true
      },
      "cell_type": "code",
      "source": "_ = ok.grade('q4_1')",
      "execution_count": null,
      "outputs": []
    },
    {
      "metadata": {},
      "cell_type": "markdown",
      "source": "**Question 2.** What do the values in the resulting array represent (choose one)?"
    },
    {
      "metadata": {
        "trusted": true
      },
      "cell_type": "code",
      "source": "np.cumsum(np.diff(population))",
      "execution_count": null,
      "outputs": []
    },
    {
      "metadata": {},
      "cell_type": "markdown",
      "source": "1) The total population change between consecutive years, starting at 1951.\n\n2) The total population change between 1950 and each later year, starting at 1951.\n\n3) The total population change between 1950 and each later year, starting inclusively at 1950."
    },
    {
      "metadata": {
        "trusted": true
      },
      "cell_type": "code",
      "source": "# Assign cumulative_sum_answer to 1, 2, or 3\ncumulative_sum_answer = ...",
      "execution_count": null,
      "outputs": []
    },
    {
      "metadata": {
        "deletable": false,
        "trusted": true
      },
      "cell_type": "code",
      "source": "_ = ok.grade('q4_2')",
      "execution_count": null,
      "outputs": []
    },
    {
      "metadata": {},
      "cell_type": "markdown",
      "source": "## 5. Old Faithful\n"
    },
    {
      "metadata": {},
      "cell_type": "markdown",
      "source": "Old Faithful is a geyser in Yellowstone that erupts every 44 to 125 minutes (according to [Wikipedia](https://en.wikipedia.org/wiki/Old_Faithful)). People are [often told that the geyser erupts every hour](http://yellowstone.net/geysers/old-faithful/), but in fact the waiting time between eruptions is more variable. Let's take a look."
    },
    {
      "metadata": {},
      "cell_type": "markdown",
      "source": "**Question 1.** The first line below assigns `waiting_times` to an array of 272 consecutive waiting times between eruptions, taken from a classic 1938 dataset. Assign the names `shortest`, `longest`, and `average` so that the `print` statement is correct."
    },
    {
      "metadata": {
        "trusted": true
      },
      "cell_type": "code",
      "source": "waiting_times = Table.read_table('old_faithful.csv').column('waiting')\n\nshortest = ...\nlongest = ...\naverage = ...\n\nprint(\"Old Faithful erupts every\", shortest, \"to\", longest, \"minutes and every\", average, \"minutes on average.\")",
      "execution_count": null,
      "outputs": []
    },
    {
      "metadata": {
        "deletable": false,
        "trusted": true
      },
      "cell_type": "code",
      "source": "_ = ok.grade('q5_1')",
      "execution_count": null,
      "outputs": []
    },
    {
      "metadata": {},
      "cell_type": "markdown",
      "source": "**Question 2.** Assign `biggest_decrease` to the biggest decrease in waiting time between two consecutive eruptions. For example, the third eruption occurred after 74 minutes and the fourth after 62 minutes, so the decrease in waiting time was 74 - 62 = 12 minutes. \n\n*Hint 1*: You'll need an array arithmetic function [mentioned in the textbook](https://www.inferentialthinking.com/chapters/05/1/arrays.html#Functions-on-Arrays). You have also seen this function earlier in the assignment!\n\n*Hint 2*: We want to return the absolute value of the biggest decrease."
    },
    {
      "metadata": {
        "trusted": true
      },
      "cell_type": "code",
      "source": "biggest_decrease = ...\nbiggest_decrease",
      "execution_count": null,
      "outputs": []
    },
    {
      "metadata": {
        "deletable": false,
        "trusted": true
      },
      "cell_type": "code",
      "source": "_ = ok.grade('q5_2')",
      "execution_count": null,
      "outputs": []
    },
    {
      "metadata": {},
      "cell_type": "markdown",
      "source": "**Question 3.** If you expected Old Faithful to erupt every hour, you would expect to wait a total of `60 * k` minutes to see `k` eruptions. Set `difference_from_expected` to an array with 272 elements, where the element at index `i` is the absolute difference between the expected and actual total amount of waiting time to see the first `i+1` eruptions.  *Hint*: You'll need to compare a cumulative sum to a range.\n\nFor example, since the first three waiting times are 79, 54, and 74, the total waiting time for 3 eruptions is 79 + 54 + 74 = 207. The expected waiting time for 3 eruptions is 60 * 3 = 180. Therefore, `difference_from_expected.item(2)` should be $|207 - 180| = 27$."
    },
    {
      "metadata": {
        "trusted": true
      },
      "cell_type": "code",
      "source": "difference_from_expected = ...\ndifference_from_expected",
      "execution_count": null,
      "outputs": []
    },
    {
      "metadata": {
        "deletable": false,
        "trusted": true
      },
      "cell_type": "code",
      "source": "_ = ok.grade('q5_3')",
      "execution_count": null,
      "outputs": []
    },
    {
      "metadata": {},
      "cell_type": "markdown",
      "source": "**Question 4.** If instead you guess that each waiting time will be the same as the previous waiting time, how many minutes would your guess differ from the actual time, averaging over every wait time except the first one.\n\nFor example, since the first three waiting times are 79, 54, and 74, the average difference between your guess and the actual time for just the second and third eruption would be $\\frac{|79-54|+ |54-74|}{2} = 22.5$."
    },
    {
      "metadata": {
        "trusted": true
      },
      "cell_type": "code",
      "source": "average_error = ...\naverage_error",
      "execution_count": null,
      "outputs": []
    },
    {
      "metadata": {
        "deletable": false,
        "trusted": true
      },
      "cell_type": "code",
      "source": "_ = ok.grade('q5_4')",
      "execution_count": null,
      "outputs": []
    },
    {
      "metadata": {},
      "cell_type": "markdown",
      "source": "## 6. Tables\n"
    },
    {
      "metadata": {},
      "cell_type": "markdown",
      "source": "**Question 1.** Suppose you have 4 apples, 3 oranges, and 3 pineapples.  (Perhaps you're using Python to solve a high school Algebra problem.)  Create a table that contains this information.  It should have two columns: `fruit name` and `count`.  Assign the new table to the variable `fruits`.\n\n**Note:** Use lower-case and singular words for the name of each fruit, like `\"apple\"`."
    },
    {
      "metadata": {
        "trusted": true
      },
      "cell_type": "code",
      "source": "# Our solution uses 1 statement split over 3 lines.\nfruits = ...\n        ...\n        ...\nfruits",
      "execution_count": null,
      "outputs": []
    },
    {
      "metadata": {
        "deletable": false,
        "trusted": true
      },
      "cell_type": "code",
      "source": "_ = ok.grade('q6_1')",
      "execution_count": null,
      "outputs": []
    },
    {
      "metadata": {},
      "cell_type": "markdown",
      "source": "**Question 2.** The file `inventory.csv` contains information about the inventory at a fruit stand.  Each row represents the contents of one box of fruit.  Load it as a table named `inventory`."
    },
    {
      "metadata": {
        "trusted": true
      },
      "cell_type": "code",
      "source": "inventory = ...\ninventory",
      "execution_count": null,
      "outputs": []
    },
    {
      "metadata": {
        "deletable": false,
        "trusted": true
      },
      "cell_type": "code",
      "source": "_ = ok.grade('q6_2')",
      "execution_count": null,
      "outputs": []
    },
    {
      "metadata": {},
      "cell_type": "markdown",
      "source": "**Question 3.** Does each box at the fruit stand contain a different fruit?"
    },
    {
      "metadata": {
        "trusted": true
      },
      "cell_type": "code",
      "source": "# Set all_different to \"Yes\" if each box contains a different fruit or to \"No\" if multiple boxes contain the same fruit\nall_different = ...\nall_different",
      "execution_count": null,
      "outputs": []
    },
    {
      "metadata": {
        "deletable": false,
        "trusted": true
      },
      "cell_type": "code",
      "source": "_ = ok.grade('q6_3')",
      "execution_count": null,
      "outputs": []
    },
    {
      "metadata": {},
      "cell_type": "markdown",
      "source": "**Question 4.** The file `sales.csv` contains the number of fruit sold from each box last Saturday.  It has an extra column called \"price per fruit (\\$)\" that's the price *per item of fruit* for fruit in that box.  The rows are in the same order as the `inventory` table.  Load these data into a table called `sales`."
    },
    {
      "metadata": {
        "trusted": true
      },
      "cell_type": "code",
      "source": "sales = ...\nsales",
      "execution_count": null,
      "outputs": []
    },
    {
      "metadata": {
        "deletable": false,
        "trusted": true
      },
      "cell_type": "code",
      "source": "_ = ok.grade('q6_4')",
      "execution_count": null,
      "outputs": []
    },
    {
      "metadata": {},
      "cell_type": "markdown",
      "source": "**Question 5.** How many fruits did the store sell in total on that day?"
    },
    {
      "metadata": {
        "trusted": true
      },
      "cell_type": "code",
      "source": "total_fruits_sold = ...\ntotal_fruits_sold",
      "execution_count": null,
      "outputs": []
    },
    {
      "metadata": {
        "deletable": false,
        "trusted": true
      },
      "cell_type": "code",
      "source": "_ = ok.grade('q6_5')",
      "execution_count": null,
      "outputs": []
    },
    {
      "metadata": {},
      "cell_type": "markdown",
      "source": "**Question 6.** What was the store's total revenue (the total price of all fruits sold) on that day?\n\n*Hint:* If you're stuck, think first about how you would compute the total revenue from just the grape sales."
    },
    {
      "metadata": {
        "trusted": true
      },
      "cell_type": "code",
      "source": "total_revenue = ...\ntotal_revenue",
      "execution_count": null,
      "outputs": []
    },
    {
      "metadata": {
        "deletable": false,
        "trusted": true
      },
      "cell_type": "code",
      "source": "_ = ok.grade('q6_6')",
      "execution_count": null,
      "outputs": []
    },
    {
      "metadata": {},
      "cell_type": "markdown",
      "source": "**Question 7.** Make a new table called `remaining_inventory`.  It should have the same rows and columns as `inventory`, except that the amount of fruit sold from each box should be subtracted from that box's count, so that the \"count\" is the amount of fruit remaining after Saturday."
    },
    {
      "metadata": {
        "trusted": true
      },
      "cell_type": "code",
      "source": "remaining_inventory = ...\n    ...\n    ...\n    ...\nremaining_inventory",
      "execution_count": null,
      "outputs": []
    },
    {
      "metadata": {
        "deletable": false,
        "trusted": true
      },
      "cell_type": "code",
      "source": "_ = ok.grade('q6_7')",
      "execution_count": null,
      "outputs": []
    },
    {
      "metadata": {
        "trusted": true
      },
      "cell_type": "code",
      "source": "# For your convenience, you can run this cell to run all the tests at once!\nimport os\nprint(\"Running all tests...\")\n_ = [ok.grade(q[:-3]) for q in os.listdir(\"tests\") if q.startswith('q') and len(q) <= 10]\nprint(\"Finished running all tests.\")",
      "execution_count": null,
      "outputs": []
    }
  ],
  "metadata": {
    "kernelspec": {
      "name": "python3",
      "display_name": "Python 3",
      "language": "python"
    },
    "language_info": {
      "mimetype": "text/x-python",
      "nbconvert_exporter": "python",
      "name": "python",
      "pygments_lexer": "ipython3",
      "version": "3.5.4",
      "file_extension": ".py",
      "codemirror_mode": {
        "version": 3,
        "name": "ipython"
      }
    }
  },
  "nbformat": 4,
  "nbformat_minor": 1
}