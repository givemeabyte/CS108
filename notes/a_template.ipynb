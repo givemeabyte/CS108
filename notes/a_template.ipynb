{
  "cells": [
    {
      "metadata": {
        "trusted": true
      },
      "cell_type": "code",
      "source": "# Will install necessary software (if software is already installed you will see Requirement already satisfied)\n!pipinstall --upgrade pip\n!pip install okpy\n!pip install datascience\n",
      "execution_count": null,
      "outputs": []
    },
    {
      "metadata": {
        "trusted": true
      },
      "cell_type": "code",
      "source": "# Stuff that will appear at the top of notebooks;\n# You don't have to do anything about it.\n\nfrom datascience import *\nimport numpy as np\n\n%matplotlib inline\nimport matplotlib.pyplot as plots\nplots.style.use('fivethirtyeight')\n\nimport warnings\nwarnings.simplefilter(action=\"ignore\", category=FutureWarning)\n\nfrom urllib.request import urlopen \nimport re\ndef read_url(url): \n    return re.sub('\\\\s+', ' ', urlopen(url).read().decode())",
      "execution_count": null,
      "outputs": []
    }
  ],
  "metadata": {
    "kernelspec": {
      "name": "python3",
      "display_name": "Python 3",
      "language": "python"
    },
    "language_info": {
      "mimetype": "text/x-python",
      "nbconvert_exporter": "python",
      "name": "python",
      "file_extension": ".py",
      "version": "3.5.4",
      "pygments_lexer": "ipython3",
      "codemirror_mode": {
        "version": 3,
        "name": "ipython"
      }
    }
  },
  "nbformat": 4,
  "nbformat_minor": 2
}