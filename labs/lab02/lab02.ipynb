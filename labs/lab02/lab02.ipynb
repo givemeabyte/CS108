{
  "cells": [
    {
      "metadata": {},
      "cell_type": "markdown",
      "source": "# Lab 2: Table operations\n\nWelcome to Lab 2!  This week, we'll learn how to import a module and pratice table operations!\n\nRecommended Reading:\n * [Introduction to tables](https://www.inferentialthinking.com/chapters/03/4/Introduction_to_Tables)\n\nFirst, set up the tests and imports by running the cell below."
    },
    {
      "metadata": {
        "trusted": false
      },
      "cell_type": "code",
      "source": "# Just run this cell\n!pip install okpy\n!pip install datascience\nimport numpy as np\nfrom datascience import *\n\n# These lines load the tests.\nfrom client.api.notebook import Notebook\nok = Notebook('lab02.ok')\n",
      "execution_count": 1,
      "outputs": []
    },
    {
      "metadata": {},
      "cell_type": "markdown",
      "source": "# 1. Review: The building blocks of Python code\n\nThe two building blocks of Python code are *expressions* and *statements*.  An **expression** is a piece of code that\n\n* is self-contained, meaning it would make sense to write it on a line by itself, and\n* usually evaluates to a value.\n\n\nHere are two expressions that both evaluate to 3:\n\n    3\n    5 - 2\n    \nOne important type of expression is the **call expression**. A call expression begins with the name of a function and is followed by the argument(s) of that function in parentheses. The function returns some value, based on its arguments. Some important mathematical functions are listed below.\n\n| Function | Description                                                   |\n|----------|---------------------------------------------------------------|\n| `abs`      | Returns the absolute value of its argument                    |\n| `max`      | Returns the maximum of all its arguments                      |\n| `min`      | Returns the minimum of all its arguments                      |\n| `pow`      | Raises its first argument to the power of its second argument |\n| `round`    | Rounds its argument to the nearest integer                     |\n\nHere are two call expressions that both evaluate to 3:\n\n    abs(2 - 5)\n    max(round(2.8), min(pow(2, 10), -1 * pow(2, 10)))\n\nThe expression `5 - 2` and the two call expressions given above are examples of **compound expressions**, meaning that they are actually combinations of several smaller expressions.  `5 - 2` combines the expressions `5` and `2` by subtraction.  In this case, `5` and `2` are called **subexpressions** because they're expressions that are part of a larger expression.\n\nA **statement** is a whole line of code.  Some statements are just expressions.  The expressions listed above are examples.\n\nOther statements *make something happen* rather than *having a value*. For example, an **assignment statement** assigns a value to a name. \n\nA good way to think about this is that we're **evaluating the right-hand side** of the equals sign and **assigning it to the left-hand side**. Here are some assignment statements:\n    \n    height = 1.3\n    the_number_five = abs(-5)\n    absolute_height_difference = abs(height - 1.688)\n\nAn important idea in programming is that large, interesting things can be built by combining many simple, uninteresting things.  The key to understanding a complicated piece of code is breaking it down into its simple components.\n\nFor example, a lot is going on in the last statement above, but it's really just a combination of a few things.  This picture describes what's going on.\n\n<img src=\"statement.png\">"
    },
    {
      "metadata": {
        "deletable": false
      },
      "cell_type": "markdown",
      "source": "**Question 1.1.** In the next cell, assign the name `new_year` to the larger number among the following two numbers:\n\n1. the **absolute value** of $2^{5}-2^{11}-2^1 + 1$, and \n2. $5 \\times 13 \\times 31 + 4$.\n\nTry to use just one statement (one line of code)."
    },
    {
      "metadata": {
        "deletable": false,
        "trusted": false
      },
      "cell_type": "code",
      "source": "new_year = ...\nnew_year",
      "execution_count": 49,
      "outputs": []
    },
    {
      "metadata": {},
      "cell_type": "markdown",
      "source": "Check your work by executing the next cell."
    },
    {
      "metadata": {
        "deletable": false,
        "editable": false,
        "scrolled": true,
        "trusted": false
      },
      "cell_type": "code",
      "source": "_ = ok.grade('q11')",
      "execution_count": 50,
      "outputs": []
    },
    {
      "metadata": {},
      "cell_type": "markdown",
      "source": "We've asked you to use one line of code in the question above because it only involves mathematical operations. However, more complicated programming questions will more require more steps. It isn’t always a good idea to jam these steps into a single line because it can make the code harder to read and harder to debug.\n\nGood programming practice involves splitting up your code into smaller steps and using appropriate names. You'll have plenty of practice in the rest of this course!"
    },
    {
      "metadata": {},
      "cell_type": "markdown",
      "source": "# 2. Importing code\n\n> What has been will be again,  \n> what has been done will be done again;  \n> there is nothing new under the sun.\n\nMost programming involves work that is very similar to work that has been done before.  Since writing code is time-consuming, it's good to rely on others' published code when you can.  Rather than copy-pasting, Python allows us to **import modules**. A module is a file with Python code that has defined variables and functions. By importing a module, we are able to use its code in our own notebook.\n\nPython includes many useful modules that are just an `import` away.  We'll look at the `math` module as a first example. The `math` module is extremely useful in computing mathematical expressions in Python. \n\nSuppose we want to very accurately compute the area of a circle with a radius of 5 meters.  For that, we need the constant $\\pi$, which is roughly 3.14.  Conveniently, the `math` module has `pi` defined for us:"
    },
    {
      "metadata": {
        "trusted": false
      },
      "cell_type": "code",
      "source": "import math\nradius = 5\narea_of_circle = radius**2 * math.pi\narea_of_circle",
      "execution_count": 4,
      "outputs": []
    },
    {
      "metadata": {},
      "cell_type": "markdown",
      "source": "In the code above, the line `import math` imports the math module. This statement creates a module and then assigns the name `math` to that module. We are now able to access any variables or functions defined within `math` by typing the name of the module followed by a dot, then followed by the name of the variable or function we want.\n\n    <module name>.<name>"
    },
    {
      "metadata": {
        "deletable": false
      },
      "cell_type": "markdown",
      "source": "**Question 2.1.** The module `math` also provides the name `e` for the base of the natural logarithm, which is roughly 2.71.  Compute $e^{\\pi}-\\pi$, giving it the name `near_twenty`."
    },
    {
      "metadata": {
        "deletable": false,
        "trusted": false
      },
      "cell_type": "code",
      "source": "near_twenty = ...\nnear_twenty",
      "execution_count": 51,
      "outputs": []
    },
    {
      "metadata": {
        "deletable": false,
        "editable": false,
        "scrolled": true,
        "trusted": false
      },
      "cell_type": "code",
      "source": "_ = ok.grade('q21')",
      "execution_count": 52,
      "outputs": []
    },
    {
      "metadata": {},
      "cell_type": "markdown",
      "source": "![XKCD](http://imgs.xkcd.com/comics/e_to_the_pi_minus_pi.png)\n\nSource: http://imgs.xkcd.com/comics/e_to_the_pi_minus_pi.png"
    },
    {
      "metadata": {
        "deletable": false
      },
      "cell_type": "markdown",
      "source": "## 2.1. Accessing functions\n\nIn the question above, you accessed variables within the `math` module. \n\n**Modules** also define **functions**.  For example, `math` provides the name `sin` for the sine function.  Having imported `math` already, we can write `math.sin(3)` to compute the sine of 3.  (Note that this sine function considers its argument to be in [radians](https://en.wikipedia.org/wiki/Radian), not degrees.  180 degrees are equivalent to $\\pi$ radians.)\n\n**Question 2.1.1.** A $\\frac{\\pi}{4}$-radian (45-degree) angle forms a right triangle with equal base and height, pictured below.  If the hypotenuse (the radius of the circle in the picture) is 1, then the height is $\\sin(\\frac{\\pi}{4})$.  Compute that value using `sin` and `pi` from the `math` module.  Give the result the name `sine_of_pi_over_four`.\n\n<img src=\"http://mathworld.wolfram.com/images/eps-gif/TrigonometryAnglesPi4_1000.gif\">\n\nSource: [Wolfram MathWorld](http://mathworld.wolfram.com/images/eps-gif/TrigonometryAnglesPi4_1000.gif)"
    },
    {
      "metadata": {
        "deletable": false,
        "trusted": false
      },
      "cell_type": "code",
      "source": "sine_of_pi_over_four = ...\nsine_of_pi_over_four",
      "execution_count": 53,
      "outputs": []
    },
    {
      "metadata": {
        "deletable": false,
        "editable": false,
        "scrolled": true,
        "trusted": false
      },
      "cell_type": "code",
      "source": "_ = ok.grade('q211')",
      "execution_count": 54,
      "outputs": []
    },
    {
      "metadata": {},
      "cell_type": "markdown",
      "source": "For your reference, below are some more examples of functions from the `math` module.\n\nNotice how different functions take in different numbers of arguments. Often, the [documentation](https://docs.python.org/3/library/math.html) of the module will provide information on how many arguments are required for each function."
    },
    {
      "metadata": {
        "trusted": false
      },
      "cell_type": "code",
      "source": "# Calculating logarithms (the logarithm of 8 in base 2).\n# The result is 3 because 2 to the power of 3 is 8.\nmath.log(8, 2)",
      "execution_count": 55,
      "outputs": []
    },
    {
      "metadata": {
        "trusted": false
      },
      "cell_type": "code",
      "source": "# Calculating square roots.\nmath.sqrt(5)",
      "execution_count": 56,
      "outputs": []
    },
    {
      "metadata": {},
      "cell_type": "markdown",
      "source": "There are various ways to import and access code from outside sources. The method we used above — `import <module_name>` — imports the entire module and requires that we use `<module_name>.<name>` to access its code. \n\nOne variation is to rename the module we import. This is especially useful for modules with long names."
    },
    {
      "metadata": {
        "trusted": false
      },
      "cell_type": "code",
      "source": "# We can nickname math as something else, \n# if we don't want to type math\nimport math as m\nm.log(m.pi)",
      "execution_count": 57,
      "outputs": []
    },
    {
      "metadata": {},
      "cell_type": "markdown",
      "source": "We can also import a specific constant or function instead of the entire module. Notice that you don't have to use the module name beforehand to reference that particular value. However, you do have to be careful about reassigning the names of the constants or functions to other values!"
    },
    {
      "metadata": {
        "trusted": false
      },
      "cell_type": "code",
      "source": "# Importing just cos and pi from math.\n# We don't have to use `math.` in front of cos or pi\nfrom math import cos, pi\nprint(cos(pi))\n\n# We do have to use it in front of other functions from math, though\nmath.log(pi)",
      "execution_count": 14,
      "outputs": []
    },
    {
      "metadata": {},
      "cell_type": "markdown",
      "source": "Or we can import every function and value from the entire module."
    },
    {
      "metadata": {
        "trusted": false
      },
      "cell_type": "code",
      "source": "# Lastly, we can import everything from math using the *\n# Once again, we don't have to use 'math.' beforehand \nfrom math import *\nlog(pi)",
      "execution_count": 58,
      "outputs": []
    },
    {
      "metadata": {},
      "cell_type": "markdown",
      "source": "Don't worry too much about which type of import to use. It's often a coding style choice left up to each programmer. In this course, you'll always import the necessary modules when you run the setup cell (like the first code cell in this lab)."
    },
    {
      "metadata": {
        "deletable": false
      },
      "cell_type": "markdown",
      "source": "##### A function that displays a picture\nPeople have written Python functions that do very cool and complicated things, like crawling web pages for data, transforming videos, or doing machine learning with lots of data. Before you write code for a task that seems common, you can check to see if someone has already written it for you!\n\n\nLet's take a look at a function used for downloading and displaying pictures.\n\nThe module `IPython.display` provides a function called `Image`.  The `Image` function takes a single argument, text that is the URL of the image on the web.  It returns an *image* value that this Jupyter notebook understands how to display.  To display an image, make the image value the last expression in a cell, just like you'd display a number or text.\n\n**Question 2.1.2.** In the next cell, import the module `IPython.display` and pass in \n\n    'https://uploads0.wikiart.org/images/lee-krasner/noon-1947.jpg'\n    \nas an argument to its `Image` function. This will display the image at this URL.\n\nAssign the name `art` to the output of the call to `Image`.  (It might take a few seconds to load the image.  It’s a 1947 painting by Lee Krasner called *Noon*. Lee Krasner was an influential woman in American art who created abstract impressionist works such as *Noon*. Jackson Pollock was married to her!)"
    },
    {
      "metadata": {
        "deletable": false,
        "trusted": false
      },
      "cell_type": "code",
      "source": "# Import the module IPython.display. Watch out for capitalization.\n...\n\n# Replace the ... below with a call to the Image function\n# in the IPython.display module, which should produce a picture.\nart = ...\nart",
      "execution_count": 59,
      "outputs": []
    },
    {
      "metadata": {
        "deletable": false,
        "editable": false,
        "scrolled": true,
        "trusted": false
      },
      "cell_type": "code",
      "source": "_ = ok.grade('q212')",
      "execution_count": 60,
      "outputs": []
    },
    {
      "metadata": {},
      "cell_type": "markdown",
      "source": "Let's move on to practicing some of the table operations you've learned in lecture!"
    },
    {
      "metadata": {},
      "cell_type": "markdown",
      "source": "# 3. Table operations\n\nThe table `farmers_markets.csv` contains data on farmers' markets in the United States  (data collected [by the USDA](https://apps.ams.usda.gov/FarmersMarketsExport/ExcelExport.aspx)).  Each row represents one such market.\n\nRun the next cell to load the `farmers_markets` table."
    },
    {
      "metadata": {
        "deletable": false,
        "trusted": false
      },
      "cell_type": "code",
      "source": "# Just run this cell\n\nfarmers_markets = Table.read_table('farmers_markets.csv')",
      "execution_count": 61,
      "outputs": []
    },
    {
      "metadata": {},
      "cell_type": "markdown",
      "source": "Let's examine our table to see what data it contains.\n\n**Question 3.1.** Use the method `show` to display the first 5 rows of `farmers_markets`. \n\n*Note:* The terms \"method\" and \"function\" are technically not the same thing, but for the purposes of this course, we will use them interchangeably.\n\n**Hint:** `tbl.show(3)` will show the first 3 rows of `tbl`. Additionally, make sure not to call `.show()` without an argument, as this will crash your kernel!\n"
    },
    {
      "metadata": {
        "deletable": false,
        "trusted": false
      },
      "cell_type": "code",
      "source": "...",
      "execution_count": 62,
      "outputs": []
    },
    {
      "metadata": {
        "deletable": false
      },
      "cell_type": "markdown",
      "source": "Notice that some of the values in this table are missing, as denoted by \"nan.\" This means either that the value is not available (e.g. if we don’t know the market’s street address) or not applicable (e.g. if the market doesn’t have a street address). You'll also notice that the table has a large number of columns in it!\n\n### `num_columns`\n\nThe table property `num_columns` returns the number of columns in a table. (A \"property\" is just a method that doesn't need to be called by adding parentheses.)\n\nExample call: `<tbl>.num_columns`\n\n**Question 3.2.** Use `num_columns` to find the number of columns in our farmers' markets dataset.\n\nAssign the number of columns to `num_farmers_markets_columns`."
    },
    {
      "metadata": {
        "deletable": false,
        "trusted": false
      },
      "cell_type": "code",
      "source": "num_farmers_markets_columns = ...\nprint(\"The table has\", num_farmers_markets_columns, \"columns in it!\")",
      "execution_count": 20,
      "outputs": []
    },
    {
      "metadata": {
        "deletable": false,
        "editable": false,
        "scrolled": true,
        "trusted": false
      },
      "cell_type": "code",
      "source": "_ = ok.grade('q32')",
      "execution_count": 21,
      "outputs": []
    },
    {
      "metadata": {},
      "cell_type": "markdown",
      "source": "### `num_rows`\n\nSimilarly, the property `num_rows` tells you how many rows are in a table."
    },
    {
      "metadata": {
        "deletable": false,
        "trusted": false
      },
      "cell_type": "code",
      "source": "# Just run this cell\n\nnum_farmers_markets_rows = farmers_markets.num_rows\nprint(\"The table has\", num_farmers_markets_rows, \"rows in it!\")",
      "execution_count": 22,
      "outputs": []
    },
    {
      "metadata": {
        "deletable": false
      },
      "cell_type": "markdown",
      "source": "### `select`\n\nMost of the columns are about particular products -- whether the market sells tofu, pet food, etc.  If we're not interested in that information, it just makes the table difficult to read.  This comes up more than you might think, because people who collect and publish data may not know ahead of time what people will want to do with it.\n\nIn such situations, we can use the table method `select` to choose only the columns that we want in a particular table. It takes any number of arguments. Each should be the name of a column in the table. It returns a new table with only those columns in it. The columns are in the order *in which they were listed as arguments*.\n\nFor example, the value of `farmers_markets.select(\"MarketName\", \"State\")` is a table with only the name and the state of each farmers' market in `farmers_markets`.\n\n\n\n**Question 3.3.** Use `select` to create a table with only the name, city, state, latitude (`y`), and longitude (`x`) of each market.  Call that new table `farmers_markets_locations`.\n\n*Hint:* Make sure to be exact when using column names with `select`; double-check capitalization!"
    },
    {
      "metadata": {
        "deletable": false,
        "trusted": false
      },
      "cell_type": "code",
      "source": "farmers_markets_locations = ...\nfarmers_markets_locations",
      "execution_count": 25,
      "outputs": []
    },
    {
      "metadata": {
        "deletable": false,
        "editable": false,
        "trusted": false
      },
      "cell_type": "code",
      "source": "_ = ok.grade('q33')",
      "execution_count": 26,
      "outputs": []
    },
    {
      "metadata": {
        "deletable": false
      },
      "cell_type": "markdown",
      "source": "### `drop`\n\n`drop` serves the same purpose as `select`, but it takes away the columns that you provide rather than the ones that you don't provide. Like `select`, `drop` returns a new table.\n\n**Question 3.4.** Suppose you just didn't want the `FMID` or `updateTime` columns in `farmers_markets`.  Create a table that's a copy of `farmers_markets` but doesn't include those columns.  Call that table `farmers_markets_without_fmid`."
    },
    {
      "metadata": {
        "deletable": false,
        "trusted": false
      },
      "cell_type": "code",
      "source": "farmers_markets_without_fmid = ...\nfarmers_markets_without_fmid",
      "execution_count": 63,
      "outputs": []
    },
    {
      "metadata": {
        "deletable": false,
        "editable": false,
        "trusted": false
      },
      "cell_type": "code",
      "source": "_ = ok.grade('q34')",
      "execution_count": 28,
      "outputs": []
    },
    {
      "metadata": {},
      "cell_type": "markdown",
      "source": "Now, suppose we want to answer some questions about farmers' markets in the US. For example, which market(s) have the largest longitude (given by the `x` column)? \n\nTo answer this, we'll sort `farmers_markets_locations` by longitude."
    },
    {
      "metadata": {
        "trusted": false
      },
      "cell_type": "code",
      "source": "farmers_markets_locations.sort('x')",
      "execution_count": 29,
      "outputs": []
    },
    {
      "metadata": {},
      "cell_type": "markdown",
      "source": "Oops, that didn't answer our question because we sorted from smallest to largest longitude. To look at the largest longitudes, we'll have to sort in reverse order."
    },
    {
      "metadata": {
        "trusted": false
      },
      "cell_type": "code",
      "source": "farmers_markets_locations.sort('x', descending=True)",
      "execution_count": 30,
      "outputs": []
    },
    {
      "metadata": {
        "deletable": false
      },
      "cell_type": "markdown",
      "source": "(The `descending=True` bit is called an *optional argument*. It has a default value of `False`, so when you explicitly tell the function `descending=True`, then the function will sort in descending order.)\n\n### `sort`\n\nSome details about sort:\n\n1. The first argument to `sort` is the name of a column to sort by.\n2. If the column has text in it, `sort` will sort alphabetically; if the column has numbers, it will sort numerically.\n3. The value of `farmers_markets_locations.sort(\"x\")` is a *copy* of `farmers_markets_locations`; the `farmers_markets_locations` table doesn't get modified. For example, if we called `farmers_markets_locations.sort(\"x\")`, then running `farmers_markets_locations` by itself would still return the unsorted table.\n4. Rows always stick together when a table is sorted.  It wouldn't make sense to sort just one column and leave the other columns alone.  For example, in this case, if we sorted just the `x` column, the farmers' markets would all end up with the wrong longitudes.\n\n**Question 3.5.** Create a version of `farmers_markets_locations` that's sorted by **latitude (`y`)**, with the largest latitudes first.  Call it `farmers_markets_locations_by_latitude`."
    },
    {
      "metadata": {
        "deletable": false,
        "scrolled": true,
        "trusted": false
      },
      "cell_type": "code",
      "source": "farmers_markets_locations_by_latitude = ...\nfarmers_markets_locations_by_latitude",
      "execution_count": 31,
      "outputs": []
    },
    {
      "metadata": {
        "deletable": false,
        "editable": false,
        "trusted": false
      },
      "cell_type": "code",
      "source": "_ = ok.grade('q35')",
      "execution_count": 32,
      "outputs": []
    },
    {
      "metadata": {},
      "cell_type": "markdown",
      "source": "Now let's say we want a table of all farmers' markets in California. Sorting won't help us much here because California  is closer to the middle of the dataset.\n\nInstead, we use the table method `where`."
    },
    {
      "metadata": {
        "deletable": false,
        "trusted": false
      },
      "cell_type": "code",
      "source": "california_farmers_markets = farmers_markets_locations.where('State', are.equal_to('California'))\ncalifornia_farmers_markets",
      "execution_count": 33,
      "outputs": []
    },
    {
      "metadata": {},
      "cell_type": "markdown",
      "source": "Ignore the syntax for the moment.  Instead, try to read that line like this:\n\n> Assign the name **`california_farmers_markets`** to a table whose rows are the rows in the **`farmers_markets_locations`** table **`where`** the **`'State'`**s **`are` `equal` `to` `California`**."
    },
    {
      "metadata": {},
      "cell_type": "markdown",
      "source": "### `where`\n\nNow let's dive into the details a bit more.  `where` takes 2 arguments:\n\n1. The name of a column.  `where` finds rows where that column's values meet some criterion.\n2. A predicate that describes the criterion that the column needs to meet.\n\nThe predicate in the example above called the function `are.equal_to` with the value we wanted, 'California'.  We'll see other predicates soon.\n\n`where` returns a table that's a copy of the original table, but **with only the rows that meet the given predicate**."
    },
    {
      "metadata": {
        "deletable": false
      },
      "cell_type": "markdown",
      "source": "**Question 3.6.** Use `california_farmers_markets` to create a table called `berkeley_markets` containing farmers' markets in Berkeley, California."
    },
    {
      "metadata": {
        "deletable": false,
        "trusted": false
      },
      "cell_type": "code",
      "source": "berkeley_markets = ...\nberkeley_markets",
      "execution_count": 34,
      "outputs": []
    },
    {
      "metadata": {
        "deletable": false,
        "editable": false,
        "trusted": false
      },
      "cell_type": "code",
      "source": "_ = ok.grade('q36')",
      "execution_count": 35,
      "outputs": []
    },
    {
      "metadata": {},
      "cell_type": "markdown",
      "source": "Recognize any of them?"
    },
    {
      "metadata": {},
      "cell_type": "markdown",
      "source": "So far we've only been using `where` with the predicate that requires finding the values in a column to be *exactly* equal to a certain value. However, there are many other predicates. Here are a few:\n\n|Predicate|Example|Result|\n|-|-|-|\n|`are.equal_to`|`are.equal_to(50)`|Find rows with values equal to 50|\n|`are.not_equal_to`|`are.not_equal_to(50)`|Find rows with values not equal to 50|\n|`are.above`|`are.above(50)`|Find rows with values above (and not equal to) 50|\n|`are.above_or_equal_to`|`are.above_or_equal_to(50)`|Find rows with values above 50 or equal to 50|\n|`are.below`|`are.below(50)`|Find rows with values below 50|\n|`are.between`|`are.between(2, 10)`|Find rows with values above or equal to 2 and below 10|"
    },
    {
      "metadata": {},
      "cell_type": "markdown",
      "source": "## 4. Analyzing a dataset\n\nNow that you're familiar with table operations, let’s answer some interesting questions about a dataset!\n\nRun the cell below to load the `imdb` table. It contains information about the 250 highest-rated movies on IMDb."
    },
    {
      "metadata": {
        "deletable": false,
        "scrolled": true,
        "trusted": false
      },
      "cell_type": "code",
      "source": "# Just run this cell\n\nimdb = Table.read_table('imdb.csv')\nimdb",
      "execution_count": 36,
      "outputs": []
    },
    {
      "metadata": {
        "deletable": false
      },
      "cell_type": "markdown",
      "source": "**Question 4.1.** Using `where` and one of the predicates from the table above, find all movies with a rating higher than 8.5.  Assign this filtered table to the name `really_highly_rated`. It should contain the same columns as `imdb`."
    },
    {
      "metadata": {
        "deletable": false,
        "trusted": false
      },
      "cell_type": "code",
      "source": "really_highly_rated = ...\nreally_highly_rated",
      "execution_count": 37,
      "outputs": []
    },
    {
      "metadata": {
        "deletable": false,
        "editable": false,
        "trusted": false
      },
      "cell_type": "code",
      "source": "_ = ok.grade('q41')",
      "execution_count": 38,
      "outputs": []
    },
    {
      "metadata": {
        "deletable": false
      },
      "cell_type": "markdown",
      "source": "**Question 4.2.** Create a table of movies released between 2010 and 2016 (inclusive) with ratings above 8. The table should only contain the columns `Title` and `Rating`, **in that order**.\n\nAssign the table to the name `above_eight`.\n\n*Hint:* Think about the steps you need to take, and try to put them in an order that make sense. Feel free to create intermediate tables for each step, but please make sure you assign your final table the name `above_eight`!"
    },
    {
      "metadata": {
        "deletable": false,
        "scrolled": false,
        "trusted": false
      },
      "cell_type": "code",
      "source": "above_eight = ...\nabove_eight",
      "execution_count": 41,
      "outputs": []
    },
    {
      "metadata": {
        "deletable": false,
        "editable": false,
        "trusted": false
      },
      "cell_type": "code",
      "source": "_ = ok.grade('q42')",
      "execution_count": 42,
      "outputs": []
    },
    {
      "metadata": {
        "deletable": false
      },
      "cell_type": "markdown",
      "source": "**Question 4.3.** Use `num_rows` (and arithmetic) to find the *proportion* of movies in the dataset that were released 1900-1999, and the *proportion* of movies in the dataset that were released in the year 2000 or later.\n\nAssign `proportion_in_20th_century` to the proportion of movies in the dataset that were released 1900-1999, and `proportion_in_21st_century` to the proportion of movies in the dataset that were released in the year 2000 or later.\n\n*Hint:* The *proportion* of movies released in the 1900's is the *number* of movies released in the 1900's, divided by the *total number* of movies.\n"
    },
    {
      "metadata": {
        "deletable": false,
        "trusted": false
      },
      "cell_type": "code",
      "source": "num_movies_in_dataset = ...\nnum_in_20th_century = ...\nnum_in_21st_century = ...\nproportion_in_20th_century = ...\nproportion_in_21st_century = ...\nprint(\"Proportion in 20th century:\", proportion_in_20th_century)\nprint(\"Proportion in 21st century:\", proportion_in_21st_century)",
      "execution_count": 47,
      "outputs": []
    },
    {
      "metadata": {
        "deletable": false,
        "editable": false,
        "trusted": false
      },
      "cell_type": "code",
      "source": "_ = ok.grade('q43')",
      "execution_count": 48,
      "outputs": []
    },
    {
      "metadata": {},
      "cell_type": "markdown",
      "source": "## 7. Summary\n\nFor your reference, here's a table of all the functions and methods we saw in this lab. We'll learn more methods to add to this table in the coming week!\n\n|Name|Example|Purpose|\n|-|-|-|\n|`sort`|`tbl.sort(\"N\")`|Create a copy of a table sorted by the values in a column|\n|`where`|`tbl.where(\"N\", are.above(2))`|Create a copy of a table with only the rows that match some *predicate*|\n|`num_rows`|`tbl.num_rows`|Compute the number of rows in a table|\n|`num_columns`|`tbl.num_columns`|Compute the number of columns in a table|\n|`select`|`tbl.select(\"N\")`|Create a copy of a table with only some of the columns|\n|`drop`|`tbl.drop(\"2*N\")`|Create a copy of a table without some of the columns|\n\n<br/>\n\nAlright! You're finished with lab 2!  "
    },
    {
      "metadata": {
        "trusted": false
      },
      "cell_type": "code",
      "source": "# For your convenience, you can run this cell to run all the tests at once!\nimport os\n_ = [ok.grade(q[:-3]) for q in os.listdir(\"tests\") if q.startswith('q')]",
      "execution_count": 57,
      "outputs": []
    },
    {
      "metadata": {
        "trusted": false
      },
      "cell_type": "code",
      "source": "",
      "execution_count": null,
      "outputs": []
    }
  ],
  "metadata": {
    "celltoolbar": "Raw Cell Format",
    "kernelspec": {
      "name": "python3",
      "display_name": "Python 3",
      "language": "python"
    },
    "language_info": {
      "mimetype": "text/x-python",
      "nbconvert_exporter": "python",
      "name": "python",
      "file_extension": ".py",
      "version": "3.5.4",
      "pygments_lexer": "ipython3",
      "codemirror_mode": {
        "version": 3,
        "name": "ipython"
      }
    }
  },
  "nbformat": 4,
  "nbformat_minor": 2
}