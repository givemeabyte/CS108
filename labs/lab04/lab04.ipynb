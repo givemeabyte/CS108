{
  "cells": [
    {
      "metadata": {},
      "cell_type": "markdown",
      "source": "# Lab 4: Functions and Visualizations"
    },
    {
      "metadata": {},
      "cell_type": "markdown",
      "source": "Welcome to Lab 4! This week, we'll learn about functions, table methods such as `apply`, and how to generate visualizations! \n\nRecommended Reading:\n\n* [Applying a Function to a Column](https://www.inferentialthinking.com/chapters/08/1/applying-a-function-to-a-column.html)\n* [Visualizations](https://www.inferentialthinking.com/chapters/07/visualization.html)\n\nFirst, set up the notebook by running the cell below."
    },
    {
      "metadata": {
        "trusted": false
      },
      "cell_type": "code",
      "source": "!pip install okpy\n!pip install datascience\nimport numpy as np\nfrom datascience import *\n\n# These lines set up graphing capabilities.\nimport matplotlib\n%matplotlib inline\nimport matplotlib.pyplot as plt\nplt.style.use('fivethirtyeight')\nimport warnings\nwarnings.simplefilter('ignore', FutureWarning)\n\nfrom ipywidgets import interact, interactive, fixed, interact_manual\nimport ipywidgets as widgets\n\nfrom client.api.notebook import Notebook\nok = Notebook('lab04.ok')\n",
      "execution_count": 21,
      "outputs": []
    },
    {
      "metadata": {},
      "cell_type": "markdown",
      "source": "## 1. Functions and CEO Incomes\n\nIn this question, we'll look at the 2015 compensation of CEOs at the 100 largest companies in California. The data was compiled from a [Los Angeles Times analysis](http://spreadsheets.latimes.com/california-ceo-compensation/), and ultimately came from [filings](https://www.sec.gov/answers/proxyhtf.htm) mandated by the SEC from all publicly-traded companies. Two companies have two CEOs, so there are 102 CEOs in the dataset.\n\nWe've copied the raw data from the LA Times page into a file called `raw_compensation.csv`. (The page notes that all dollar amounts are in **millions of dollars**.)"
    },
    {
      "metadata": {
        "trusted": false
      },
      "cell_type": "code",
      "source": "raw_compensation = Table.read_table('raw_compensation.csv')\nraw_compensation",
      "execution_count": 22,
      "outputs": []
    },
    {
      "metadata": {},
      "cell_type": "markdown",
      "source": "We want to compute the average of the CEOs' pay. Try running the cell below."
    },
    {
      "metadata": {
        "trusted": false
      },
      "cell_type": "code",
      "source": "np.average(raw_compensation.column(\"Total Pay\"))",
      "execution_count": 23,
      "outputs": []
    },
    {
      "metadata": {},
      "cell_type": "markdown",
      "source": "You should see an error. Let's examine why this error occurred by looking at the values in the `Total Pay` column. \n\n**Question 1.1.** Use the `type` function and set `total_pay_type` to the type of the first value in the \"Total Pay\" column."
    },
    {
      "metadata": {
        "trusted": false
      },
      "cell_type": "code",
      "source": "total_pay_type = ...\ntotal_pay_type",
      "execution_count": 24,
      "outputs": []
    },
    {
      "metadata": {
        "trusted": false
      },
      "cell_type": "code",
      "source": "_ = ok.grade('q1_1')",
      "execution_count": 25,
      "outputs": []
    },
    {
      "metadata": {},
      "cell_type": "markdown",
      "source": "**Question 1.2.** You should have found that the values in the `Total Pay` column are strings. It doesn't make sense to take the average of string values, so we need to convert them to numbers if we want to do this. Extract the first value in `Total Pay`.  It's Mark Hurd's pay in 2015, in *millions* of dollars.  Call it `mark_hurd_pay_string`."
    },
    {
      "metadata": {
        "trusted": false
      },
      "cell_type": "code",
      "source": "mark_hurd_pay_string = ...\nmark_hurd_pay_string",
      "execution_count": 26,
      "outputs": []
    },
    {
      "metadata": {
        "trusted": false
      },
      "cell_type": "code",
      "source": "_ = ok.grade('q1_2')",
      "execution_count": 27,
      "outputs": []
    },
    {
      "metadata": {},
      "cell_type": "markdown",
      "source": "**Question 1.3.** Convert `mark_hurd_pay_string` to a number of *dollars*. \n\nSome hints, as this question requires multiple steps:\n- The string method `strip` will be useful for removing the dollar sign; it removes a specified character from the start or end of a string.  For example, the value of `\"100%\".strip(\"%\")` is the string `\"100\"`.  \n- You'll also need the function `float`, which converts a string that looks like a number to an actual number.  \n- Finally, remember that the answer should be in dollars, not millions of dollars."
    },
    {
      "metadata": {
        "trusted": false
      },
      "cell_type": "code",
      "source": "mark_hurd_pay = ...\nmark_hurd_pay",
      "execution_count": 28,
      "outputs": []
    },
    {
      "metadata": {
        "trusted": false
      },
      "cell_type": "code",
      "source": "_ = ok.grade('q1_3')",
      "execution_count": 29,
      "outputs": []
    },
    {
      "metadata": {},
      "cell_type": "markdown",
      "source": "To compute the average pay, we need to do this for every CEO.  But that looks like it would involve copying this code 102 times.\n\nThis is where functions come in.  First, we'll define a new function, giving a name to the expression that converts \"total pay\" strings to numeric values.  Later in this lab, we'll see the payoff: we can call that function on every pay string in the dataset at once.\n\nThe next section of this lab explains how to define a function For now, just fill in the ellipses in the cell below.\n\n**Question 4.** Copy the expression you used to compute `mark_hurd_pay`, and use it as the return expression of the function below. But make sure you replace the specific `mark_hurd_pay_string` with the generic `pay_string` name specified in the first line in the `def` statement.\n\n*Hint*: When dealing with functions, you should generally not be referencing any variable outside of the function. Usually, you want to be working with the arguments that are passed into it, such as `pay_string` for this function. If you're using `mark_hurd_pay_string` within your function, you're referencing an outside variable! "
    },
    {
      "metadata": {
        "for_assignment_type": "student",
        "trusted": false
      },
      "cell_type": "code",
      "source": "def convert_pay_string_to_number(pay_string):\n    \"\"\"Converts a pay string like '$100' (in millions) to a number of dollars.\"\"\"\n    return ...",
      "execution_count": 30,
      "outputs": []
    },
    {
      "metadata": {
        "trusted": false
      },
      "cell_type": "code",
      "source": "_ = ok.grade('q1_4')",
      "execution_count": 32,
      "outputs": []
    },
    {
      "metadata": {},
      "cell_type": "markdown",
      "source": "Running that cell doesn't convert any particular pay string. Instead, it creates a function called `convert_pay_string_to_number` that can convert *any* string with the right format to a number representing millions of dollars.\n\nWe can call our function just like we call the built-in functions we've seen. It takes one argument -- a string -- and it returns a float."
    },
    {
      "metadata": {
        "trusted": false
      },
      "cell_type": "code",
      "source": "convert_pay_string_to_number('$42')",
      "execution_count": 33,
      "outputs": []
    },
    {
      "metadata": {
        "trusted": false
      },
      "cell_type": "code",
      "source": "convert_pay_string_to_number(mark_hurd_pay_string)",
      "execution_count": 34,
      "outputs": []
    },
    {
      "metadata": {
        "trusted": false
      },
      "cell_type": "code",
      "source": "# We can also compute Safra Catz's pay in the same way:\nconvert_pay_string_to_number(raw_compensation.where(\"Name\", are.containing(\"Safra\")).column(\"Total Pay\").item(0))",
      "execution_count": 35,
      "outputs": []
    },
    {
      "metadata": {},
      "cell_type": "markdown",
      "source": "So, what have we gained by defining the `convert_pay_string_to_number` function? \nWell, without it, we'd have to copy the code `10**6 * float(<pay_string>.strip(\"$\"))` each time we wanted to convert a pay string.  Now we just call a function whose name says exactly what it's doing.\n\nSoon, we'll see how to apply this function to every pay string in a single expression. First, let's take a brief detour and introduce `interact`."
    },
    {
      "metadata": {},
      "cell_type": "markdown",
      "source": "### Using `interact`\n\nWe've included a nifty function called `interact` that allows you to\ncall a function with different arguments.\n\nTo use it, call `interact` with the function you want to interact with as the\nfirst argument, then specify a default value for each argument of the original\nfunction like so:"
    },
    {
      "metadata": {
        "trusted": false
      },
      "cell_type": "code",
      "source": "_ = interact(convert_pay_string_to_number, pay_string='$42')",
      "execution_count": 36,
      "outputs": []
    },
    {
      "metadata": {},
      "cell_type": "markdown",
      "source": "You can now change the value in the text box to automatically call\n`convert_pay_string_to_number` with the argument you enter in the `pay_string`\ntextbox. For example, entering in `'$49'` in the textbox will display the result of\nrunning `convert_pay_string_to_number('$49')`. Neat!\n\nWe'll never ask you to write the `interact` function calls yourself as\npart of a question. However, we’ll include it whenever we think it’s helpful!\n\nNow, let's continue on and write more functions."
    },
    {
      "metadata": {},
      "cell_type": "markdown",
      "source": "## 2. Defining functions\n\nLet's write a very simple function that converts a proportion to a percentage by multiplying it by 100.  For example, the value of `to_percentage(.5)` should be the number 50 (no percent sign).\n\nA function definition has a few parts.\n\n##### `def`\nIt always starts with `def` (short for **def**ine):\n\n    def\n\n##### Name\nNext comes the name of the function.  Like other names we've defined, it can't start with a number or contain spaces. Let's call our function `to_percentage`:\n    \n    def to_percentage\n\n##### Signature\nNext comes something called the *signature* of the function.  This tells Python how many arguments your function should have, and what names you'll use to refer to those arguments in the function's code.  A function can have any number of arguments (including 0!). \n\n`to_percentage` should take one argument, and we'll call that argument `proportion` since it should be a proportion.\n\n    def to_percentage(proportion)\n    \nIf we want our function to take more than one argument, we add a comma between each argument name.\n\nWe put a colon after the signature to tell Python it's over. If you're getting a syntax error after defining a function, check to make sure you remembered the colon!\n\n    def to_percentage(proportion):\n\n##### Documentation\nFunctions can do complicated things, so you should write an explanation of what your function does.  For small functions, this is less important, but it's a good habit to learn from the start.  Conventionally, Python functions are documented by writing an **indented** triple-quoted string:\n\n    def to_percentage(proportion):\n        \"\"\"Converts a proportion to a percentage.\"\"\"\n    \n    \n##### Body\nNow we start writing code that runs when the function is called.  This is called the *body* of the function and every line **must be indented with a tab**.  Any lines that are *not* indented and left-aligned with the def statement is considered outside the function. \n\nSome notes about the body of the function:\n- We can write any code that we would write anywhere else.  \n- We use the arguments defined in the function signature. We can do this because we assume that when we call the function, values are already assigned to those arguments.\n- We generally avoid referencing variables defined *outside* the function.\n\n\nNow, let's give a name to the number we multiply a proportion by to get a percentage:\n\n    def to_percentage(proportion):\n        \"\"\"Converts a proportion to a percentage.\"\"\"\n        factor = 100\n\n##### `return`\nThe special instruction `return` is part of the function's body and tells Python to make the value of the function call equal to whatever comes right after `return`.  We want the value of `to_percentage(.5)` to be the proportion .5 times the factor 100, so we write:\n\n    def to_percentage(proportion):\n        \"\"\"Converts a proportion to a percentage.\"\"\"\n        factor = 100\n        return proportion * factor\n        \n`return` only makes sense in the context of a function, and **can never be used outside of a function**. `return` is always the last line of the function because Python stops executing the body of a function once it hits a `return` statement.\n\n*Note:*  `return` inside a function tells Python what value the function evaluates to. However, there are other functions, like `print`, that have no `return` value. For example, `print` simply prints a certain value out to the console. \n\n`return` and `print` are **very** different. "
    },
    {
      "metadata": {},
      "cell_type": "markdown",
      "source": "**Question 2.1.** Define `to_percentage` in the cell below.  Call your function to convert the proportion .2 to a percentage.  Name that percentage `twenty_percent`."
    },
    {
      "metadata": {
        "for_assignment_type": "student",
        "trusted": false
      },
      "cell_type": "code",
      "source": "def ...\n    \"\"\" ... \"\"\"\n    ... = ...\n    return ...\n\ntwenty_percent = ...\ntwenty_percent",
      "execution_count": 37,
      "outputs": []
    },
    {
      "metadata": {
        "trusted": false
      },
      "cell_type": "code",
      "source": "_ = ok.grade('q2_1')",
      "execution_count": 39,
      "outputs": []
    },
    {
      "metadata": {},
      "cell_type": "markdown",
      "source": "Like built-in functions you've used in previous labs (`max`, `abs`, etc.), you can use named values as arguments to your function.\n\n**Question 2.2.** Use `to_percentage` again to convert the proportion named `a_proportion` (defined below) to a percentage called `a_percentage`.\n\n*Note:* You don't need to define `to_percentage` again!  Like other named values, functions stick around after you define them."
    },
    {
      "metadata": {
        "trusted": false
      },
      "cell_type": "code",
      "source": "a_proportion = 2**(.5) / 2\na_percentage = ...\na_percentage",
      "execution_count": 40,
      "outputs": []
    },
    {
      "metadata": {
        "trusted": false
      },
      "cell_type": "code",
      "source": "_ = ok.grade('q2_2')",
      "execution_count": 41,
      "outputs": []
    },
    {
      "metadata": {},
      "cell_type": "markdown",
      "source": "Here's something important about functions: the names assigned *within* a function body are only accessible within the function body. Once the function has returned, those names are gone.  So even though you defined `factor = 100` inside  the body of the `to_percentage` function up above and then called `to_percentage`, you cannot refer to `factor` anywhere except inside the body of `to_percentage`:"
    },
    {
      "metadata": {
        "trusted": false
      },
      "cell_type": "code",
      "source": "# You should see an error when you run this.  (If you don't, you might\n# have defined factor somewhere above.)\nfactor",
      "execution_count": 42,
      "outputs": []
    },
    {
      "metadata": {},
      "cell_type": "markdown",
      "source": "As we've seen with built-in functions, functions can also take strings (or arrays, or tables) as arguments, and they can return those things, too.\n\n**Question 2.3.** Define a function called `disemvowel`.  It should take a single string as its argument.  (You can call that argument whatever you want.)  It should return a copy of that string, but with all the characters that are vowels removed.  (In English, the vowels are the characters \"a\", \"e\", \"i\", \"o\", and \"u\".)\n\n*Hint:* To remove all the \"a\"s from a string, you can use `<that_string>.replace(\"a\", \"\")`.  The `.replace` method for strings returns a new string, so you can call `replace` multiple times, one after the other. "
    },
    {
      "metadata": {
        "trusted": false
      },
      "cell_type": "code",
      "source": "def disemvowel(a_string):\n    ...\n    ...\n\n# An example call to your function.  (It's often helpful to run\n# an example call from time to time while you're writing a function,\n# to see how it currently works.)\ndisemvowel(\"Can you read this without vowels?\")",
      "execution_count": 43,
      "outputs": []
    },
    {
      "metadata": {
        "trusted": false
      },
      "cell_type": "code",
      "source": "# Alternatively, you can use interact to call your function\n# Change the text in the text box to see other words \"disemvoweled\"!\n_ = interact(disemvowel, a_string='Hello world')",
      "execution_count": 44,
      "outputs": []
    },
    {
      "metadata": {
        "trusted": false
      },
      "cell_type": "code",
      "source": "_ = ok.grade('q2_3')",
      "execution_count": 45,
      "outputs": []
    },
    {
      "metadata": {},
      "cell_type": "markdown",
      "source": "##### Calls on calls on calls\nJust as you write a series of lines to build up a complex computation, it's useful to define a series of small functions that build on each other.  Since you can write any code inside a function's body, you can call other functions you've written.\n\nIf a function is a like a recipe, defining a function in terms of other functions is like having a recipe for cake telling you to follow another recipe to make the frosting, and another to make the jam filling.  This makes the cake recipe shorter and clearer, and it avoids having a bunch of duplicated frosting recipes.  It's a foundation of productive programming.\n\nFor example, suppose you want to count the number of characters *that aren't vowels* in a piece of text.  One way to do that is this to remove all the vowels and count the size of the remaining string.\n\n**Question 2.4.** Write a function called `num_non_vowels`.  It should take a string as its argument and return a number.  That number should be the number of characters in the argument string that aren't vowels.\n\n*Hint:* The function `len` takes a string as its argument and returns the number of characters in it."
    },
    {
      "metadata": {
        "trusted": false
      },
      "cell_type": "code",
      "source": "def num_non_vowels(a_string):\n    \"\"\"The number of characters in a string, minus the vowels.\"\"\"\n    ...\n\n# Try calling your function yourself to make sure the output is what\n# you expect. You can also use the interact function in the next cell if you'd like.",
      "execution_count": 46,
      "outputs": []
    },
    {
      "metadata": {
        "trusted": false
      },
      "cell_type": "code",
      "source": "_ = ok.grade('q2_4')",
      "execution_count": 47,
      "outputs": []
    },
    {
      "metadata": {
        "trusted": false
      },
      "cell_type": "code",
      "source": "# Change the text in the text box to see its length!\n_ = interact(num_non_vowels, a_string='Hello world')",
      "execution_count": 48,
      "outputs": []
    },
    {
      "metadata": {},
      "cell_type": "markdown",
      "source": "Functions can also encapsulate code that *does an action* rather than computing a value.  For example, if you call `print` inside a function, and then call that function, something will get printed.\n\nThe `movies_by_year` dataset in the textbook has information about movie sales in recent years.  Suppose you'd like to display the year with the 5th-highest total gross movie sales, printed in a human-readable way.  You might do this:"
    },
    {
      "metadata": {
        "trusted": false
      },
      "cell_type": "code",
      "source": "movies_by_year = Table.read_table(\"movies_by_year.csv\")\nrank = 5\nfifth_from_top_movie_year = movies_by_year.sort(\"Total Gross\", descending=True).column(\"Year\").item(rank-1)\nprint(\"Year number\", rank, \"for total gross movie sales was:\", fifth_from_top_movie_year)",
      "execution_count": 19,
      "outputs": []
    },
    {
      "metadata": {},
      "cell_type": "markdown",
      "source": "After writing this, you realize you also wanted to print out the 2nd and 3rd-highest years.  Instead of copying your code, you decide to put it in a function.  Since the rank varies, you make that an argument to your function.\n\n**Question 2.5.** Write a function called `print_kth_top_movie_year`.  It should take a single argument, the rank of the year (like 2, 3, or 5 in the above examples).  It should print out a message like the one above.  \n\n*Note:* Your function shouldn't have a `return` statement."
    },
    {
      "metadata": {
        "for_assignment_type": "student",
        "trusted": false
      },
      "cell_type": "code",
      "source": "def print_kth_top_movie_year(k):\n    ...\n    print(...)\n\n# Example calls to your function:\nprint_kth_top_movie_year(2)\nprint_kth_top_movie_year(3)",
      "execution_count": 29,
      "outputs": []
    },
    {
      "metadata": {
        "trusted": false
      },
      "cell_type": "code",
      "source": "# interact also allows you to pass in an array for a function argument. It will\n# then present a dropdown menu of options.\n_ = interact(print_kth_top_movie_year, k=np.arange(1, 10))",
      "execution_count": 51,
      "outputs": []
    },
    {
      "metadata": {
        "trusted": false
      },
      "cell_type": "code",
      "source": "_ = ok.grade('q2_5')",
      "execution_count": 32,
      "outputs": []
    },
    {
      "metadata": {},
      "cell_type": "markdown",
      "source": "### `print` is not the same as `return`\nThe `print_kth_top_movie_year(k)` function prints the total gross movie sales for the year that was provided! However, since we did not return any value in this function, we can not use it after we call it. Let's look at an example of another function that prints a value but does not return it."
    },
    {
      "metadata": {
        "trusted": false
      },
      "cell_type": "code",
      "source": "def print_number_five():\n    print(5)",
      "execution_count": 33,
      "outputs": []
    },
    {
      "metadata": {
        "trusted": false
      },
      "cell_type": "code",
      "source": "print_number_five()",
      "execution_count": 34,
      "outputs": []
    },
    {
      "metadata": {},
      "cell_type": "markdown",
      "source": "However, if we try to use the output of `print_number_five()`, we see that we get an error when we try to add the number 5 to it!"
    },
    {
      "metadata": {
        "trusted": false
      },
      "cell_type": "code",
      "source": "print_number_five_output = print_number_five()\nprint_number_five_output + 5",
      "execution_count": 35,
      "outputs": []
    },
    {
      "metadata": {},
      "cell_type": "markdown",
      "source": "It may seem that `print_number_five()` is returning a value, 5. In reality, it just displays the number 5 to you without giving you the actual value! If your function prints out a value without returning it and you try to use that value, you will run into errors, so be careful!"
    },
    {
      "metadata": {},
      "cell_type": "markdown",
      "source": "## 3. `apply`ing functions\n\nDefining a function is a lot like giving a name to a value with `=`.  In fact, a function is a value just like the number 1 or the text \"the\"!\n\nFor example, we can make a new name for the built-in function `max` if we want:"
    },
    {
      "metadata": {
        "trusted": false
      },
      "cell_type": "code",
      "source": "our_name_for_max = max\nour_name_for_max(2, 6)",
      "execution_count": 36,
      "outputs": []
    },
    {
      "metadata": {},
      "cell_type": "markdown",
      "source": "The old name for `max` is still around:"
    },
    {
      "metadata": {
        "trusted": false
      },
      "cell_type": "code",
      "source": "max(2, 6)",
      "execution_count": 37,
      "outputs": []
    },
    {
      "metadata": {},
      "cell_type": "markdown",
      "source": "Try just writing `max` or `our_name_for_max` (or the name of any other function) in a cell, and run that cell.  Python will print out a (very brief) description of the function."
    },
    {
      "metadata": {
        "trusted": false
      },
      "cell_type": "code",
      "source": "max",
      "execution_count": 38,
      "outputs": []
    },
    {
      "metadata": {},
      "cell_type": "markdown",
      "source": "Why is this useful?  Since functions are just values, it's possible to pass them as arguments to other functions.  Here's a simple but not-so-practical example: we can make an array of functions."
    },
    {
      "metadata": {
        "trusted": false
      },
      "cell_type": "code",
      "source": "make_array(max, np.average, are.equal_to)",
      "execution_count": 39,
      "outputs": []
    },
    {
      "metadata": {},
      "cell_type": "markdown",
      "source": "**Question 3.1.** Make an array containing any 3 other functions you've seen.  Call it `some_functions`."
    },
    {
      "metadata": {
        "trusted": false
      },
      "cell_type": "code",
      "source": "some_functions = ...\nsome_functions",
      "execution_count": 40,
      "outputs": []
    },
    {
      "metadata": {
        "trusted": false
      },
      "cell_type": "code",
      "source": "_ = ok.grade('q3_1')",
      "execution_count": 41,
      "outputs": []
    },
    {
      "metadata": {},
      "cell_type": "markdown",
      "source": "Working with functions as values can lead to some funny-looking code.  For example, see if you can figure out why this works:"
    },
    {
      "metadata": {
        "trusted": false
      },
      "cell_type": "code",
      "source": "make_array(max, np.average, are.equal_to).item(0)(4, -2, 7)",
      "execution_count": 42,
      "outputs": []
    },
    {
      "metadata": {},
      "cell_type": "markdown",
      "source": "Here's a simpler example that's actually useful: the table method `apply`.\n\n`apply` calls a function many times, once on *each* element in a column of a table.  It produces an *array* of the results.  Here we use `apply` to convert every CEO's pay to a number, using the function you defined:"
    },
    {
      "metadata": {
        "trusted": false
      },
      "cell_type": "code",
      "source": "raw_compensation.apply(convert_pay_string_to_number, \"Total Pay\")",
      "execution_count": 6,
      "outputs": []
    },
    {
      "metadata": {},
      "cell_type": "markdown",
      "source": "Here's an illustration of what that did:\n\n<img src=\"apply.png\"/>\n\nNote that we didn't write something like `convert_pay_string_to_number()` or `convert_pay_string_to_number(\"Total Pay ($)\")`.  The job of `apply` is to call the function we give it, so instead of calling `convert_pay_string_to_number` ourselves, we just write its name as an argument to `apply`.\n\n**Question 3.2.** Using `apply`, make a table that's a copy of `raw_compensation` with one additional column called `Total Pay ($)`.  That column should contain the result of applying `convert_pay_string_to_number` to the `Total Pay` column (as we did above).  Call the new table `compensation`."
    },
    {
      "metadata": {
        "trusted": false
      },
      "cell_type": "code",
      "source": "compensation = raw_compensation.with_column(\n    \"Total Pay ($)\",\n    ...\ncompensation",
      "execution_count": 7,
      "outputs": []
    },
    {
      "metadata": {
        "trusted": false
      },
      "cell_type": "code",
      "source": "_ = ok.grade('q3_2')",
      "execution_count": 8,
      "outputs": []
    },
    {
      "metadata": {},
      "cell_type": "markdown",
      "source": "Now that we have all the pays as numbers, we can learn more about them through computation.\n\n**Question 3.3.** Compute the average total pay of the CEOs in the dataset."
    },
    {
      "metadata": {
        "trusted": false
      },
      "cell_type": "code",
      "source": "average_total_pay = ...\naverage_total_pay",
      "execution_count": 9,
      "outputs": []
    },
    {
      "metadata": {
        "trusted": false
      },
      "cell_type": "code",
      "source": "_ = ok.grade('q3_3')",
      "execution_count": 10,
      "outputs": []
    },
    {
      "metadata": {},
      "cell_type": "markdown",
      "source": "**Question 3.4.** Companies pay executives in a variety of ways: in cash, by granting stock or other equity in the company, or with ancillary benefits (like private jets).  Compute the proportion of each CEO's pay that was cash.  (Your answer should be an array of numbers, one for each CEO in the dataset.)\n\n*Note:* When you answer this question, you'll encounter a red box appearing below your code cell that says something like `RuntimeWarning: invalid value encountered in true_divide`. Don't worry too much about the message. Warnings are raised by Python when it encounters an unusual condition in your code, but the condition is not severe enough to warrant throwing an error. \n\nThe warning below is Python's cryptic way of telling you that you're dividng a number by zero. If you extract the values in `Total Pay ($)` as an array, you'll see that the last element is 0."
    },
    {
      "metadata": {
        "trusted": false
      },
      "cell_type": "code",
      "source": "cash_proportion = ...\ncash_proportion",
      "execution_count": 11,
      "outputs": []
    },
    {
      "metadata": {
        "trusted": false
      },
      "cell_type": "code",
      "source": "_ = ok.grade('q3_4')",
      "execution_count": 12,
      "outputs": []
    },
    {
      "metadata": {},
      "cell_type": "markdown",
      "source": "Check out the `% Change` column in `compensation`.  It shows the percentage increase in the CEO's pay from the previous year.  For CEOs with no previous year on record, it instead says \"(No previous year)\".  The values in this column are *strings*, not numbers, so like the `Total Pay` column, it's not usable without a bit of extra work.\n\nGiven your current pay and the percentage increase from the previous year, you can compute your previous year's pay.  For example, if your pay is $\\$100$ this year, and that's an increase of 50% from the previous year, then your previous year's pay was $\\frac{\\$100}{1 + \\frac{50}{100}}$, or around \\$66.66.\n\n**Question 3.5.** Create a new table called `with_previous_compensation`.  It should be a copy of `compensation`, but with the \"(No previous year)\" CEOs filtered out, and with an extra column called `2014 Total Pay ($)`.  That column should have each CEO's pay in 2014.\n\n*Hint 1:* You can print out your results after each step to make sure you're on the right track.\n\n*Hint 2:* We've provided a structure that you can use to get to the answer. However, if it's confusing, feel free to delete the current structure and approach the problem your own way! "
    },
    {
      "metadata": {
        "for_assignment_type": "student",
        "trusted": false
      },
      "cell_type": "code",
      "source": "# Definition to turn percent to number\ndef percent_string_to_num(percent_string):\n    \"\"\"Converts a percentage string to a number.\"\"\"\n    return ...\n\n# Compensation table where there is a previous year\nhaving_previous_year = ...\n\n# Get the percent changes as numbers instead of strings\n# We're still working off the table having_previous_year\npercent_changes = ...\n\n# Calculate the previous year's pay\n# We're still working off the table having_previous_year\nprevious_pay = ...\n\n# Put the previous pay column into the having_previous_year table\nwith_previous_compensation = ...\n\nwith_previous_compensation",
      "execution_count": 50,
      "outputs": []
    },
    {
      "metadata": {
        "scrolled": true,
        "trusted": false
      },
      "cell_type": "code",
      "source": "_ = ok.grade('q3_5')",
      "execution_count": 15,
      "outputs": []
    },
    {
      "metadata": {},
      "cell_type": "markdown",
      "source": "**Question 3.6.** What was the average pay of these CEOs in 2014?"
    },
    {
      "metadata": {
        "trusted": false
      },
      "cell_type": "code",
      "source": "average_pay_2014 = ...\naverage_pay_2014",
      "execution_count": 16,
      "outputs": []
    },
    {
      "metadata": {
        "trusted": false
      },
      "cell_type": "code",
      "source": "_ = ok.grade('q3_6')",
      "execution_count": 17,
      "outputs": []
    },
    {
      "metadata": {},
      "cell_type": "markdown",
      "source": "## 4. Histograms\nEarlier, we computed the average pay among the CEOs in our 102-CEO dataset.  The average doesn't tell us everything about the amounts CEOs are paid, though.  Maybe just a few CEOs make the bulk of the money, even among these 102.\n\nWe can use a *histogram* method to display the *distribution* of a set of numbers.  The table method `hist` takes a single argument, the name of a column of numbers.  It produces a histogram of the numbers in that column.\n\n**Question 4.1.** Make a histogram of the total pay of the CEOs in `compensation`. Check with your neighbor or a staff member to make sure you have the right plot."
    },
    {
      "metadata": {
        "trusted": false
      },
      "cell_type": "code",
      "source": "...",
      "execution_count": 18,
      "outputs": []
    },
    {
      "metadata": {},
      "cell_type": "markdown",
      "source": "**Question 4.2.** Looking at the histogram, how many CEOs made more than $30 million in total pay? Answer the question with code.  \n\n*Hint:* Use the table method `where` and the property `num_rows`."
    },
    {
      "metadata": {
        "trusted": false
      },
      "cell_type": "code",
      "source": "num_ceos_more_than_30_million_2 = ...\nnum_ceos_more_than_30_million_2",
      "execution_count": 56,
      "outputs": []
    },
    {
      "metadata": {
        "trusted": false
      },
      "cell_type": "code",
      "source": "_ = ok.grade('q4_2')",
      "execution_count": 57,
      "outputs": []
    },
    {
      "metadata": {},
      "cell_type": "markdown",
      "source": "Great job! You're finished with lab 4! "
    },
    {
      "metadata": {
        "collapsed": true,
        "trusted": false
      },
      "cell_type": "code",
      "source": "# For your convenience, you can run this cell to run all the tests at once!\nimport os\n_ = [ok.grade(q[:-3]) for q in os.listdir(\"tests\") if q.startswith('q')]",
      "execution_count": null,
      "outputs": []
    }
  ],
  "metadata": {
    "anaconda-cloud": {},
    "celltoolbar": "Raw Cell Format",
    "kernelspec": {
      "name": "python3",
      "display_name": "Python 3",
      "language": "python"
    },
    "language_info": {
      "mimetype": "text/x-python",
      "nbconvert_exporter": "python",
      "name": "python",
      "pygments_lexer": "ipython3",
      "version": "3.5.4",
      "file_extension": ".py",
      "codemirror_mode": {
        "version": 3,
        "name": "ipython"
      }
    }
  },
  "nbformat": 4,
  "nbformat_minor": 1
}