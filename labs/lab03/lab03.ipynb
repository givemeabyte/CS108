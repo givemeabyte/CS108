{
  "cells": [
    {
      "metadata": {},
      "cell_type": "markdown",
      "source": "# Lab 3: Data Types and Arrays\nWelcome to Lab 3!\n\nSo far, we've used Python to manipulate numbers and work with tables.  But we need to discuss data types to deepen our understanding of how to work with data in Python.\n\nIn this lab, you'll first see how to represent and manipulate another fundamental type of data: text.  A piece of text is called a *string* in Python. You'll also see how to work with *arrays* of data, such as all the numbers between 0 and 100 or all the words in the chapter of a book. Lastly, you'll create tables and practice analyzing them with your knowledge of table operations."
    },
    {
      "metadata": {},
      "cell_type": "markdown",
      "source": "Set up the tests and imports by running the cell below."
    },
    {
      "metadata": {
        "deletable": false,
        "trusted": false
      },
      "cell_type": "code",
      "source": "# Just run this cell\n!pip install okpy\n!pip install datascience\nimport numpy as np\nimport math\nfrom datascience import *\n\n# These lines load the tests.\nfrom client.api.notebook import Notebook\nok = Notebook('lab03.ok')\n",
      "execution_count": null,
      "outputs": []
    },
    {
      "metadata": {
        "deletable": false,
        "trusted": true
      },
      "cell_type": "code",
      "source": "",
      "execution_count": null,
      "outputs": []
    },
    {
      "metadata": {},
      "cell_type": "markdown",
      "source": "# 1. Text\nProgramming doesn't just concern numbers. Text is one of the most common data types used in programs. \n\nText is represented by a **string value** in Python. The word \"string\" is a programming term for a sequence of characters. A string might contain a single character, a word, a sentence, or a whole book.\n\nTo distinguish text data from actual code, we demarcate strings by putting quotation marks around them. Single quotes (`'`) and double quotes (`\"`) are both valid, but the types of opening and closing quotation marks must match. The contents can be any sequence of characters, including numbers and symbols. \n\nWe've seen strings before in `print` statements.  Below, two different strings are passed as arguments to the `print` function."
    },
    {
      "metadata": {
        "trusted": false
      },
      "cell_type": "code",
      "source": "print(\"I <3\", 'Data Science')",
      "execution_count": null,
      "outputs": []
    },
    {
      "metadata": {},
      "cell_type": "markdown",
      "source": "Just as names can be given to numbers, names can be given to string values.  The names and strings aren't required to be similar in any way. Any name can be assigned to any string."
    },
    {
      "metadata": {
        "trusted": false
      },
      "cell_type": "code",
      "source": "one = 'two'\nplus = '*'\nprint(one, plus, one)",
      "execution_count": null,
      "outputs": []
    },
    {
      "metadata": {},
      "cell_type": "markdown",
      "source": "**Question 1.1.** Yuri Gagarin was the first person to travel through outer space.  When he emerged from his capsule upon landing on Earth, he [reportedly](https://en.wikiquote.org/wiki/Yuri_Gagarin) had the following conversation with a woman and girl who saw the landing:\n\n    The woman asked: \"Can it be that you have come from outer space?\"\n    Gagarin replied: \"As a matter of fact, I have!\"\n\nThe cell below contains unfinished code.  Fill in the `...`s so that it prints out this conversation *exactly* as it appears above."
    },
    {
      "metadata": {
        "deletable": false,
        "trusted": false
      },
      "cell_type": "code",
      "source": "woman_asking = ...\nwoman_quote = '\"Can it be that you have come from outer space?\"'\ngagarin_reply = 'Gagarin replied:'\ngagarin_quote = ...\n\nprint(woman_asking, woman_quote)\nprint(gagarin_reply, gagarin_quote)",
      "execution_count": null,
      "outputs": []
    },
    {
      "metadata": {
        "deletable": false,
        "trusted": false
      },
      "cell_type": "code",
      "source": "_ = ok.grade('q11')",
      "execution_count": null,
      "outputs": []
    },
    {
      "metadata": {},
      "cell_type": "markdown",
      "source": "## 1.1. String Methods"
    },
    {
      "metadata": {},
      "cell_type": "markdown",
      "source": "Strings can be transformed using **methods**. Recall that methods and functions are not technically the same thing, but we'll be using them interchangeably for the purposes of this course.\n\nHere's a sketch of how to call methods on a string:\n\n    <expression that evaluates to a string>.<method name>(<argument>, <argument>, ...)\n    \nOne example of a string method is `replace`, which replaces all instances of some part of the original string (or a *substring*) with a new string. \n\n    <original string>.replace(<old substring>, <new substring>)\n    \n`replace` returns (evaluates to) a new string, leaving the original string unchanged.\n    \nTry to predict the output of this example, then run the cell!"
    },
    {
      "metadata": {
        "trusted": false
      },
      "cell_type": "code",
      "source": "# Replace one letter\n'Hello'.replace('o', 'a')",
      "execution_count": null,
      "outputs": []
    },
    {
      "metadata": {},
      "cell_type": "markdown",
      "source": "You can call functions on the results of other functions.  For example, `max(abs(-5), abs(3))` evaluates to 5.  Similarly, you can call methods on the results of other method or function calls.\n\nYou may have already noticed one difference between functions and methods - a function like `max` does not require a `.` before it's called, but a string method like `replace` does. Here's a handy [Python reference](http://data8.org/sp19/python-reference.html) on the Data 8 website. It's a good idea to refer to this whenever you're unsure of how to call a function or method."
    },
    {
      "metadata": {
        "scrolled": true,
        "trusted": false
      },
      "cell_type": "code",
      "source": "# Calling replace on the output of another call to replace\n'train'.replace('t', 'ing').replace('in', 'de')",
      "execution_count": null,
      "outputs": []
    },
    {
      "metadata": {},
      "cell_type": "markdown",
      "source": "Here's a picture of how Python evaluates a \"chained\" method call like that:\n\n<img src=\"chaining_method_calls.png\"/>"
    },
    {
      "metadata": {},
      "cell_type": "markdown",
      "source": "**Question 1.1.1.** Use `replace` to transform the string `'hitchhiker'` into `'matchmaker'`. Assign your result to `new_word`."
    },
    {
      "metadata": {
        "deletable": false,
        "trusted": false
      },
      "cell_type": "code",
      "source": "new_word = ...\nnew_word",
      "execution_count": null,
      "outputs": []
    },
    {
      "metadata": {
        "deletable": false,
        "scrolled": false,
        "trusted": false
      },
      "cell_type": "code",
      "source": "_ = ok.grade('q111')",
      "execution_count": null,
      "outputs": []
    },
    {
      "metadata": {},
      "cell_type": "markdown",
      "source": "There are many more string methods in Python, but most programmers don't memorize their names or how to use them.  In the \"real world,\" people usually just search the internet for documentation and examples. A complete [list of string methods](https://docs.python.org/3/library/stdtypes.html#string-methods) appears in the Python language documentation. [Stack Overflow](http://stackoverflow.com) has a huge database of answered questions that often demonstrate how to use these methods to achieve various ends."
    },
    {
      "metadata": {},
      "cell_type": "markdown",
      "source": "## 1.2. Converting to and from Strings"
    },
    {
      "metadata": {},
      "cell_type": "markdown",
      "source": "Strings and numbers are different *types* of values, even when a string contains the digits of a number. For example, evaluating the following cell causes an error because an integer cannot be added to a string."
    },
    {
      "metadata": {
        "trusted": false
      },
      "cell_type": "code",
      "source": "8 + \"8\"",
      "execution_count": null,
      "outputs": []
    },
    {
      "metadata": {},
      "cell_type": "markdown",
      "source": "However, there are built-in functions to convert numbers to strings and strings to numbers. Some of these built-in functions have restrictions on the type of argument they take:\n\n|Function |Description|\n|-|-|\n|`int`|Converts a string of digits or a float to an integer (\"int\") value|\n|`float`|Converts a string of digits (perhaps with a decimal point) or an int to a decimal (\"float\") value|\n|`str`|Converts any value to a string|"
    },
    {
      "metadata": {},
      "cell_type": "markdown",
      "source": "Try to predict what data type and value `example` evaluates to, then run the cell."
    },
    {
      "metadata": {
        "trusted": false
      },
      "cell_type": "code",
      "source": "example = 8 + int(\"10\") + float(\"8\")\n\nprint(example)\nprint(\"This example returned a \" + str(type(example)) + \"!\")",
      "execution_count": null,
      "outputs": []
    },
    {
      "metadata": {},
      "cell_type": "markdown",
      "source": "Suppose you're writing a program that looks for dates in a text, and you want your program to find the amount of time that elapsed between two years it has identified.  It doesn't make sense to subtract two texts, but you can first convert the text containing the years into numbers.\n\n**Question 1.2.1.** Finish the code below to compute the number of years that elapsed between `one_year` and `another_year`.  Don't just write the numbers `1618` and `1648` (or `30`); use a conversion function to turn the given text data into numbers."
    },
    {
      "metadata": {
        "deletable": false,
        "trusted": false
      },
      "cell_type": "code",
      "source": "# Some text data:\none_year = \"1618\"\nanother_year = \"1648\"\n\n# Complete the next line.  Note that we can't just write:\n#   another_year - one_year\n# If you don't see why, try seeing what happens when you\n# write that here.\ndifference = ...\ndifference",
      "execution_count": null,
      "outputs": []
    },
    {
      "metadata": {
        "deletable": false,
        "trusted": false
      },
      "cell_type": "code",
      "source": "_ = ok.grade('q121')",
      "execution_count": null,
      "outputs": []
    },
    {
      "metadata": {},
      "cell_type": "markdown",
      "source": "## 1.3. Strings as function arguments\n\nString values, like numbers, can be arguments to functions and can be returned by functions. \n\nThe function `len` (derived from the word \"length\") takes a single string as its argument and returns the number of characters (including spaces) in the string.\n\nNote that it doesn't count *words*. `len(\"one small step for man\")` evaluates to 22, not 5.\n\n**Question 1.3.1.**  Use `len` to find the number of characters in the long string in the next cell.  Characters include things like spaces and punctuation. Assign `sentence_length` to that number.\n\n(The string is the first sentence of the English translation of the French [Declaration of the Rights of Man](http://avalon.law.yale.edu/18th_century/rightsof.asp).)  "
    },
    {
      "metadata": {
        "deletable": false,
        "trusted": false
      },
      "cell_type": "code",
      "source": "a_very_long_sentence = \"The representatives of the French people, organized as a National Assembly, believing that the ignorance, neglect, or contempt of the rights of man are the sole cause of public calamities and of the corruption of governments, have determined to set forth in a solemn declaration the natural, unalienable, and sacred rights of man, in order that this declaration, being constantly before all the members of the Social body, shall remind them continually of their rights and duties; in order that the acts of the legislative power, as well as those of the executive power, may be compared at any moment with the objects and purposes of all political institutions and may thus be more respected, and, lastly, in order that the grievances of the citizens, based hereafter upon simple and incontestable principles, shall tend to the maintenance of the constitution and redound to the happiness of all.\"\nsentence_length = ...\nsentence_length",
      "execution_count": null,
      "outputs": []
    },
    {
      "metadata": {
        "deletable": false,
        "scrolled": true,
        "trusted": false
      },
      "cell_type": "code",
      "source": "_ = ok.grade('q131')",
      "execution_count": null,
      "outputs": []
    },
    {
      "metadata": {},
      "cell_type": "markdown",
      "source": "# 2. Arrays\n\nComputers are most useful when you can use a small amount of code to *do the same action* to *many different things*.\n\nFor example, in the time it takes you to calculate the 18% tip on a restaurant bill, a laptop can calculate 18% tips for every restaurant bill paid by every human on Earth that day.  (That's if you're pretty fast at doing arithmetic in your head!)\n\n**Arrays** are how we put many values in one place so that we can operate on them as a group. For example, if `billions_of_numbers` is an array of numbers, the expression\n\n    .18 * billions_of_numbers\n\ngives a new array of numbers that contains the result of multiplying each number in `billions_of_numbers` by .18.  Arrays are not limited to numbers; we can also put all the words in a book into an array of strings.\n\nConcretely, an array is a **collection of values of the same type**, like a column in an Excel spreadsheet. \n\n<img src=\"excel_array.jpg\">"
    },
    {
      "metadata": {},
      "cell_type": "markdown",
      "source": "## 2.1. Making arrays\nYou can type in the data that goes in an array yourself, but that's not typically how programs work. Normally, we create arrays by loading them from an external source, like a data file.\n\nFirst, though, let's learn how to do it the hard way. To create an array by hand, call the function `make_array`.  Each argument you pass to `make_array` will be in the array it returns.  Run this cell to see an example:"
    },
    {
      "metadata": {
        "scrolled": true,
        "trusted": false
      },
      "cell_type": "code",
      "source": "make_array(0.125, 4.75, -1.3)",
      "execution_count": null,
      "outputs": []
    },
    {
      "metadata": {},
      "cell_type": "markdown",
      "source": "Each value in an array (in the above case, the numbers 0.125, 4.75, and -1.3) is called an *element* of that array.\n\nArrays themselves are also values, just like numbers and strings.  That means you can assign them to names or use them as arguments to functions. For example, `len(<some_array>)` returns the number of elements in `some_array`."
    },
    {
      "metadata": {},
      "cell_type": "markdown",
      "source": "**Question 2.1.1.** Make an array containing the numbers 0, 1, -1, $\\pi$, and $e$, in that order.  Name it `interesting_numbers`.  \n\n*Hint:* How did you get the values $\\pi$ and $e$ in lab 2?  You can refer to them in exactly the same way here."
    },
    {
      "metadata": {
        "deletable": false,
        "trusted": false
      },
      "cell_type": "code",
      "source": "interesting_numbers = ...\ninteresting_numbers",
      "execution_count": null,
      "outputs": []
    },
    {
      "metadata": {
        "deletable": false,
        "trusted": false
      },
      "cell_type": "code",
      "source": "_ = ok.grade('q211')",
      "execution_count": null,
      "outputs": []
    },
    {
      "metadata": {},
      "cell_type": "markdown",
      "source": "**Question 2.1.2.** Make an array containing the five strings `\"Hello\"`, `\",\"`, `\" \"`, `\"world\"`, and `\"!\"`.  (The third one is a single space inside quotes.)  Name it `hello_world_components`.\n\n*Note:* If you evaluate `hello_world_components`, you'll notice some extra information in addition to its contents: `dtype='<U5'`.  That's just NumPy's extremely cryptic way of saying that the data types in the array are strings."
    },
    {
      "metadata": {
        "deletable": false,
        "trusted": false
      },
      "cell_type": "code",
      "source": "hello_world_components = ...\nhello_world_components",
      "execution_count": null,
      "outputs": []
    },
    {
      "metadata": {
        "deletable": false,
        "trusted": false
      },
      "cell_type": "code",
      "source": "_ = ok.grade('q212')",
      "execution_count": null,
      "outputs": []
    },
    {
      "metadata": {},
      "cell_type": "markdown",
      "source": "###  `np.arange`\nArrays are provided by a package called [NumPy](http://www.numpy.org/) (pronounced \"NUM-pie\" or, if you prefer to pronounce things incorrectly, \"NUM-pee\").  The package is called `numpy`, but it's standard to rename it `np` for brevity.  You can do that with:\n\n    import numpy as np\n\nVery often in data science, we want to work with many numbers that are evenly spaced within some range.  NumPy provides a special function for this called `arange`.  The line of code `np.arange(start, stop, step)` evaluates to an array with all the numbers starting at `start` and counting up by `step`, stopping **before** `stop` is reached.\n\nRun the following cells to see some examples!"
    },
    {
      "metadata": {
        "trusted": false
      },
      "cell_type": "code",
      "source": "# This array starts at 1 and counts up by 2\n# and then stops before 6\nnp.arange(1, 6, 2)",
      "execution_count": null,
      "outputs": []
    },
    {
      "metadata": {
        "trusted": false
      },
      "cell_type": "code",
      "source": "# This array doesn't contain 9\n# because np.arange stops *before* the stop value is reached\nnp.arange(4, 9, 1)",
      "execution_count": null,
      "outputs": []
    },
    {
      "metadata": {},
      "cell_type": "markdown",
      "source": "**Question 2.1.3.** Import `numpy` as `np` and then use `np.arange` to create an array with the multiples of 99 from 0 up to (**and including**) 9999.  (So its elements are 0, 99, 198, 297, etc.)"
    },
    {
      "metadata": {
        "deletable": false,
        "trusted": false
      },
      "cell_type": "code",
      "source": "...\nmultiples_of_99 = ...\nmultiples_of_99",
      "execution_count": null,
      "outputs": []
    },
    {
      "metadata": {
        "deletable": false,
        "scrolled": true,
        "trusted": false
      },
      "cell_type": "code",
      "source": "_ = ok.grade('q213')",
      "execution_count": null,
      "outputs": []
    },
    {
      "metadata": {},
      "cell_type": "markdown",
      "source": "##### Temperature readings\nNOAA (the US National Oceanic and Atmospheric Administration) operates weather stations that measure surface temperatures at different sites around the United States.  The hourly readings are [publicly available](http://www.ncdc.noaa.gov/qclcd/QCLCD?prior=N).\n\nSuppose we download all the hourly data from the Oakland, California site for the month of December 2015.  To analyze the data, we want to know when each reading was taken, but we find that the data don't include the timestamps of the readings (the time at which each one was taken).\n\nHowever, we know the first reading was taken at the first instant of December 2015 (midnight on December 1st) and each subsequent reading was taken exactly 1 hour after the last.\n\n**Question 2.1.4.** Create an array of the *time, in seconds, since the start of the month* at which each hourly reading was taken.  Name it `collection_times`.\n\n*Hint 1:* There were 31 days in December, which is equivalent to ($31 \\times 24$) hours or ($31 \\times 24 \\times 60 \\times 60$) seconds.  So your array should have $31 \\times 24$ elements in it.\n\n*Hint 2:* The `len` function works on arrays, too!  If your `collection_times` isn't passing the tests, check its length and make sure it has $31 \\times 24$ elements."
    },
    {
      "metadata": {
        "deletable": false,
        "trusted": false
      },
      "cell_type": "code",
      "source": "collection_times = ...\ncollection_times",
      "execution_count": null,
      "outputs": []
    },
    {
      "metadata": {
        "deletable": false,
        "trusted": false
      },
      "cell_type": "code",
      "source": "_ = ok.grade('q214')",
      "execution_count": null,
      "outputs": []
    },
    {
      "metadata": {},
      "cell_type": "markdown",
      "source": "## 2.2. Working with single elements of arrays (\"indexing\")\nLet's work with a more interesting dataset.  The next cell creates an array called `population_amounts` that includes estimated world populations in every year from **1950** to roughly the present.  (The estimates come from the US Census Bureau website.)\n\nRather than type in the data manually, we've loaded them from a file on your computer called `world_population.csv`.  You'll learn how to do that later in this lab!"
    },
    {
      "metadata": {
        "trusted": false
      },
      "cell_type": "code",
      "source": "population_amounts = Table.read_table(\"world_population.csv\").column(\"Population\")\npopulation_amounts",
      "execution_count": null,
      "outputs": []
    },
    {
      "metadata": {},
      "cell_type": "markdown",
      "source": "Here's how we get the first element of `population_amounts`, which is the world population in the first year in the dataset, 1950."
    },
    {
      "metadata": {
        "trusted": false
      },
      "cell_type": "code",
      "source": "population_amounts.item(0)",
      "execution_count": null,
      "outputs": []
    },
    {
      "metadata": {},
      "cell_type": "markdown",
      "source": "The value of that expression is the number 2557628654 (around 2.5 billion), because that's the first thing in the array `population_amounts`.\n\nNotice that we wrote `.item(0)`, not `.item(1)`, to get the first element.  This is a weird convention in computer science.  0 is called the *index* of the first item.  It's the number of elements that appear *before* that item.  So 3 is the index of the 4th item.\n\nHere are some more examples.  In the examples, we've given names to the things we get out of `population_amounts`.  Read and run each cell."
    },
    {
      "metadata": {
        "trusted": false
      },
      "cell_type": "code",
      "source": "# The 13th element in the array is the population\n# in 1962 (which is 1950 + 12).\npopulation_1962 = population_amounts.item(12)\npopulation_1962",
      "execution_count": null,
      "outputs": []
    },
    {
      "metadata": {
        "trusted": false
      },
      "cell_type": "code",
      "source": "# The 66th element is the population in 2015.\npopulation_2015 = population_amounts.item(65)\npopulation_2015",
      "execution_count": null,
      "outputs": []
    },
    {
      "metadata": {
        "trusted": false
      },
      "cell_type": "code",
      "source": "# The array has only 66 elements, so this doesn't work.\n# (There's no element with 66 other elements before it.)\npopulation_2016 = population_amounts.item(66)\npopulation_2016",
      "execution_count": null,
      "outputs": []
    },
    {
      "metadata": {},
      "cell_type": "markdown",
      "source": "Since `make_array` returns an array, we can call `.item(3)` on its output to get its 4th element, just like we \"chained\" together calls to the method `replace` earlier."
    },
    {
      "metadata": {
        "trusted": false
      },
      "cell_type": "code",
      "source": "make_array(-1, -3, 4, -2).item(3)",
      "execution_count": null,
      "outputs": []
    },
    {
      "metadata": {},
      "cell_type": "markdown",
      "source": "**Question 2.2.1.** Set `population_1973` to the world population in 1973, by getting the appropriate element from `population_amounts` using `item`."
    },
    {
      "metadata": {
        "deletable": false,
        "trusted": false
      },
      "cell_type": "code",
      "source": "population_1973 = ...\npopulation_1973",
      "execution_count": null,
      "outputs": []
    },
    {
      "metadata": {
        "deletable": false,
        "trusted": false
      },
      "cell_type": "code",
      "source": "_ = ok.grade('q221')",
      "execution_count": null,
      "outputs": []
    },
    {
      "metadata": {},
      "cell_type": "markdown",
      "source": "## 2.3. Doing something to every element of an array\nArrays are primarily useful for doing the same operation many times, so we don't often have to use `.item` and work with single elements.\n\n##### Logarithms\nHere is one simple question we might ask about world population:\n\n> How big was the population in *orders of magnitude* in each year?\n\nOrders of magnitude quantify how big a number is by representing it as the power of another number (for example, representing 104 as $10^{2.017033}$). One way to do this is by using the logarithm function. The logarithm (base 10) of a number increases by 1 every time we multiply the number by 10. It's like a measure of how many decimal digits the number has, or how big it is in orders of magnitude.\n\nWe could try to answer our question like this, using the `log10` function from the `math` module and the `item` method you just saw:"
    },
    {
      "metadata": {
        "scrolled": true,
        "trusted": false
      },
      "cell_type": "code",
      "source": "population_1950_magnitude = math.log10(population_amounts.item(0))\npopulation_1951_magnitude = math.log10(population_amounts.item(1))\npopulation_1952_magnitude = math.log10(population_amounts.item(2))\npopulation_1953_magnitude = math.log10(population_amounts.item(3))\n...",
      "execution_count": null,
      "outputs": []
    },
    {
      "metadata": {},
      "cell_type": "markdown",
      "source": "But this is tedious and doesn't really take advantage of the fact that we are using a computer.\n\nInstead, NumPy provides its own version of `log10` that takes the logarithm of each element of an array.  It takes a single array of numbers as its argument.  It returns an array of the same length, where the first element of the result is the logarithm of the first element of the argument, and so on.\n\n**Question 2.3.1.** Use `np.log10` to compute the logarithms of the world population in every year.  Give the result (an array of 66 numbers) the name `population_magnitudes`.  Your code should be very short."
    },
    {
      "metadata": {
        "deletable": false,
        "trusted": false
      },
      "cell_type": "code",
      "source": "population_magnitudes = ...\npopulation_magnitudes",
      "execution_count": null,
      "outputs": []
    },
    {
      "metadata": {
        "deletable": false,
        "trusted": false
      },
      "cell_type": "code",
      "source": "_ = ok.grade('q231')",
      "execution_count": null,
      "outputs": []
    },
    {
      "metadata": {},
      "cell_type": "markdown",
      "source": "What you just did is called *elementwise* application of `np.log10`, since `np.log10` operates separately on each element of the array that it's called on. Here's a picture of what's going on:"
    },
    {
      "metadata": {},
      "cell_type": "markdown",
      "source": "<img src=\"array_logarithm.jpg\">\n\n\nThe textbook's [section](https://www.inferentialthinking.com/chapters/05/1/Arrays)  on arrays has a useful list of NumPy functions that are designed to work elementwise, like `np.log10`."
    },
    {
      "metadata": {},
      "cell_type": "markdown",
      "source": "##### Arithmetic\nArithmetic also works elementwise on arrays.  For example, you can divide all the population numbers by 1 billion to get numbers in billions:"
    },
    {
      "metadata": {
        "trusted": false
      },
      "cell_type": "code",
      "source": "population_in_billions = population_amounts / 1000000000\npopulation_in_billions",
      "execution_count": null,
      "outputs": []
    },
    {
      "metadata": {},
      "cell_type": "markdown",
      "source": "You can do the same with addition, subtraction, multiplication, and exponentiation (`**`). For example, you can calculate a tip on several restaurant bills at once (in this case just 3):"
    },
    {
      "metadata": {
        "trusted": false
      },
      "cell_type": "code",
      "source": "restaurant_bills = make_array(20.12, 39.90, 31.01)\nprint(\"Restaurant bills:\\t\", restaurant_bills)\n\n# Array multiplication\ntips = .2 * restaurant_bills\nprint(\"Tips:\\t\\t\\t\", tips)",
      "execution_count": null,
      "outputs": []
    },
    {
      "metadata": {},
      "cell_type": "markdown",
      "source": "<img src=\"array_multiplication.jpg\">\n\n**Question 2.3.2.** Suppose the total charge at a restaurant is the original bill plus the tip. If the tip is 20%, that means we can multiply the original bill by 1.2 to get the total charge.  Compute the total charge for each bill in `restaurant_bills`, and assign the resulting array to `total_charges`."
    },
    {
      "metadata": {
        "deletable": false,
        "trusted": false
      },
      "cell_type": "code",
      "source": "total_charges = ...\ntotal_charges",
      "execution_count": null,
      "outputs": []
    },
    {
      "metadata": {
        "deletable": false,
        "trusted": false
      },
      "cell_type": "code",
      "source": "_ = ok.grade('q232')",
      "execution_count": null,
      "outputs": []
    },
    {
      "metadata": {},
      "cell_type": "markdown",
      "source": "**Question 2.3.3.** The array `more_restaurant_bills` contains 100,000 bills!  Compute the total charge for each one.  How is your code different?"
    },
    {
      "metadata": {
        "deletable": false,
        "trusted": false
      },
      "cell_type": "code",
      "source": "more_restaurant_bills = Table.read_table(\"more_restaurant_bills.csv\").column(\"Bill\")\nmore_total_charges = ...\nmore_total_charges",
      "execution_count": null,
      "outputs": []
    },
    {
      "metadata": {
        "deletable": false,
        "trusted": false
      },
      "cell_type": "code",
      "source": "_ = ok.grade('q233')",
      "execution_count": null,
      "outputs": []
    },
    {
      "metadata": {},
      "cell_type": "markdown",
      "source": "The function `sum` takes a single array of numbers as its argument.  It returns the sum of all the numbers in that array (so it returns a single number, not an array).\n\n**Question 2.3.4.** What was the sum of all the bills in `more_restaurant_bills`, *including tips*?"
    },
    {
      "metadata": {
        "deletable": false,
        "trusted": false
      },
      "cell_type": "code",
      "source": "sum_of_bills = ...\nsum_of_bills",
      "execution_count": null,
      "outputs": []
    },
    {
      "metadata": {
        "deletable": false,
        "trusted": false
      },
      "cell_type": "code",
      "source": "_ = ok.grade('q234')",
      "execution_count": null,
      "outputs": []
    },
    {
      "metadata": {},
      "cell_type": "markdown",
      "source": "**Question 2.3.5.** The powers of 2 ($2^0 = 1$, $2^1 = 2$, $2^2 = 4$, etc) arise frequently in computer science.  (For example, you may have noticed that storage on smartphones or USBs come in powers of 2, like 16 GB, 32 GB, or 64 GB.)  Use `np.arange` and the exponentiation operator `**` to compute the first 30 powers of 2, starting from `2^0`.\n\n*Hint 1:* `np.arange(1, 2**30, 1)` creates an array with $2^{30}$ elements and **will crash your kernel**.\n\n*Hint 2:* Part of your solution will involve `np.arange`, but your array shouldn't have more than 30 elements."
    },
    {
      "metadata": {
        "deletable": false,
        "trusted": false
      },
      "cell_type": "code",
      "source": "powers_of_2 = ...\npowers_of_2",
      "execution_count": null,
      "outputs": []
    },
    {
      "metadata": {
        "deletable": false,
        "trusted": false
      },
      "cell_type": "code",
      "source": "_ = ok.grade('q235')",
      "execution_count": null,
      "outputs": []
    },
    {
      "metadata": {},
      "cell_type": "markdown",
      "source": "## 3. Creating Tables\n\nAn array is useful for describing a single attribute of each element in a collection. For example, let's say our collection is all US States. Then an array could describe the land area of each state. \n\nTables extend this idea by containing multiple arrays, each one describing a different attribute for every element of a collection. In this way, tables allow us to not only store data about many entities but to also contain several kinds of data about each entity.\n\nFor example, in the cell below we have two arrays. The first one, `population_amounts`, was defined above in section 2.2 and contains the world population in each year (estimated by the US Census Bureau). The second array, `years`, contains the years themselves. These elements are in order, so the year and the world population for that year have the same index in their corresponding arrays."
    },
    {
      "metadata": {
        "trusted": false
      },
      "cell_type": "code",
      "source": "# Just run this cell\n\nyears = np.arange(1950, 2015+1)\nprint(\"Population column:\", population_amounts)\nprint(\"Years column:\", years)",
      "execution_count": null,
      "outputs": []
    },
    {
      "metadata": {},
      "cell_type": "markdown",
      "source": "Suppose we want to answer this question:\n\n> In which year did the world's population cross 6 billion?\n\nYou could technically answer this question just from staring at the arrays, but it's a bit convoluted, since you would have to count the position where the population first crossed 6 billion, then find the corresponding element in the years array. In cases like these, it might be easier to put the data into a *`Table`*, a 2-dimensional type of dataset. \n\nThe expression below:\n\n- creates an empty table using the expression `Table()`,\n- adds two columns by calling `with_columns` with four arguments,\n- assigns the result to the name `population`, and finally\n- evaluates `population` so that we can see the table.\n\nThe strings `\"Year\"` and `\"Population\"` are column labels that we have chosen. The names `population_amounts` and `years` were assigned above to two arrays of the **same length**. The function `with_columns` (you can find the documentation [here](http://data8.org/datascience/tables.html)) takes in alternating strings (to represent column labels) and arrays (representing the data in those columns). The strings and arrays are separated by commas."
    },
    {
      "metadata": {
        "trusted": false
      },
      "cell_type": "code",
      "source": "population = Table().with_columns(\n    \"Population\", population_amounts,\n    \"Year\", years\n)\npopulation",
      "execution_count": null,
      "outputs": []
    },
    {
      "metadata": {},
      "cell_type": "markdown",
      "source": "Now the data is combined into a single table! It's much easier to parse this data. If you need to know what the population was in 1959, for example, you can tell from a single glance."
    },
    {
      "metadata": {},
      "cell_type": "markdown",
      "source": "**Question 3.1.** In the cell below, we've created 2 arrays. Using the steps above, assign `top_10_movies` to a table that has two columns called \"Rating\" and \"Name\", which hold `top_10_movie_ratings` and `top_10_movie_names` respectively."
    },
    {
      "metadata": {
        "deletable": false,
        "trusted": false
      },
      "cell_type": "code",
      "source": "top_10_movie_ratings = make_array(9.2, 9.2, 9., 8.9, 8.9, 8.9, 8.9, 8.9, 8.9, 8.8)\ntop_10_movie_names = make_array(\n        'The Shawshank Redemption (1994)',\n        'The Godfather (1972)',\n        'The Godfather: Part II (1974)',\n        'Pulp Fiction (1994)',\n        \"Schindler's List (1993)\",\n        'The Lord of the Rings: The Return of the King (2003)',\n        '12 Angry Men (1957)',\n        'The Dark Knight (2008)',\n        'Il buono, il brutto, il cattivo (1966)',\n        'The Lord of the Rings: The Fellowship of the Ring (2001)')\n\ntop_10_movies = ...\n\n# We've put this next line here \n# so your table will get printed out \n# when you run this cell.\ntop_10_movies",
      "execution_count": null,
      "outputs": []
    },
    {
      "metadata": {
        "deletable": false,
        "scrolled": true,
        "trusted": false
      },
      "cell_type": "code",
      "source": "_ = ok.grade('q31')",
      "execution_count": null,
      "outputs": []
    },
    {
      "metadata": {},
      "cell_type": "markdown",
      "source": "#### Loading a table from a file\n\nIn most cases, we aren't going to go through the trouble of typing in all the data manually. Instead, we load them in from an external source, like a data file. There are many formats for data files, but CSV (\"comma-separated values\") is the most common.\n\n`Table.read_table(...)` takes one argument (a path to a data file in string format) and returns a table.  \n\n**Question 3.2.** `imdb.csv` contains a table of information about the 250 highest-rated movies on IMDb.  Load it as a table called `imdb`.\n\n(You may remember working with this table in Lab 2!)"
    },
    {
      "metadata": {
        "deletable": false,
        "trusted": false
      },
      "cell_type": "code",
      "source": "imdb = ...\nimdb",
      "execution_count": null,
      "outputs": []
    },
    {
      "metadata": {
        "deletable": false,
        "scrolled": true,
        "trusted": false
      },
      "cell_type": "code",
      "source": "_ = ok.grade('q32')",
      "execution_count": null,
      "outputs": []
    },
    {
      "metadata": {},
      "cell_type": "markdown",
      "source": "Where did `imdb.csv` come from? Take a look at [this lab's folder](./). You should see a file called `imdb.csv`.\n\nOpen up the `imdb.csv` file in that folder and look at the format. What do you notice? The `.csv` filename ending says that this file is in the [CSV (comma-separated value) format](http://edoceo.com/utilitas/csv-file-format)."
    },
    {
      "metadata": {
        "collapsed": true
      },
      "cell_type": "markdown",
      "source": "## 4. More Table Operations!\n\nNow that you've worked with arrays, let's add a few more methods to the list of table operations that you saw in Lab 2.\n\n### `column`\n\n`column` takes the column name of a table (in string format) as its argument and returns the values in that column as an **array**. "
    },
    {
      "metadata": {
        "scrolled": true,
        "trusted": false
      },
      "cell_type": "code",
      "source": "# Returns an array of movie names\ntop_10_movies.column('Name')",
      "execution_count": null,
      "outputs": []
    },
    {
      "metadata": {},
      "cell_type": "markdown",
      "source": "### `take`\nThe table method `take` takes as its argument an array of numbers.  Each number should be the index of a row in the table.  It returns a **new table** with only those rows. \n\nYou'll usually want to use `take` in conjunction with `np.arange` to take the first few rows of a table."
    },
    {
      "metadata": {
        "scrolled": true,
        "trusted": false
      },
      "cell_type": "code",
      "source": "# Take first 5 movies of top_10_movies\ntop_10_movies.take(np.arange(0, 5, 1))",
      "execution_count": null,
      "outputs": []
    },
    {
      "metadata": {},
      "cell_type": "markdown",
      "source": "The next three questions will give you practice with combining the operations you've learned in this lab and the previous one to answer questions about the `population` and `imdb` tables. "
    },
    {
      "metadata": {},
      "cell_type": "markdown",
      "source": "**Question 4.1.** Check out the `population` table from section 2 of this lab.  Compute the year when the world population first went above 6 billion. Assign the year to `year_population_crossed_6_billion`."
    },
    {
      "metadata": {
        "trusted": false
      },
      "cell_type": "code",
      "source": "# Run this cell to display the population table.\npopulation",
      "execution_count": null,
      "outputs": []
    },
    {
      "metadata": {
        "deletable": false,
        "trusted": false
      },
      "cell_type": "code",
      "source": "year_population_crossed_6_billion = ...\nyear_population_crossed_6_billion",
      "execution_count": null,
      "outputs": []
    },
    {
      "metadata": {
        "deletable": false,
        "trusted": false
      },
      "cell_type": "code",
      "source": "_ = ok.grade('q41')",
      "execution_count": null,
      "outputs": []
    },
    {
      "metadata": {},
      "cell_type": "markdown",
      "source": "**Question 4.2.** Find the average rating for movies released before the year 2000 and the average rating for movies released in the year 2000 or after for the movies in `imdb`.\n\n*Hint*: Think of the steps you need to do (take the average, find the ratings, find movies released in 20th/21st centuries), and try to put them in an order that makes sense."
    },
    {
      "metadata": {
        "deletable": false,
        "trusted": false
      },
      "cell_type": "code",
      "source": "before_2000 = ...\nafter_or_in_2000 = ...\nprint(\"Average before 2000 rating:\", before_2000)\nprint(\"Average after or in 2000 rating:\", after_or_in_2000)",
      "execution_count": null,
      "outputs": []
    },
    {
      "metadata": {
        "deletable": false,
        "trusted": false
      },
      "cell_type": "code",
      "source": "_ = ok.grade('q42')",
      "execution_count": null,
      "outputs": []
    },
    {
      "metadata": {},
      "cell_type": "markdown",
      "source": "**Question 4.3.** Here's a challenge: Find the number of movies that came out in *even* years.\n\n*Hint:* The operator `%` computes the remainder when dividing by a number.  So `5 % 2` is 1 and `6 % 2` is 0.  A number is even if the remainder is 0 when you divide by 2.\n\n*Hint 2:* `%` can be used on arrays, operating elementwise like `+` or `*`.  So `make_array(5, 6, 7) % 2` is `array([1, 0, 1])`.\n\n*Hint 3:* Create a column called \"Year Remainder\" that's the remainder when each movie's release year is divided by 2.  Make a copy of `imdb` that includes that column (`imdb.with_column(...)` returns a new table).  Then use `where` to find rows where that new column is equal to 0.  Then use `num_rows` to count the number of such rows."
    },
    {
      "metadata": {
        "deletable": false,
        "trusted": false
      },
      "cell_type": "code",
      "source": "num_even_year_movies = ...\nnum_even_year_movies",
      "execution_count": null,
      "outputs": []
    },
    {
      "metadata": {
        "deletable": false,
        "trusted": false
      },
      "cell_type": "code",
      "source": "_ = ok.grade('q43')",
      "execution_count": null,
      "outputs": []
    },
    {
      "metadata": {},
      "cell_type": "markdown",
      "source": "Congratulations, you're done with lab 3!  "
    },
    {
      "metadata": {
        "trusted": false
      },
      "cell_type": "code",
      "source": "# For your convenience, you can run this cell to run all the tests at once!\nimport os\n_ = [ok.grade(q[:-3]) for q in os.listdir(\"tests\") if q.startswith('q')]\n_ = ok.submit()",
      "execution_count": null,
      "outputs": []
    }
  ],
  "metadata": {
    "celltoolbar": "Raw Cell Format",
    "kernelspec": {
      "name": "python3",
      "display_name": "Python 3",
      "language": "python"
    },
    "language_info": {
      "mimetype": "text/x-python",
      "nbconvert_exporter": "python",
      "name": "python",
      "file_extension": ".py",
      "version": "3.5.4",
      "pygments_lexer": "ipython3",
      "codemirror_mode": {
        "version": 3,
        "name": "ipython"
      }
    }
  },
  "nbformat": 4,
  "nbformat_minor": 2
}