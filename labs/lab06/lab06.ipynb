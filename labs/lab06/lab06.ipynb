{
  "cells": [
    {
      "metadata": {},
      "cell_type": "markdown",
      "source": "## Lab 6: Examining the Therapeutic Touch\n\nWelcome to Lab 6!\n\nAfter such an extensive introduction to programming for data science, we are finally moving into the section of the course where we can apply our new skills to answer real questions.  \n\nIn this lab, we'll use testing techniques that were introduced in class to test the idea of the therapeutic touch, the idea that some practictioners can feel and massage your human energy field. "
    },
    {
      "metadata": {
        "trusted": false
      },
      "cell_type": "code",
      "source": "# Run this cell, but please don't change it.\n!pip install okpy\n!pip install datascience\n# These lines import the Numpy and Datascience modules.\nimport numpy as np\nfrom datascience import *\n\n# These lines do some fancy plotting magic\nimport matplotlib\n%matplotlib inline\nimport matplotlib.pyplot as plt\nplt.style.use('fivethirtyeight')\nimport warnings\nwarnings.simplefilter('ignore', FutureWarning)\nfrom matplotlib import patches\nfrom ipywidgets import interact, interactive, fixed\nimport ipywidgets as widgets\n\n# These lines load the tests.\nfrom client.api.notebook import Notebook\nok = Notebook('lab06.ok')\n",
      "execution_count": 1,
      "outputs": []
    },
    {
      "metadata": {},
      "cell_type": "markdown",
      "source": "### What is the Therapeutic Touch\n\nThe Therapeutic Touch (TT) is the idea that everyone can feel the Human Energy Field (HEF) around individuals. Certain practictioners claim they have the ability to feel the HEF and can massage it in order to promote health and relaxation in individuals. Those who practice TT have described different people's HEFs as \"warm as Jell-O\" and \"tactile as taffy\". \n\nTT was a popular technique used throughout the 20th century that was toted to be a great way to bring balance to a person's health. \n\n### Emily Rosa\n\n[Emily Rosa](https://en.wikipedia.org/wiki/Emily_Rosa) was a 4th grade student who had wide exposure to the world of TT due to her parents. Her parents were both medical practitioners and skeptics of the idea of TT. \n\nFor her 4th grade science fair project, Emily decided to test whether or not TT practitioners could truly interact with a person's HEF. "
    },
    {
      "metadata": {},
      "cell_type": "markdown",
      "source": "**Question 1:** Discuss with the individuals around you how you would set up an experiment to test this."
    },
    {
      "metadata": {},
      "cell_type": "markdown",
      "source": "*Write your answer here, replacing this text.*"
    },
    {
      "metadata": {},
      "cell_type": "markdown",
      "source": "### Emily's Experiment\n\nEmily's experiment was clean, simple, and effective. Due to her parents' occupations in the medical field, she had wide access to people who claimed to be TT practitioners. \n\nEmily took 21 TT practitioners and used them for her science experiment. She would take a TT practitioner and ask them to extend their hands through a screen (which they can't see through). Emily would be on the other side and would flip a coin. Depending on how the coin landed, she would put out either her left hand or her right hand. The TT practitioner would then have to correctly answer which hand Emily put out. Overall, through 210 samples, the practitioner picked the correct hand 44% of the time. \n\nEmily's main goal here was to test whether or not the TT practicioners' guesses were random, like the flip of a coin. In most medical experiments, this is the norm. We want to test whether or not the treatment has an effect, *not* whether or not the treatment actually works. \n\nWe will now begin to formulate this experiment in terms of the terminology we learned in this course. "
    },
    {
      "metadata": {},
      "cell_type": "markdown",
      "source": "**Question 2**: What is Emily's hypothesis for the experiment? What is the alternative hypothesis? Discuss with students around you to come to a conclusion. "
    },
    {
      "metadata": {
        "for_assignment_type": "student"
      },
      "cell_type": "markdown",
      "source": "**Your Answer Here:**\n\nEmily's Hypothesis: \n\nAlternative Hypothesis: "
    },
    {
      "metadata": {},
      "cell_type": "markdown",
      "source": "**Question 3:** Remember that the practitioner got the correct answer 44% of the time. According to Emily's hypothesis, on average, what proportion of times do we expect the practitioner to guess the correct hand? Make sure your answer is between 0 and 1. "
    },
    {
      "metadata": {
        "trusted": false
      },
      "cell_type": "code",
      "source": "expected_correct = ...\nexpected_correct",
      "execution_count": 2,
      "outputs": []
    },
    {
      "metadata": {
        "trusted": false
      },
      "cell_type": "code",
      "source": "_ = ok.grade('q3')",
      "execution_count": 3,
      "outputs": []
    },
    {
      "metadata": {},
      "cell_type": "markdown",
      "source": "The goal now is to see if our deviation from this expected proportion of correct answers is due to something other than chance. \n\n**Question 4:** What is a statistic that we can use to assess Emily's model? Assign `valid_stat` to an array of integer(s) representing the following options: \n\n1. The difference of the expected percent correct and the actual percent correct\n2. The absolute difference of the expected percent correct and the actual percent correct\n3. The sum of the expected percent correct and the actual percent correct\n\nThere may be more than one correct answer. "
    },
    {
      "metadata": {
        "trusted": false
      },
      "cell_type": "code",
      "source": "valid_stat = ...\nvalid_stat",
      "execution_count": 4,
      "outputs": []
    },
    {
      "metadata": {
        "trusted": false
      },
      "cell_type": "code",
      "source": "_ = ok.grade('q4')",
      "execution_count": 5,
      "outputs": []
    },
    {
      "metadata": {},
      "cell_type": "markdown",
      "source": "**Question 5:** Define the function `statistic` which takes in an expected proportion and an actual proportion, and returns the value of the statistic chosen above. Assume that you are taking in proportions, but you want to return your answer as a percentage. \n\n*Hint:* Remember we are asking for a **percentage**, not a proportion. "
    },
    {
      "metadata": {
        "trusted": false
      },
      "cell_type": "code",
      "source": "def statistic(expected_prop, actual_prop):\n    ...\n",
      "execution_count": 6,
      "outputs": []
    },
    {
      "metadata": {
        "trusted": false
      },
      "cell_type": "code",
      "source": "_ = ok.grade('q5')",
      "execution_count": 7,
      "outputs": []
    },
    {
      "metadata": {},
      "cell_type": "markdown",
      "source": "**Question 6:** Use your newly defined function to calculate the observed statistic from Emily's experiment. "
    },
    {
      "metadata": {
        "trusted": false
      },
      "cell_type": "code",
      "source": "observed_statistic = ...\nobserved_statistic",
      "execution_count": 8,
      "outputs": []
    },
    {
      "metadata": {
        "trusted": false
      },
      "cell_type": "code",
      "source": "_ = ok.grade('q6')",
      "execution_count": 9,
      "outputs": []
    },
    {
      "metadata": {},
      "cell_type": "markdown",
      "source": "**Is this observed statistic consistent under Emily’s model? Or is the deviation from the expected proportion due to something other than chance?**\n\nIn order to answer this question, we must simulate the experiment as though Emily's hypothesis was true, and calculate the statistic per simulation.\n\n**Question 7:** To begin simulating, we should start by creating an array with two items in it. The first item should be the proportion of times, assuming that Emily's hypothesis is true, a TT practictioner picks the correct hand. The second item should be the proportion of times, under the same assumption, that the TT practicioner picks the incorrect hand. Assign `model_proportions` to this array. \n\nAfter this, use the `sample_proportions` function to simulate Emily running through this experiment 210 times (as done in real life), and assign the proportion of *correct answers* to `simulation_proportion`. Lastly, define `one_statistic` to the statistic of this one simulation. \n\n*Hint:* `sample_proportions` usage can be found here [here](http://data8.org/sp19/python-reference.html)"
    },
    {
      "metadata": {
        "trusted": false
      },
      "cell_type": "code",
      "source": "model_proportions = ...\nsimulation_proportion = ...\none_statistic = ...\none_statistic",
      "execution_count": 10,
      "outputs": []
    },
    {
      "metadata": {
        "trusted": false
      },
      "cell_type": "code",
      "source": "_ = ok.grade('q7')",
      "execution_count": 11,
      "outputs": []
    },
    {
      "metadata": {},
      "cell_type": "markdown",
      "source": "**Question 8:** Let's now see what the distribution of statistics is actually like under Emily's model. \n\nDefine the function `simulation_and_statistic` to take in the number of times we want to run the experiment (`num_guesses`), the `model_proportions` array, and the expected proportion of times a TT practitioner would guess correctly under Emily's model. The function should simulate Emily running through the experiment 210 times and return the statistic of this one simulation. \n\nUsing this function, assign `simulated_statistics` to an array of 1000 statistics that you simulated assuming Emily's hypothesis is true. \n\n*Hint:* This should follow the same pattern as normal simulations, in combination with the code you did in the previous problem.  "
    },
    {
      "metadata": {
        "for_assignment_type": "student",
        "scrolled": true,
        "trusted": false
      },
      "cell_type": "code",
      "source": "def simulation_and_statistic(num_guesses, model_proportions, expected_correct):\n    '''Simulates Emily running through this experiment 210 times.\n    Returns one statistic from the simulation.'''\n    ...\n    return ...\n\nnum_repetitions = 1000\nnum_guesses = 210\n\nsimulated_statistics = ...\n\nfor ... in ...:\n    ...\n",
      "execution_count": 12,
      "outputs": []
    },
    {
      "metadata": {
        "trusted": false
      },
      "cell_type": "code",
      "source": "_ = ok.grade('q8')",
      "execution_count": 15,
      "outputs": []
    },
    {
      "metadata": {},
      "cell_type": "markdown",
      "source": "Let's view the distribution of the simulated statistics under Emily's hypothesis, and visually compare how the observed statistic lies against the rest. "
    },
    {
      "metadata": {
        "trusted": false
      },
      "cell_type": "code",
      "source": "t = Table().with_column('Simulated Statistics', simulated_statistics)\nt.hist()\nplt.scatter(observed_statistic, 0, color='red', s=30);",
      "execution_count": 16,
      "outputs": []
    },
    {
      "metadata": {},
      "cell_type": "markdown",
      "source": "We can make a visual argument as to whether we believe the observed statistic is consistent with Emily’s hypothesis. Formally, data scientists look at the area at or to the right of the observed statistic, and if that’s small (less than 5%), we declare it to be inconsistent."
    },
    {
      "metadata": {},
      "cell_type": "markdown",
      "source": "**Question 9:** Calculate the proportion of simulated statistics greater than or equal to the observed statistic. "
    },
    {
      "metadata": {
        "scrolled": true,
        "trusted": false
      },
      "cell_type": "code",
      "source": "proportion_greater_or_equal = sum(simulated_statistics>=observed_statistic)/\\\n...\nproportion_greater_or_equal",
      "execution_count": 17,
      "outputs": []
    },
    {
      "metadata": {
        "trusted": false
      },
      "cell_type": "code",
      "source": "_ = ok.grade('q9')",
      "execution_count": 18,
      "outputs": []
    },
    {
      "metadata": {},
      "cell_type": "markdown",
      "source": "If the proportion of simulated statistics greater than or equal to the observed statistc is less than or equal to .05, then this is in favor of our alternative and we reject Emily's hypothesis. Otherwise, we do not have enough evidence against Emily's hypothesis. Note that this does **not** say that we accept Emily's hypothesis, but rather, that we just **fail to reject it**. \n\nThis should help you make your own conclusions about Emily Rosa's experiment. \n\nTherapeutic touch fell out of use after this experiment, which was eventually accepted into one of the premier medical journals. TT practitioners hit back and accused Emily and her family of tampering with the results, while some claimed that Emily's bad spiritual mood towards therapeutic touch made it difficult to read her HEF. Whatever it may be, Emily's experiment is a classic example about how anyone, with the right resources, can test anything they want!\n\nThink to yourself and be prepared to talk with your learning assistant and TA about the following questions as you get checked off: \n\n1. Do we reject Emily's hypothesis, or fail to reject it? \n2. What does this mean in terms of Emily's experiment? Do the TT practitioners' answers follow an even chance model or is there something else at play? \n\nCongratulations on finishing Lab 6!"
    },
    {
      "metadata": {
        "trusted": false
      },
      "cell_type": "code",
      "source": "# For your convenience, you can run this cell to run all the tests at once!\nimport os\n_ = [ok.grade(q[:-3]) for q in os.listdir(\"tests\") if q.startswith('q')]",
      "execution_count": 18,
      "outputs": []
    },
    {
      "metadata": {
        "collapsed": true,
        "trusted": false
      },
      "cell_type": "code",
      "source": "",
      "execution_count": null,
      "outputs": []
    }
  ],
  "metadata": {
    "celltoolbar": "Raw Cell Format",
    "kernelspec": {
      "name": "python3",
      "display_name": "Python 3",
      "language": "python"
    },
    "language_info": {
      "mimetype": "text/x-python",
      "nbconvert_exporter": "python",
      "name": "python",
      "pygments_lexer": "ipython3",
      "version": "3.5.4",
      "file_extension": ".py",
      "codemirror_mode": {
        "version": 3,
        "name": "ipython"
      }
    }
  },
  "nbformat": 4,
  "nbformat_minor": 2
}