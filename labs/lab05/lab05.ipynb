{
  "cells": [
    {
      "metadata": {},
      "cell_type": "markdown",
      "source": "# Lab 5: Simulations\n\nWelcome to Lab 5! \n\nWe will go over [iteration](https://www.inferentialthinking.com/chapters/09/2/Iteration.html) and [simulations](https://www.inferentialthinking.com/chapters/09/3/Simulation.html), as well as introduce the concept of [randomness](https://www.inferentialthinking.com/chapters/09/Randomness.html).\n\nThe data used in this lab will contain salary data and other statistics for basketball players from the 2014-2015 NBA season. This data was collected from the following sports analytic sites: [Basketball Reference](http://www.basketball-reference.com) and [Spotrac](http://www.spotrac.com).\n\nFirst, set up the tests and imports by running the cell below."
    },
    {
      "metadata": {
        "trusted": false
      },
      "cell_type": "code",
      "source": "# Run this cell, but please don't change it.\n!pip install okpy\n!pip install datascience\n# These lines import the Numpy and Datascience modules.\nimport numpy as np\nfrom datascience import *\n\n# These lines do some fancy plotting magic\nimport matplotlib\n%matplotlib inline\nimport matplotlib.pyplot as plt\nplt.style.use('fivethirtyeight')\n\n# Don't change this cell; just run it. \nfrom client.api.notebook import Notebook\nok = Notebook('lab05.ok')",
      "execution_count": 37,
      "outputs": []
    },
    {
      "metadata": {},
      "cell_type": "markdown",
      "source": "## 1. Nachos and Conditionals"
    },
    {
      "metadata": {},
      "cell_type": "markdown",
      "source": "In Python, the boolean data type contains only two unique values:  `True` and `False`. Expressions containing comparison operators such as `<` (less than), `>` (greater than), and `==` (equal to) evaluate to Boolean values. A list of common comparison operators can be found below!\n\n<img src=\"comparisons.png\">"
    },
    {
      "metadata": {},
      "cell_type": "markdown",
      "source": "Run the cell below to see an example of a comparison operator in action."
    },
    {
      "metadata": {
        "trusted": false
      },
      "cell_type": "code",
      "source": "3 > 1 + 1",
      "execution_count": 38,
      "outputs": []
    },
    {
      "metadata": {},
      "cell_type": "markdown",
      "source": "We can even assign the result of a comparison operation to a variable."
    },
    {
      "metadata": {
        "trusted": false
      },
      "cell_type": "code",
      "source": "result = 10 / 2 == 5\nresult",
      "execution_count": 39,
      "outputs": []
    },
    {
      "metadata": {},
      "cell_type": "markdown",
      "source": "Arrays are compatible with comparison operators. The output is an array of boolean values."
    },
    {
      "metadata": {
        "trusted": false
      },
      "cell_type": "code",
      "source": "make_array(1, 5, 7, 8, 3, -1) > 3",
      "execution_count": 40,
      "outputs": []
    },
    {
      "metadata": {},
      "cell_type": "markdown",
      "source": "One day, when you come home after a long week, you see a hot bowl of nachos waiting on the dining table! Let's say that whenever you take a nacho from the bowl, it will either have only **cheese**, only **salsa**, **both** cheese and salsa, or **neither** cheese nor salsa (a sad tortilla chip indeed). \n\nLet's try and simulate taking nachos from the bowl at random using the function, `np.random.choice(...)`."
    },
    {
      "metadata": {},
      "cell_type": "markdown",
      "source": "### `np.random.choice`\n\n`np.random.choice` picks one item at random from the given array. It is equally likely to pick any of the items. Run the cell below several times, and observe how the results change."
    },
    {
      "metadata": {
        "trusted": false
      },
      "cell_type": "code",
      "source": "nachos = make_array('cheese', 'salsa', 'both', 'neither')\nnp.random.choice(nachos)",
      "execution_count": 41,
      "outputs": []
    },
    {
      "metadata": {},
      "cell_type": "markdown",
      "source": "To repeat this process multiple times, pass in an int `n` as the second argument. By default, `np.random.choice` samples **with replacement** and returns an *array* of items. \n\nRun the next cell to see an example of sampling with replacement 10 times from the `nachos` array."
    },
    {
      "metadata": {
        "trusted": false
      },
      "cell_type": "code",
      "source": "np.random.choice(nachos, 10)",
      "execution_count": 42,
      "outputs": []
    },
    {
      "metadata": {},
      "cell_type": "markdown",
      "source": "**Question 1.** Assume we took ten nachos at random, and stored the results in an array called `ten_nachos` as done below. Find the number of nachos with only cheese using code (do not hardcode the answer).  \n\n*Hint:* Our solution involves a comparison operator (e.g. `=`, `<`, ...) and the `np.count_nonzero` method."
    },
    {
      "metadata": {
        "trusted": false
      },
      "cell_type": "code",
      "source": "ten_nachos = make_array('neither', 'cheese', 'both', 'both', 'cheese', 'salsa', 'both', 'neither', 'cheese', 'both')\nnumber_cheese = ...\nnumber_cheese",
      "execution_count": 43,
      "outputs": []
    },
    {
      "metadata": {
        "deletable": false,
        "trusted": false
      },
      "cell_type": "code",
      "source": "_ = ok.grade('q1_1')",
      "execution_count": 44,
      "outputs": []
    },
    {
      "metadata": {},
      "cell_type": "markdown",
      "source": "**Conditional Statements**\n\nA conditional statement is a multi-line statement that allows Python to choose among different alternatives based on the truth value of an expression.\n\nHere is a basic example.\n\n```\ndef sign(x):\n    if x > 0:\n        return 'Positive'\n    else:\n        return 'Negative'\n```\n\nIf the input `x` is greater than `0`, we return the string `'Positive'`. Otherwise, we return `'Negative'`.\n\nIf we want to test multiple conditions at once, we use the following general format.\n\n```\nif <if expression>:\n    <if body>\nelif <elif expression 0>:\n    <elif body 0>\nelif <elif expression 1>:\n    <elif body 1>\n...\nelse:\n    <else body>\n```\n\nOnly the body for the first conditional expression that is true will be evaluated. Each `if` and `elif` expression is evaluated and considered in order, starting at the top. As soon as a true value is found, the corresponding body is executed, and the rest of the conditional statement is skipped. If none of the `if` or `elif` expressions are true, then the `else body` is executed. \n\nFor more examples and explanation, refer to the section on conditional statements [here](https://www.inferentialthinking.com/chapters/09/1/conditional-statements.html)."
    },
    {
      "metadata": {},
      "cell_type": "markdown",
      "source": "**Question 2.** Complete the following conditional statement so that the string `'More please'` is assigned to the variable `say_please` if the number of nachos with cheese in `ten_nachos` is less than `5`.\n\n*Hint*: You should be using `number_cheese` from Question 1."
    },
    {
      "metadata": {
        "for_assignment_type": "student",
        "trusted": false
      },
      "cell_type": "code",
      "source": "say_please = '?'\n\nif ...:\n    say_please = 'More please'\n    \nsay_please",
      "execution_count": 45,
      "outputs": []
    },
    {
      "metadata": {
        "deletable": false,
        "trusted": false
      },
      "cell_type": "code",
      "source": "_ = ok.grade('q1_2')",
      "execution_count": 47,
      "outputs": []
    },
    {
      "metadata": {},
      "cell_type": "markdown",
      "source": "**Question 3.** Write a function called `nacho_reaction` that returns a string based on the type of nacho passed in as an argument. From top to bottom, the conditions should correspond to: `'cheese'`, `'salsa'`, `'both'`, `'neither'`. \n\n*Hint:* If you're failing the test, double check the spelling of your reactions."
    },
    {
      "metadata": {
        "for_assignment_type": "student",
        "trusted": false
      },
      "cell_type": "code",
      "source": "def nacho_reaction(nacho):\n    if ...:\n        return 'Cheesy!'\n    # next condition should return 'Spicy!'\n    ...\n    # next condition should return 'Wow!'\n    ...\n    # next condition should return 'Meh.'\n    ...\n\nspicy_nacho = nacho_reaction('salsa')\nspicy_nacho",
      "execution_count": 48,
      "outputs": []
    },
    {
      "metadata": {
        "deletable": false,
        "trusted": false
      },
      "cell_type": "code",
      "source": "_ = ok.grade('q1_3')",
      "execution_count": 50,
      "outputs": []
    },
    {
      "metadata": {},
      "cell_type": "markdown",
      "source": "**Question 4.** Create a table `ten_nachos_reactions` that consists of the nachos in `ten_nachos` as well as the reactions for each of those nachos. \n\n*Hint:* Use the `apply` method. "
    },
    {
      "metadata": {
        "for_assignment_type": "student",
        "trusted": false
      },
      "cell_type": "code",
      "source": "ten_nachos_tbl = Table().with_column('Nachos', ten_nachos)\n...\nten_nachos_reactions",
      "execution_count": 51,
      "outputs": []
    },
    {
      "metadata": {
        "deletable": false,
        "scrolled": true,
        "trusted": false
      },
      "cell_type": "code",
      "source": "_ = ok.grade('q1_4')",
      "execution_count": 53,
      "outputs": []
    },
    {
      "metadata": {},
      "cell_type": "markdown",
      "source": "**Question 5.** Using code, find the number of 'Wow!' reactions for the nachos in `ten_nachos_reactions`."
    },
    {
      "metadata": {
        "trusted": false
      },
      "cell_type": "code",
      "source": "number_wow_reactions = ...\nnumber_wow_reactions",
      "execution_count": 54,
      "outputs": []
    },
    {
      "metadata": {
        "trusted": false
      },
      "cell_type": "code",
      "source": "_ = ok.grade('q1_5')",
      "execution_count": 55,
      "outputs": []
    },
    {
      "metadata": {},
      "cell_type": "markdown",
      "source": "**Question 6.** Allie is playing darts. Her dartboard contains ten equal-sized zones with point values from 1 to 10. Write code that simulates her total score after 1000 dart tosses.\n\n*Hint:* First decide the possible values you can take in the experiment (point values in this case). Then use `np.random.choice` to simulate Allie's tosses. Finally, sum up the scores to get Allie's total score."
    },
    {
      "metadata": {
        "for_assignment_type": "student",
        "trusted": false
      },
      "cell_type": "code",
      "source": "possible_point_values = ...\nnum_tosses = 1000\nsimulated_tosses = ...\ntotal_score = ...\n\ntotal_score",
      "execution_count": 56,
      "outputs": []
    },
    {
      "metadata": {
        "trusted": false
      },
      "cell_type": "code",
      "source": "_ = ok.grade('q1_6')",
      "execution_count": 58,
      "outputs": []
    },
    {
      "metadata": {},
      "cell_type": "markdown",
      "source": "## 2. Simulations and For Loops\nUsing a `for` statement, we can perform a task multiple times. This is known as iteration."
    },
    {
      "metadata": {},
      "cell_type": "markdown",
      "source": "One use of iteration is to loop through a set of values. For instance, we can print out all of the colors of the rainbow."
    },
    {
      "metadata": {
        "trusted": false
      },
      "cell_type": "code",
      "source": "rainbow = make_array(\"red\", \"orange\", \"yellow\", \"green\", \"blue\", \"indigo\", \"violet\")\n\nfor color in rainbow:\n    print(color)",
      "execution_count": 59,
      "outputs": []
    },
    {
      "metadata": {},
      "cell_type": "markdown",
      "source": "We can see that the indented part of the `for` loop, known as the body, is executed once for each item in `rainbow`. Note that the name `color` is arbitrary; we could easily have named it something else. The important thing is we stay consistent throughout the `for` loop. "
    },
    {
      "metadata": {
        "trusted": false
      },
      "cell_type": "code",
      "source": "for another_name in rainbow:\n    print(another_name)",
      "execution_count": 60,
      "outputs": []
    },
    {
      "metadata": {},
      "cell_type": "markdown",
      "source": "In general, however, we would like the variable name to be somewhat informative. "
    },
    {
      "metadata": {},
      "cell_type": "markdown",
      "source": "**Question 1.** In the following cell, we've loaded the text of _Pride and Prejudice_ by Jane Austen, split it into individual words, and stored these words in an array `p_and_p_words`. Using a `for` loop, assign `longer_than_five` to the number of words in the novel that are more than 5 letters long.\n\n*Hint*: You can find the number of letters in a word with the `len` function."
    },
    {
      "metadata": {
        "for_assignment_type": "student",
        "trusted": false
      },
      "cell_type": "code",
      "source": "austen_string = open('Austen_PrideAndPrejudice.txt', encoding='utf-8').read()\np_and_p_words = np.array(austen_string.split())\n\nlonger_than_five = ...\n\n# a for loop would be useful here\n\n\nlonger_than_five",
      "execution_count": 61,
      "outputs": []
    },
    {
      "metadata": {
        "deletable": false,
        "trusted": false
      },
      "cell_type": "code",
      "source": "_ = ok.grade('q2_1')",
      "execution_count": 63,
      "outputs": []
    },
    {
      "metadata": {},
      "cell_type": "markdown",
      "source": "**Question 2.** Using a simulation with 10,000 trials, assign `chance_of_all_different` to an estimate of the chance that if you pick two words from Pride and Prejudice uniformly at random (with replacement), they each have different lengths. \n\n*Hint 1*: What function did we use in section 1 to sample at random with replacement from an array? \n\n*Hint 2*: Remember that `!=` checks for non-equality between two items."
    },
    {
      "metadata": {
        "for_assignment_type": "student",
        "trusted": false
      },
      "cell_type": "code",
      "source": "trials = 10000\ndifferent = ...\n\nfor ... in ...:\n    ...\n\nchance_of_all_different = ...\n\nchance_of_all_different",
      "execution_count": 64,
      "outputs": []
    },
    {
      "metadata": {
        "deletable": false,
        "trusted": false
      },
      "cell_type": "code",
      "source": "_ = ok.grade('q2_2')",
      "execution_count": 66,
      "outputs": []
    },
    {
      "metadata": {},
      "cell_type": "markdown",
      "source": "## 3. Sampling Basketball Data\n\nRun the cell below to load the player and salary data. "
    },
    {
      "metadata": {
        "trusted": false
      },
      "cell_type": "code",
      "source": "player_data = Table().read_table(\"player_data.csv\")\nsalary_data = Table().read_table(\"salary_data.csv\")\nfull_data = salary_data.join(\"PlayerName\", player_data, \"Name\")\n\n# The show method immediately displays the contents of a table. \n# This way, we can display the top of two tables using a single cell.\nplayer_data.show(3)\nsalary_data.show(3)\nfull_data.show(3)",
      "execution_count": 67,
      "outputs": []
    },
    {
      "metadata": {},
      "cell_type": "markdown",
      "source": "Rather than getting data on every player, imagine that we had gotten data on only a smaller subset of the players.  For 492 players, it's not so unreasonable to expect to see all the data, but usually we aren't so lucky.  Instead, we often make statistical inferences about a large underlying population using a smaller sample.\n\n### Statistical inference\n\nA *statistical inference* is a statement about some statistic of the underlying population, such as \"the average salary of NBA players in 2014 was $3\".  You may have heard the word \"inference\" used in other contexts.  It's important to keep in mind that statistical inferences, unlike, say, logical inferences, can be wrong.\n\nA general strategy for inference using samples is to estimate statistics of the population by computing the same statistics on a sample.  This strategy sometimes works well and sometimes doesn't.  The degree to which it gives us useful answers depends on several factors, and we'll touch lightly on a few of those today.\n\nOne very important factor in the utility of samples is how they were gathered.  We have prepared some example sample datasets to simulate inference from different kinds of samples for the NBA player dataset.  Later we'll ask you to create your own samples to see how they behave."
    },
    {
      "metadata": {},
      "cell_type": "markdown",
      "source": "To save typing and increase the clarity of your code, we will package the analysis code into a few functions. This will be useful in the rest of the lab as we will repeatedly need to create histograms and collect summary statistics from that data."
    },
    {
      "metadata": {},
      "cell_type": "markdown",
      "source": "We've defined the `histograms` function below, which takes a table with columns `Age` and `Salary` and draws a histogram for each one. It uses bin widths of 1 year for `Age` and $1,000,000 for `Salary`."
    },
    {
      "metadata": {
        "scrolled": true,
        "trusted": false
      },
      "cell_type": "code",
      "source": "def histograms(t):\n    ages = t.column('Age')\n    salaries = t.column('Salary')/1000000\n    t1 = t.drop('Salary').with_column('Salary', salaries)\n    age_bins = np.arange(min(ages), max(ages) + 2, 1) \n    salary_bins = np.arange(min(salaries), max(salaries) + 1, 1)\n    t1.hist('Age', bins=age_bins, unit='year')\n    plt.title('Age distribution')\n    t1.hist('Salary', bins=salary_bins, unit='million dollars')\n    plt.title('Salary distribution') \n    \nhistograms(full_data)\nprint('Two histograms should be displayed below')",
      "execution_count": 68,
      "outputs": []
    },
    {
      "metadata": {},
      "cell_type": "markdown",
      "source": "**Question 1**. Create a function called `compute_statistics` that takes a table containing ages and salaries and:\n- Draws a histogram of ages\n- Draws a histogram of salaries\n- Returns a two-element array containing the average age and average salary (in that order)\n\nYou can call the `histograms` function to draw the histograms! \n\n*Note:* More charts will be displayed when running the test cell. Please feel free to ignore the charts."
    },
    {
      "metadata": {
        "trusted": false
      },
      "cell_type": "code",
      "source": "def compute_statistics(age_and_salary_data):\n    ...\n    age = ...\n    salary = ...\n    ...\n    \n\nfull_stats = compute_statistics(full_data)\nfull_stats",
      "execution_count": 69,
      "outputs": []
    },
    {
      "metadata": {
        "deletable": false,
        "scrolled": true,
        "trusted": false
      },
      "cell_type": "code",
      "source": "_ = ok.grade('q3_1') # Warning: Charts will be displayed while running this test",
      "execution_count": 70,
      "outputs": []
    },
    {
      "metadata": {},
      "cell_type": "markdown",
      "source": "### Convenience sampling\nOne sampling methodology, which is **generally a bad idea**, is to choose players who are somehow convenient to sample.  For example, you might choose players from one team who are near your house, since it's easier to survey them.  This is called, somewhat pejoratively, *convenience sampling*.\n\nSuppose you survey only *relatively new* players with ages less than 22.  (The more experienced players didn't bother to answer your surveys about their salaries.)\n\n**Question 2.**  Assign `convenience_sample_data` to a subset of `full_data` that contains only the rows for players under the age of 22."
    },
    {
      "metadata": {
        "trusted": false
      },
      "cell_type": "code",
      "source": "convenience_sample = ...\nconvenience_sample",
      "execution_count": 71,
      "outputs": []
    },
    {
      "metadata": {
        "deletable": false,
        "trusted": false
      },
      "cell_type": "code",
      "source": "_ = ok.grade('q3_2')",
      "execution_count": 72,
      "outputs": []
    },
    {
      "metadata": {},
      "cell_type": "markdown",
      "source": "**Question 3.** Assign `convenience_stats` to an array of the average age and average salary of your convenience sample, using the `compute_statistics` function.  Since they're computed on a sample, these are called *sample averages*. "
    },
    {
      "metadata": {
        "trusted": false
      },
      "cell_type": "code",
      "source": "convenience_stats = ...\nconvenience_stats",
      "execution_count": 73,
      "outputs": []
    },
    {
      "metadata": {
        "deletable": false,
        "trusted": false
      },
      "cell_type": "code",
      "source": "_ = ok.grade('q3_3')",
      "execution_count": 74,
      "outputs": []
    },
    {
      "metadata": {},
      "cell_type": "markdown",
      "source": "Next, we'll compare the convenience sample salaries with the full data salaries in a single histogram. To do that, we'll need to use the `bin_column` option of the `hist` method, which indicates that all columns are counts of the bins in a particular column. The following cell does not require any changes; **just run it**."
    },
    {
      "metadata": {
        "trusted": false
      },
      "cell_type": "code",
      "source": "def compare_salaries(first, second, first_title, second_title):\n    \"\"\"Compare the salaries in two tables.\"\"\"\n    first_salary_in_millions = first.column('Salary')/1000000\n    second_salary_in_millions = second.column('Salary')/1000000\n    first_tbl_millions = first.drop('Salary').with_column('Salary', first_salary_in_millions)\n    second_tbl_millions = second.drop('Salary').with_column('Salary', second_salary_in_millions)\n    max_salary = max(np.append(first_tbl_millions.column('Salary'), second_tbl_millions.column('Salary')))\n    bins = np.arange(0, max_salary+1, 1)\n    first_binned = first_tbl_millions.bin('Salary', bins=bins).relabeled(1, first_title)\n    second_binned = second_tbl_millions.bin('Salary', bins=bins).relabeled(1, second_title)\n    first_binned.join('bin', second_binned).hist(bin_column='bin', unit='million dollars')\n    plt.title('Salaries for all players and convenience sample')\n\ncompare_salaries(full_data, convenience_sample, 'All Players', 'Convenience Sample')",
      "execution_count": 75,
      "outputs": []
    },
    {
      "metadata": {},
      "cell_type": "markdown",
      "source": "**Question 4.** Does the convenience sample give us an accurate picture of the salary of the full population? Would you expect it to, in general?  Before you move on, write a short answer in English below.  You can refer to the statistics calculated above or perform your own analysis."
    },
    {
      "metadata": {
        "deletable": false,
        "manual_problem_id": "convenience_3_5"
      },
      "cell_type": "markdown",
      "source": "*Write your answer here, replacing this text.*"
    },
    {
      "metadata": {},
      "cell_type": "markdown",
      "source": "### Simple random sampling\nA more justifiable approach is to sample uniformly at random from the players.  In a **simple random sample (SRS) without replacement**, we ensure that each player is selected at most once. Imagine writing down each player's name on a card, putting the cards in an box, and shuffling the box.  Then, pull out cards one by one and set them aside, stopping when the specified sample size is reached."
    },
    {
      "metadata": {},
      "cell_type": "markdown",
      "source": "### Producing simple random samples\nSometimes, it’s useful to take random samples even when we have the data for the whole population. It helps us understand sampling accuracy.\n\n### `sample`\n\nThe table method `sample` produces a random sample from the table. By default, it draws at random *with replacement* from the rows of a table. It takes in the sample size as its argument and returns a *table* with only the rows that were selected. The optional argument `with_replacement=False` specifies that the sample should be drawn without replacement.\n\nRun the cell below to see an example call."
    },
    {
      "metadata": {
        "trusted": false
      },
      "cell_type": "code",
      "source": "# Just run this cell\n\nsalary_data.sample(5, with_replacement=False)",
      "execution_count": 76,
      "outputs": []
    },
    {
      "metadata": {},
      "cell_type": "markdown",
      "source": "**Question 5.** Produce a simple random sample of size 44 from `full_data`. Run your analysis on it again.  Run the cell a few times to see how the histograms and statistics change across different samples.\n\n- How much does the average age change across samples? \n- What about average salary?"
    },
    {
      "metadata": {
        "scrolled": false,
        "trusted": false
      },
      "cell_type": "code",
      "source": "my_small_srswor_data = ...\nmy_small_stats = ...\nmy_small_stats",
      "execution_count": 83,
      "outputs": []
    },
    {
      "metadata": {
        "deletable": false,
        "manual_problem_id": "q_3_7_samples"
      },
      "cell_type": "markdown",
      "source": "*Write your answer here, replacing this text.*"
    },
    {
      "metadata": {},
      "cell_type": "markdown",
      "source": "**Question 6.** As in the previous question, analyze several simple random samples of size 100 from `full_data`.  \n- Do the histogram shapes seem to change more or less across samples of 100 than across samples of size 44?  \n- Are the sample averages and histograms closer to their true values/shape for age or for salary?  What did you expect to see?"
    },
    {
      "metadata": {
        "scrolled": false,
        "trusted": false
      },
      "cell_type": "code",
      "source": "my_large_srswor_data = ...\nmy_large_stats = ...\nmy_large_stats",
      "execution_count": 78,
      "outputs": []
    },
    {
      "metadata": {
        "deletable": false,
        "manual_problem_id": "large_srs_q"
      },
      "cell_type": "markdown",
      "source": "*Write your answer here, replacing this text.*"
    },
    {
      "metadata": {},
      "cell_type": "markdown",
      "source": "Congratulations, you're done with Lab 5!  "
    },
    {
      "metadata": {
        "scrolled": false,
        "trusted": false
      },
      "cell_type": "code",
      "source": "# For your convenience, you can run this cell to run all the tests at once!\nimport os\n_ = [ok.grade(q[:-3]) for q in os.listdir(\"tests\") if q.startswith('q')]",
      "execution_count": 79,
      "outputs": []
    }
  ],
  "metadata": {
    "anaconda-cloud": {},
    "celltoolbar": "Raw Cell Format",
    "kernelspec": {
      "name": "python3",
      "display_name": "Python 3",
      "language": "python"
    },
    "language_info": {
      "mimetype": "text/x-python",
      "nbconvert_exporter": "python",
      "name": "python",
      "file_extension": ".py",
      "version": "3.5.4",
      "pygments_lexer": "ipython3",
      "codemirror_mode": {
        "version": 3,
        "name": "ipython"
      }
    }
  },
  "nbformat": 4,
  "nbformat_minor": 1
}